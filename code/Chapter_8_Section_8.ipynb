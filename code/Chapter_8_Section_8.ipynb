{
 "cells": [
  {
   "cell_type": "markdown",
   "id": "889e4c77",
   "metadata": {},
   "source": [
    "# Planetary Arrival: Flyby\n",
    "\n",
    "As we discussed in the [last section](./planetary-arrival-capture.md), the options that a spacecraft has when arriving at a planet are to impact the planet, enter a capture orbit, or do a flyby to change its heliocentric velocity vector. In this section, we'll consider the case of a flyby of the arrival planet.\n",
    "\n",
    "Let's begin with a few definitions. All capital letters will refer to heliocentric velocities, while lower case letters refer to geocentric velocities. Furthermore, the superscript $s$ will refer to the spacecraft, while variables with no superscript refer to the planet. Finally, subscript 1 refers to the arrival point at the sphere of influence and subscript 2 refers to the departure point from the sphere of influence.\n",
    "\n",
    "The goal in this analysis is to determine the heliocentric velocity vector when the spacecraft exits the sphere of influence, $\\vector{V}_2^s$. This vector is then used to determine the orbital elements of the spacecraft's modified heliocentric orbit.\n",
    "\n",
    "To calculate the departure velocity vector, we will treat the arrival and departure events independently. We will also remove the assumption that $v_{\\infty}$ be parallel to the planet's heliocentric velocity vector.\n",
    "\n",
    "## Arrival Trajectory\n",
    "\n",
    "When the spacecraft arrives at the target planet, it's trajectory will be a hyperbola relative to the planet. When crossing the sphere of influence of the planet, the spacecraft can be in one of two orientations:\n",
    "\n",
    "1. crossing in front of the planet, as shown in {numref}`fig:interplanetary-leading-flyby`, called a **leading-side flyby**.\n",
    "\n",
    "   :::{figure} ../images/interplanetary-leading-flyby.svg\n",
    "   :name: fig:interplanetary-leading-flyby\n",
    "\n",
    "   A leading-side planetary flyby. Notice that the spacecraft crosses in front of the planet along the planet's direction of motion.\n",
    "   :::\n",
    "\n",
    "2. crossing behind the planet, as shown in {numref}`fig:interplanetary-trailing-flyby`, called a **trailing-side flyby**\n",
    "\n",
    "   :::{figure} ../images/interplanetary-trailing-flyby.svg\n",
    "   :name: fig:interplanetary-trailing-flyby\n",
    "\n",
    "   A trailing-side planetary flyby. Notice that the spacecraft crosses behind the planet along the planet's direction of motion.\n",
    "   :::\n",
    "\n",
    "The angle $\\delta$, given by Eq. {eq}`eq:hyperbolic-turn-angle`, is the turn angle. Note that $\\delta$ is positive counterclockwise, so it is negative for the trailing-side flyby.\n",
    "\n",
    "### Arrival Heliocentric Velocity\n",
    "\n",
    "To determine the spacecraft's hyperbolic orbital elements, we need to find $\\vector{v}_{\\infty,1}$, the excess velocity vector at arrival. The excess velocity vector can be found by taking the vector difference of the planet and spacecraft heliocentric velocity vectors:\n",
    "\n",
    ":::{math}\n",
    ":label: eq:interplanetary-flyby-arrival-excess-velocity-vector\n",
    "\n",
    "\\vector{v}_{\\infty,1} = \\vector{V}_1^s - \\vector{V}\n",
    ":::\n",
    "\n",
    "where $\\vector{V}$ is the orbital velocity of the planet and $\\vector{V}_1^s$ is the spacecraft's heliocentric velocity vector. This vector sum is shown visually in {numref}`fig:interplanetary-leading-flyby` and {numref}`fig:interplanetary-trailing-flyby` in the inset figure.\n",
    "\n",
    "In the heliocentric frame, the spacecraft's velocity can be split into two components:\n",
    "\n",
    ":::{math}\n",
    ":label: eq:interplanetary-flyby-arrival-heliocentric-components\n",
    "\n",
    "\\vector{V}_1^s = V_{1,r}^s \\uvec{u}_r + V_{1,\\perp}^s \\uvec{u}_{\\perp} = \\frac{\\mu_{\\text{sun}}}{h_1} e_1 \\sin\\nu_1 \\uvec{u}_r + \\frac{\\mu_{\\text{sun}}}{h_1}\\left(1 + e_1 \\cos\\nu_1\\right) \\uvec{u}_{\\perp}\n",
    ":::\n",
    "\n",
    "where $e_1$, $h_1$, and $\\nu_1$ are the eccentricity, angular momentum, and true anomaly, respectively, of the heliocentric transfer orbit.\n",
    "\n",
    "### Geocentric Unit Vectors\n",
    "\n",
    "To simplify the calculation of $\\vector{v}_{\\infty}$, we would like to work with unit vectors attached to the planet, rather than the sun. The $\\uvec{u}_r$-$\\uvec{u}_{\\perp}$ coordinate system, which is attached to the heliocentric orbit, can be converted into a geocentric system with the unit vectors $\\uvec{u}_{V}$ and $\\uvec{u}_{S}$.\n",
    "\n",
    "$\\uvec{u}_V$ points along the planet's orbital velocity vector. Since we assumed that the planet's orbit is circular, the planet's orbital velocity vector is always perpendicular to it's radial vector. In other words:\n",
    "\n",
    ":::{math}\n",
    ":label: eq:interplanetary-flyby-uvec-perp\n",
    "\\uvec{u}_V = \\uvec{u}_{\\perp}\n",
    ":::\n",
    "\n",
    "The other geocentric unit vector corresponds to the radial direction, but is oriented in the opposite way. Thus:\n",
    "\n",
    ":::{math}\n",
    ":label: eq:interplanetary-flyby-uvec-r\n",
    "\\uvec{u}_S = -\\uvec{u}_{r}\n",
    ":::\n",
    "\n",
    "Thus, in the geocentric coordinate system, the planet's orbital velocity is:\n",
    "\n",
    ":::{math}\n",
    ":label: eq:interplanetary-flyby-planet-velocity\n",
    "\\vector{V} = V \\uvec{u}_V = \\sqrt{\\frac{\\mu_{\\text{sun}}}{R}} \\uvec{u}_V\n",
    ":::\n",
    "\n",
    "where $R$ is the planet's orbital radius around the Sun. Similarly, the spacecraft's heliocentric velocity can be transformed to the geocentric coordinate system:\n",
    "\n",
    ":::{math}\n",
    ":label:\n",
    "\\vector{V}_1^s = V_1^s \\cos\\alpha_1 \\uvec{u}_V + V_1^s \\sin\\alpha_1 \\uvec{u}_S\n",
    ":::\n",
    "\n",
    "where $V_1^s$ is the magnitude of the spacecraft's heliocentric velocity and $\\alpha_1$ is the angle that $\\vector{V}_1^s$ makes with $\\vector{V}$. Thus, $\\alpha_1$ is the flight path angle of the spacecraft, and its value is found from Eq. {eq}`eq:flight-path-angle`:\n",
    "\n",
    ":::{math}\n",
    ":label:\n",
    "\\alpha_1 = \\tan^{-1} \\frac{V_{1,r}^s}{V_{1,\\perp}^s} = \\frac{e_1\\sin\\nu_1}{1 + e_1\\cos\\nu_1}\n",
    ":::\n",
    "\n",
    "### Arrival Excess Velocity Vector\n",
    "\n",
    "In {numref}`fig:interplanetary-leading-flyby` and {numref}`fig:interplanetary-trailing-flyby`, we can break the excess velocity vector into the geocentric coordinate system:\n",
    "\n",
    ":::{math}\n",
    ":label: eq:interplanetary-flyby-excess-velocity-geocentric\n",
    "\n",
    "\\vector{v}_{\\infty,1} = \\left(V_1^s\\cos\\alpha_1 - V\\right) \\uvec{u}_V + V_1^s \\sin\\alpha_1 \\uvec{u}_S\n",
    ":::\n",
    "\n",
    "Finally, we can compute the magnitude of the excess velocity:\n",
    "\n",
    ":::{math}\n",
    ":label: eq:interplanetary-flyby-excess-velocity-magnitude\n",
    "\n",
    "v_{\\infty} = \\sqrt{\\left(V_1^s\\right)^2 + V^2 - 2 V_1^s V \\cos\\alpha_1}\n",
    ":::\n",
    "\n",
    "The magnitude $V_1^s$ can be found from the velocity components in Eq. {eq}`eq:interplanetary-flyby-arrival-heliocentric-components`, and $V$ is given by Eq. {eq}`eq:interplanetary-flyby-planet-velocity`.\n",
    "\n",
    "The magnitude of the excess velocity depends only on the semimajor axis of the hyperbola. Since the semimajor axis is constant, the magnitude of the excess velocity is also constant. Thus, we drop the subscript for arrival and departure for the magntiude.\n",
    "\n",
    "Once we have the magnitude of the excess velocity, and when we specify a value for $r_p$, we can apply the techniques in the [previous section](./planetary-arrival-capture.md) to compute the orbital elements of the hyperbola.\n",
    "\n",
    ":::{note}\n",
    "The techniques described in this section can also be used for a capture orbit if the excess velocity vector is not parallel to the planet's orbital velocity.\n",
    ":::\n",
    "\n",
    "## Departure Trajectory\n",
    "\n",
    "Now that we have $\\vector{v}_{\\infty,1}$ from Eq. {eq}`eq:interplanetary-flyby-excess-velocity-geocentric`, we are ready to calculate the departure trajectory. The $\\vector{v}_{\\infty}$ vector is rotated through the turn angle $\\delta$. We need a consistent reference line from which the angle of the $\\vector{v}_{\\infty}$ vector can be measured.\n",
    "\n",
    "The easiest choice for a reference line is the planet's heliocentric velocity vector. As shown in {numref}`fig:interplanetary-flyby-phi-angle`, we can define an angle $\\phi$ from the planet's velocity vector $\\vector{V}$ to $\\vector{v}_{\\infty}$. $\\phi_1$ is defined for the angle at arrival and $\\phi_2$ is the angle at departure.\n",
    "\n",
    ":::{figure} ../images/interplanetary-flyby-phi-angle.svg\n",
    ":name: fig:interplanetary-flyby-phi-angle\n",
    ":width: 75%\n",
    "\n",
    "The angles $\\phi_1$ and $\\phi_2$ are defined from the planet's velocity vector to the excess velocity vector.\n",
    ":::\n",
    "\n",
    "The relationship between the $\\phi$ angles is:\n",
    "\n",
    ":::{math}\n",
    ":label:\n",
    "\\phi_2 = \\phi_1 + \\delta\n",
    ":::\n",
    "\n",
    "Note that the sign of $\\delta$ is important. For a leading-side flyby $\\delta$ is positive, while for a trailing-side flyby $\\delta$ is negative.\n",
    "\n",
    "In the geocentric coordinate system, the excess velocity vector has components given by Eq. {eq}`eq:interplanetary-flyby-excess-velocity-geocentric`. From a right triangle, the angle $\\phi_1$ is found by:\n",
    "\n",
    ":::{math}\n",
    ":label:\n",
    "\\tan\\phi_1 = \\frac{V_1^s\\sin\\alpha_1}{V_1^s\\cos\\alpha_1 - V}\n",
    ":::\n",
    "\n",
    "Since the magnitude of the excess velocity is constant, we can find the departure excess velocity vector using $\\phi_2$ and the magnitude:\n",
    "\n",
    ":::{math}\n",
    ":label:\n",
    "\\vector{v}_{\\infty,2} = v_{\\infty}\\cos\\phi_2 \\uvec{u}_V + v_{\\infty} \\sin\\phi_2 \\uvec{u}_S\n",
    ":::\n",
    "\n",
    "Then, finally, the heliocentric velocity vector at departure is found by the vector sum of $\\vector{V}$ and $\\vector{v}_{\\infty,2}$:\n",
    "\n",
    ":::{math}\n",
    ":label:\n",
    "\\vector{V}_{2}^s = \\vector{V} + \\vector{v}_{\\infty,2} = V + v_{\\infty} \\cos\\phi_2\\uvec{u}_V + v_{\\infty}\\sin\\phi_2 \\uvec{u}_S\n",
    ":::\n",
    "\n",
    "From Eqs. {eq}`eq:interplanetary-flyby-uvec-perp` and {eq}`eq:interplanetary-flyby-uvec-r`, we see that the perpendicular and radial components of the heliocentric velocity are:\n",
    "\n",
    ":::{math}\n",
    ":label:\n",
    "\\begin{aligned}\n",
    "  V_{\\perp,2}^s &= V + v_{\\infty} \\cos\\phi_2 & V_{r,2}^s &= -v_{\\infty}\\sin\\phi_2\n",
    "\\end{aligned}\n",
    ":::\n",
    "\n",
    "Using these two velocity components and the known radial distance of the planet from the sun, we can compute the orbital elements of the new heliocentric orbit. The orbital angular momentum is found by:\n",
    "\n",
    ":::{math}\n",
    ":label: eq:interplanetary-flyby-departure-ang-mom\n",
    "h_2 = R V_{\\perp,2}\n",
    ":::\n",
    "\n",
    "where $R$ is the planet's orbital radius. Using the orbit equation, Eq. {eq}`eq:scalar-orbit-equation` and Eq. {eq}`eq:parallel-velocity-component`, we can solve for the eccentricity and true anomaly:\n",
    "\n",
    ":::{math}\n",
    ":label: eq:interplanetary-flyby-departure-orbit-equation\n",
    "R = \\frac{h_2^2}{\\mu_{\\text{sun}}} \\frac{1}{1 + e_2 \\cos\\nu_2}\n",
    ":::\n",
    "\n",
    "and\n",
    "\n",
    ":::{math}\n",
    ":label: eq:interplanetary-flyby-departure-radial-velocity\n",
    "V_{r,2}^s = \\frac{\\mu_{\\text{sun}}}{h_2}e_2\\sin\\nu_2\n",
    ":::\n",
    "\n",
    "## Example\n",
    "\n",
    "A spacecraft will use a flyby manuever around Venus to change its heliocentric orbit. The spacecraft departs the orbit of Neptune on a velocity perpendicular to a line to the sun, and meets Venus at a true anomaly of 120° relative to the departure point. The periapsis altitude is 300 km. Calculate the spacecraft's new heliocentric orbital elements after a leading-side flyby and a trailing-side flyby.\n",
    "\n",
    "First, we need to calculate the arrival heliocentric velocity vector. The spacecraft departs Neptune's orbit at aphelion of the transfer orbit. We know the departure point is aphelion because the velocity vector is perpendicular to the radius vector. We can find the orbital elements of the transfer orbit by using the orbit equation, Eq. {eq}`eq:scalar-orbit-equation` at the departure and arrival points.\n",
    "\n",
    ":::{math}\n",
    ":label:\n",
    "\\begin{aligned}\n",
    "  R_{\\text{Neptune}} &= \\frac{h_1^2}{\\mu_{\\text{sun}}} \\frac{1}{1 - e_1} & \\text{Departure} \\\\\n",
    "  R_{\\text{Venus}} &= \\frac{h_1^2}{\\mu_{\\text{sun}}} \\frac{1}{1 - e_1\\cos\\nu_1} & \\text{Arrival}\n",
    "\\end{aligned}\n",
    ":::\n",
    "\n",
    "where $\\nu$ at Neptune departure is 180° and $\\nu_1 =$ -60° or 300°. This pair of equations can be simultaneously solved for $h_1$ and $e_1$ to give the parameters of the transfer orbit. Solving first for $e_1$, we find:\n",
    "\n",
    ":::{math}\n",
    ":label:\n",
    "e_1 = \\frac{R_{\\text{Neptune}} - R_{\\text{Venus}}}{R_{\\text{Neptune}} + R_{\\text{Venus}}\\cos\\nu_1}\n",
    ":::\n",
    "\n",
    "Then, $h_1$ is found from the orbit equation at Neptune departure:\n",
    "\n",
    ":::{math}\n",
    ":label:\n",
    "h_1 = \\sqrt{\\mu_{\\text{sun}} R_{\\text{Neptune}}\\left(1 - e_1\\right)}\n",
    ":::"
   ]
  },
  {
   "cell_type": "code",
   "execution_count": 2,
   "id": "877e8694",
   "metadata": {},
   "outputs": [
    {
     "name": "stdout",
     "output_type": "stream",
     "text": [
      "interplanetary-flyby-e_1 0.9643970836113095\n",
      "interplanetary-flyby-h_1 4613600438.640524\n"
     ]
    }
   ],
   "source": [
    "import numpy as np\n",
    "\n",
    "mu_sun = 1.32712E11  # km**3/s**2\n",
    "R_Neptune = 4.50489E9  # km\n",
    "R_Venus = 1.08209E8  # km\n",
    "\n",
    "nu_1 = np.radians(300)\n",
    "e_1 = (R_Neptune - R_Venus) / (R_Neptune + R_Venus * np.cos(nu_1))\n",
    "h_1 = np.sqrt(mu_sun * R_Neptune * (1 - e_1))\n",
    "\n",
    "print(\"interplanetary-flyby-e_1\", e_1)\n",
    "print(\"interplanetary-flyby-h_1\", h_1)"
   ]
  },
  {
   "cell_type": "code",
   "execution_count": 3,
   "id": "f04b9f25",
   "metadata": {
    "tags": [
     "remove-cell"
    ]
   },
   "outputs": [
    {
     "data": {
      "application/papermill.record/text/plain": "0.9643970836113095"
     },
     "metadata": {
      "scrapbook": {
       "mime_prefix": "application/papermill.record/",
       "name": "interplanetary-flyby-e_1"
      }
     },
     "output_type": "display_data"
    },
    {
     "data": {
      "application/papermill.record/text/plain": "4613600438.640524"
     },
     "metadata": {
      "scrapbook": {
       "mime_prefix": "application/papermill.record/",
       "name": "interplanetary-flyby-h_1"
      }
     },
     "output_type": "display_data"
    }
   ],
   "source": [
    "from functools import partial\n",
    "from myst_nb import glue as myst_glue\n",
    "glue = partial(myst_glue, display=False)\n",
    "glue(\"interplanetary-flyby-e_1\", e_1)\n",
    "glue(\"interplanetary-flyby-h_1\", h_1)"
   ]
  },
  {
   "cell_type": "markdown",
   "id": "40295a7e",
   "metadata": {},
   "source": [
    "This give an eccentricity of $e_1 =$ {glue:text}`interplanetary-flyby-e_1:.4f` and $h_1 =$ {glue:text}`interplanetary-flyby-h_1:.2E` km<sup>2</sup>/s. With $e_1$, $nu_1$, and $h_1$, we can find the heliocentric velocity components at Venus using Eq. {eq}`eq:perpendicular-velocity-component` and Eq. {eq}`eq:parallel-velocity-component`:"
   ]
  },
  {
   "cell_type": "code",
   "execution_count": 4,
   "id": "bde0e815",
   "metadata": {},
   "outputs": [
    {
     "name": "stdout",
     "output_type": "stream",
     "text": [
      "interplanetary-flyby-V_p1 42.63601399736181\n",
      "interplanetary-flyby-V_r1 -24.02463147347118\n"
     ]
    }
   ],
   "source": [
    "V_p1 = h_1 / R_Venus\n",
    "V_r1 = mu_sun / h_1 * e_1 * np.sin(nu_1)\n",
    "print(\"interplanetary-flyby-V_p1\", V_p1)\n",
    "print(\"interplanetary-flyby-V_r1\", V_r1)"
   ]
  },
  {
   "cell_type": "code",
   "execution_count": 5,
   "id": "67b95e80",
   "metadata": {
    "tags": [
     "remove-cell"
    ]
   },
   "outputs": [
    {
     "data": {
      "application/papermill.record/text/plain": "42.63601399736181"
     },
     "metadata": {
      "scrapbook": {
       "mime_prefix": "application/papermill.record/",
       "name": "interplanetary-flyby-V_p1"
      }
     },
     "output_type": "display_data"
    },
    {
     "data": {
      "application/papermill.record/text/plain": "-24.02463147347118"
     },
     "metadata": {
      "scrapbook": {
       "mime_prefix": "application/papermill.record/",
       "name": "interplanetary-flyby-V_r1"
      }
     },
     "output_type": "display_data"
    }
   ],
   "source": [
    "glue(\"interplanetary-flyby-V_p1\", V_p1)\n",
    "glue(\"interplanetary-flyby-V_r1\", V_r1)"
   ]
  },
  {
   "cell_type": "markdown",
   "id": "3800c578",
   "metadata": {},
   "source": [
    "The heliocentric velocity components are $V_{\\perp,1}^s =$ {glue:text}`interplanetary-flyby-V_p1:.2f` km/s and $V_{r,1}^s =$ {glue:text}`interplanetary-flyby-V_r1:.2f` km/s. Next, we need to find the excess velocity vector at arrival, and its magnitude:"
   ]
  },
  {
   "cell_type": "code",
   "execution_count": 6,
   "id": "b91cee28",
   "metadata": {},
   "outputs": [
    {
     "name": "stdout",
     "output_type": "stream",
     "text": [
      "interplanetary-flyby-V_1 48.938866016892284\n",
      "interplanetary-flyby-alpha_1 -29.400481694073243\n",
      "interplanetary-flyby-V_Venus 35.020585710999754\n",
      "interplanetary-flyby-v_infty1_V 7.615428286362054\n",
      "interplanetary-flyby-v_infty1_S 24.02463147347118\n",
      "interplanetary-flyby-v_infty 25.202731308745594\n"
     ]
    }
   ],
   "source": [
    "V_1 = np.sqrt(V_p1**2 + V_r1**2)\n",
    "alpha_1 = np.arctan2(V_r1, V_p1)\n",
    "\n",
    "V_Venus = np.sqrt(mu_sun / R_Venus)\n",
    "\n",
    "v_infty1_V = V_p1 - V_Venus\n",
    "v_infty1_S = -V_r1\n",
    "v_infty = np.sqrt(v_infty1_V**2 + v_infty1_S**2)\n",
    "\n",
    "print(\"interplanetary-flyby-V_1\", V_1)\n",
    "print(\"interplanetary-flyby-alpha_1\", np.degrees(alpha_1))\n",
    "print(\"interplanetary-flyby-V_Venus\", V_Venus)\n",
    "print(\"interplanetary-flyby-v_infty1_V\", v_infty1_V)\n",
    "print(\"interplanetary-flyby-v_infty1_S\", abs(v_infty1_S))\n",
    "print(\"interplanetary-flyby-v_infty\", v_infty)"
   ]
  },
  {
   "cell_type": "code",
   "execution_count": 7,
   "id": "95a836c2",
   "metadata": {
    "tags": [
     "remove-cell"
    ]
   },
   "outputs": [
    {
     "data": {
      "application/papermill.record/text/plain": "48.938866016892284"
     },
     "metadata": {
      "scrapbook": {
       "mime_prefix": "application/papermill.record/",
       "name": "interplanetary-flyby-V_1"
      }
     },
     "output_type": "display_data"
    },
    {
     "data": {
      "application/papermill.record/text/plain": "-29.400481694073243"
     },
     "metadata": {
      "scrapbook": {
       "mime_prefix": "application/papermill.record/",
       "name": "interplanetary-flyby-alpha_1"
      }
     },
     "output_type": "display_data"
    },
    {
     "data": {
      "application/papermill.record/text/plain": "35.020585710999754"
     },
     "metadata": {
      "scrapbook": {
       "mime_prefix": "application/papermill.record/",
       "name": "interplanetary-flyby-V_Venus"
      }
     },
     "output_type": "display_data"
    },
    {
     "data": {
      "application/papermill.record/text/plain": "7.615428286362054"
     },
     "metadata": {
      "scrapbook": {
       "mime_prefix": "application/papermill.record/",
       "name": "interplanetary-flyby-v_infty1_V"
      }
     },
     "output_type": "display_data"
    },
    {
     "data": {
      "application/papermill.record/text/plain": "24.02463147347118"
     },
     "metadata": {
      "scrapbook": {
       "mime_prefix": "application/papermill.record/",
       "name": "interplanetary-flyby-v_infty1_S"
      }
     },
     "output_type": "display_data"
    },
    {
     "data": {
      "application/papermill.record/text/plain": "25.202731308745594"
     },
     "metadata": {
      "scrapbook": {
       "mime_prefix": "application/papermill.record/",
       "name": "interplanetary-flyby-v_infty"
      }
     },
     "output_type": "display_data"
    }
   ],
   "source": [
    "glue(\"interplanetary-flyby-V_1\", V_1)\n",
    "glue(\"interplanetary-flyby-alpha_1\", np.degrees(alpha_1))\n",
    "glue(\"interplanetary-flyby-V_Venus\", V_Venus)\n",
    "glue(\"interplanetary-flyby-v_infty1_V\", v_infty1_V)\n",
    "glue(\"interplanetary-flyby-v_infty1_S\", abs(v_infty1_S))\n",
    "glue(\"interplanetary-flyby-v_infty\", v_infty)"
   ]
  },
  {
   "cell_type": "markdown",
   "id": "00be899c",
   "metadata": {},
   "source": [
    "The spacecraft heliocentric velocity magnitude is $V_1^s =$ {glue:text}`interplanetary-flyby-V_1:.2f` km/s, the flight path angle is $\\alpha_1 =$ {glue:text}`interplanetary-flyby-alpha_1:.2f`°, and the velocity of Venus is $V_{\\text{Venus}} =$ {glue:text}`interplanetary-flyby-V_Venus:.2f` km/s. The excess velocity vector is $\\vector{v}_{\\infty,1} =$ {glue:text}`interplanetary-flyby-v_infty1_V:.2f` $\\uvec{u}_V$ - {glue:text}`interplanetary-flyby-v_infty1_S:.2f` $\\uvec{u}_S$ km/s, and its magnitude is $v_{\\infty} =$ {glue:text}`interplanetary-flyby-v_infty:.2f` km/s.\n",
    "\n",
    "Now we can compute the geocentric orbital elements of the flyby trajectory. In particular, we need to calculate the turn angle $\\delta$ using Eq. {eq}`eq:hyperbolic-turn-angle`, which requires the eccentricity $e$ from Eq. {eq}`eq:interplanetary-arrival-eccentricity`. Then, we can calculate the $\\phi$ angles."
   ]
  },
  {
   "cell_type": "code",
   "execution_count": 8,
   "id": "dbab9a03",
   "metadata": {},
   "outputs": [
    {
     "name": "stdout",
     "output_type": "stream",
     "text": [
      "interplanetary-flyby-e 13.419300358678685\n",
      "interplanetary-flyby-delta 8.5472326745212\n",
      "interplanetary-flyby-phi_1 72.41220818048843\n",
      "interplanetary-flyby-phi_2_leading 80.95944085500963\n",
      "interplanetary-flyby-phi_2_trailing 63.864975505967244\n"
     ]
    }
   ],
   "source": [
    "r_p = 300 + 6051.8  # km\n",
    "mu_Venus = 3.24859E5  # km**3/s**2\n",
    "e = 1 + r_p * v_infty**2 / mu_Venus\n",
    "delta = 2 * np.arcsin(1/e)\n",
    "\n",
    "phi_1 = np.arctan2(v_infty1_S, v_infty1_V)\n",
    "phi_2_leading = phi_1 + delta\n",
    "phi_2_trailing = phi_1 - delta\n",
    "\n",
    "d = np.degrees\n",
    "print(\"interplanetary-flyby-e\", e)\n",
    "print(\"interplanetary-flyby-delta\", d(delta))\n",
    "print(\"interplanetary-flyby-phi_1\", d(phi_1))\n",
    "print(\"interplanetary-flyby-phi_2_leading\", d(phi_2_leading))\n",
    "print(\"interplanetary-flyby-phi_2_trailing\", d(phi_2_trailing))"
   ]
  },
  {
   "cell_type": "code",
   "execution_count": 9,
   "id": "0eab6988",
   "metadata": {
    "tags": [
     "remove-cell"
    ]
   },
   "outputs": [
    {
     "data": {
      "application/papermill.record/text/plain": "13.419300358678685"
     },
     "metadata": {
      "scrapbook": {
       "mime_prefix": "application/papermill.record/",
       "name": "interplanetary-flyby-e"
      }
     },
     "output_type": "display_data"
    },
    {
     "data": {
      "application/papermill.record/text/plain": "8.5472326745212"
     },
     "metadata": {
      "scrapbook": {
       "mime_prefix": "application/papermill.record/",
       "name": "interplanetary-flyby-delta"
      }
     },
     "output_type": "display_data"
    },
    {
     "data": {
      "application/papermill.record/text/plain": "72.41220818048843"
     },
     "metadata": {
      "scrapbook": {
       "mime_prefix": "application/papermill.record/",
       "name": "interplanetary-flyby-phi_1"
      }
     },
     "output_type": "display_data"
    },
    {
     "data": {
      "application/papermill.record/text/plain": "80.95944085500963"
     },
     "metadata": {
      "scrapbook": {
       "mime_prefix": "application/papermill.record/",
       "name": "interplanetary-flyby-phi_2_leading"
      }
     },
     "output_type": "display_data"
    },
    {
     "data": {
      "application/papermill.record/text/plain": "63.864975505967244"
     },
     "metadata": {
      "scrapbook": {
       "mime_prefix": "application/papermill.record/",
       "name": "interplanetary-flyby-phi_2_trailing"
      }
     },
     "output_type": "display_data"
    }
   ],
   "source": [
    "d = np.degrees\n",
    "glue(\"interplanetary-flyby-e\", e)\n",
    "glue(\"interplanetary-flyby-delta\", d(delta))\n",
    "glue(\"interplanetary-flyby-phi_1\", d(phi_1))\n",
    "glue(\"interplanetary-flyby-phi_2_leading\", d(phi_2_leading))\n",
    "glue(\"interplanetary-flyby-phi_2_trailing\", d(phi_2_trailing))"
   ]
  },
  {
   "cell_type": "markdown",
   "id": "b058d4f3",
   "metadata": {},
   "source": [
    "The eccentricity of the hyperbola is $e =$ {glue:text}`interplanetary-flyby-e:.4f` and the turn angle is $\\delta =$ {glue:text}`interplanetary-flyby-delta:.2f`°. This gives turn angles of $\\phi_1 =$ {glue:text}`interplanetary-flyby-phi_1:.2f`° at arrival, $\\phi_2 =$ {glue:text}`interplanetary-flyby-phi_2_leading:.2f`° when the flyby occurs on the leading side, and $\\phi_2 =$ {glue:text}`interplanetary-flyby-phi_2_trailing:.2f`° for the trailing-side flyby. Notice that $\\delta$ is treated as negative for the trailing-side flyby!\n",
    "\n",
    "Finally, we can compute the departure excess velocity vector and the departure heliocentric velocity vector, which allows us to compute the new heliocentric orbital elements.\n",
    "\n",
    "### Leading-Side Flyby\n",
    "\n",
    "Let's start with the leading-side flyby."
   ]
  },
  {
   "cell_type": "code",
   "execution_count": 10,
   "id": "a78009fa",
   "metadata": {},
   "outputs": [
    {
     "name": "stdout",
     "output_type": "stream",
     "text": [
      "interplanetary-flyby-leading-V_2 46.249279462789296\n",
      "interplanetary-flyby-leading-V_p2 38.980781639101494\n",
      "interplanetary-flyby-leading-V_r2 -24.889646715690276\n",
      "interplanetary-flyby-leading-Delta_V 2.6895865541029877\n"
     ]
    }
   ],
   "source": [
    "v_infty2_V = v_infty * np.cos(phi_2_leading)\n",
    "v_infty2_S = v_infty * np.sin(phi_2_leading)\n",
    "\n",
    "V_p2 = V_Venus + v_infty2_V\n",
    "V_r2 = - v_infty2_S\n",
    "V_2 = np.sqrt(V_p2**2 + V_r2**2)\n",
    "\n",
    "print(\"interplanetary-flyby-leading-V_2\", V_2)\n",
    "print(\"interplanetary-flyby-leading-V_p2\", V_p2)\n",
    "print(\"interplanetary-flyby-leading-V_r2\", V_r2)\n",
    "print(\"interplanetary-flyby-leading-Delta_V\", abs(V_2 - V_1))"
   ]
  },
  {
   "cell_type": "code",
   "execution_count": 10,
   "id": "ca8460e5",
   "metadata": {
    "tags": [
     "remove-cell"
    ]
   },
   "outputs": [
    {
     "data": {
      "text/plain": [
       "46.249279462789296"
      ]
     },
     "metadata": {
      "scrapbook": {
       "mime_prefix": "application/papermill.record/",
       "name": "interplanetary-flyby-leading-V_2"
      }
     },
     "output_type": "display_data"
    },
    {
     "data": {
      "text/plain": [
       "38.980781639101494"
      ]
     },
     "metadata": {
      "scrapbook": {
       "mime_prefix": "application/papermill.record/",
       "name": "interplanetary-flyby-leading-V_p2"
      }
     },
     "output_type": "display_data"
    },
    {
     "data": {
      "text/plain": [
       "-24.889646715690276"
      ]
     },
     "metadata": {
      "scrapbook": {
       "mime_prefix": "application/papermill.record/",
       "name": "interplanetary-flyby-leading-V_r2"
      }
     },
     "output_type": "display_data"
    },
    {
     "data": {
      "text/plain": [
       "2.6895865541029877"
      ]
     },
     "metadata": {
      "scrapbook": {
       "mime_prefix": "application/papermill.record/",
       "name": "interplanetary-flyby-leading-Delta_V"
      }
     },
     "output_type": "display_data"
    }
   ],
   "source": [
    "glue(\"interplanetary-flyby-leading-V_2\", V_2)\n",
    "glue(\"interplanetary-flyby-leading-V_p2\", V_p2)\n",
    "glue(\"interplanetary-flyby-leading-V_r2\", V_r2)\n",
    "glue(\"interplanetary-flyby-leading-Delta_V\", abs(V_2 - V_1))"
   ]
  },
  {
   "cell_type": "markdown",
   "id": "aba7ef49",
   "metadata": {},
   "source": [
    "This gives a heliocentric velocity of $V_2^s =$ {glue:text}`interplanetary-flyby-leading-V_2:.2f` km/s, with components $V_{\\perp,2}^s =$ {glue:text}`interplanetary-flyby-leading-V_p2:.2f` km/s and $V_{r,2}^s =$ {glue:text}`interplanetary-flyby-leading-V_r2:.2f` km/s. This is a decrease of about {glue:text}`interplanetary-flyby-leading-Delta_V:.2f` km/s in heliocentric speed, as expected for a leading-side flyby.\n",
    "\n",
    "The departure angular momentum is found by Eq. {eq}`eq:interplanetary-flyby-departure-ang-mom`. From Eq. {eq}`eq:interplanetary-flyby-departure-orbit-equation`, we find:\n",
    "\n",
    ":::{math}\n",
    ":label: eq:interplanetary-flyby-e-cos\n",
    "e_2 \\cos\\nu_2 = \\frac{h_2^2}{\\mu_{\\text{sun}} R} - 1\n",
    ":::\n",
    "\n",
    "Similarly, from Eq. {eq}`eq:interplanetary-flyby-departure-radial-velocity`, we find:\n",
    "\n",
    ":::{math}\n",
    ":label: eq:interplanetary-flyby-e-sin\n",
    "e_2 \\sin\\nu_2 = \\frac{V_{r,2}^s h_2}{\\mu_{\\text{sun}}}\n",
    ":::\n",
    "\n",
    "Taking the ratio of Eqs. {eq}`eq:interplanetary-flyby-e-cos` and {eq}`eq:interplanetary-flyby-e-sin`, we find:\n",
    "\n",
    ":::{math}\n",
    ":label:\n",
    "\\tan\\nu_2 = \\frac{R V_{r,2}^s h_2}{h_2^2 - R\\mu_{\\text{sun}}}\n",
    ":::\n",
    "\n",
    "With $h_2$, $e_2$, and $\\nu_2$, we can calculate the other orbital elements of interest."
   ]
  },
  {
   "cell_type": "code",
   "execution_count": 6,
   "id": "bc95b6e0",
   "metadata": {},
   "outputs": [
    {
     "name": "stdout",
     "output_type": "stream",
     "text": [
      "interplanetary-flyby-leading-nu_2 -73.19275538266417\n",
      "interplanetary-flyby-leading-e_2 0.8263844640456285\n",
      "interplanetary-flyby-leading-a_2 422801841.3730571\n",
      "interplanetary-flyby-leading-R_p2 73404968.29247849\n",
      "interplanetary-flyby-leading-R_a2 772198714.4536358\n"
     ]
    }
   ],
   "source": [
    "h_2 = R_Venus * V_p2\n",
    "nu_2 = np.arctan2(R_Venus * V_r2 * h_2, h_2**2 - R_Venus * mu_sun)\n",
    "e_2 = (V_r2 * h_2) / (mu_sun * np.sin(nu_2))\n",
    "a_2 = h_2**2 / mu_sun / (1 - e_2**2)\n",
    "R_p2 = a_2 * (1 - e_2)\n",
    "R_a2 = 2 * a_2 - R_p2\n",
    "\n",
    "print(\"interplanetary-flyby-leading-nu_2\", d(nu_2))\n",
    "print(\"interplanetary-flyby-leading-e_2\", e_2)\n",
    "print(\"interplanetary-flyby-leading-a_2\", a_2)\n",
    "print(\"interplanetary-flyby-leading-R_p2\", R_p2)\n",
    "print(\"interplanetary-flyby-leading-R_a2\", R_a2)"
   ]
  },
  {
   "cell_type": "code",
   "execution_count": 12,
   "id": "0d0c768c",
   "metadata": {
    "tags": [
     "remove-cell"
    ]
   },
   "outputs": [
    {
     "data": {
      "text/plain": [
       "-73.19275538266417"
      ]
     },
     "metadata": {
      "scrapbook": {
       "mime_prefix": "application/papermill.record/",
       "name": "interplanetary-flyby-leading-nu_2"
      }
     },
     "output_type": "display_data"
    },
    {
     "data": {
      "text/plain": [
       "0.8263844640456285"
      ]
     },
     "metadata": {
      "scrapbook": {
       "mime_prefix": "application/papermill.record/",
       "name": "interplanetary-flyby-leading-e_2"
      }
     },
     "output_type": "display_data"
    },
    {
     "data": {
      "text/plain": [
       "422801841.3730571"
      ]
     },
     "metadata": {
      "scrapbook": {
       "mime_prefix": "application/papermill.record/",
       "name": "interplanetary-flyby-leading-a_2"
      }
     },
     "output_type": "display_data"
    },
    {
     "data": {
      "text/plain": [
       "73404968.29247849"
      ]
     },
     "metadata": {
      "scrapbook": {
       "mime_prefix": "application/papermill.record/",
       "name": "interplanetary-flyby-leading-R_p2"
      }
     },
     "output_type": "display_data"
    },
    {
     "data": {
      "text/plain": [
       "772198714.4536358"
      ]
     },
     "metadata": {
      "scrapbook": {
       "mime_prefix": "application/papermill.record/",
       "name": "interplanetary-flyby-leading-R_a2"
      }
     },
     "output_type": "display_data"
    }
   ],
   "source": [
    "glue(\"interplanetary-flyby-leading-nu_2\", d(nu_2))\n",
    "glue(\"interplanetary-flyby-leading-e_2\", e_2)\n",
    "glue(\"interplanetary-flyby-leading-a_2\", a_2)\n",
    "glue(\"interplanetary-flyby-leading-R_p2\", R_p2)\n",
    "glue(\"interplanetary-flyby-leading-R_a2\", R_a2)"
   ]
  },
  {
   "cell_type": "markdown",
   "id": "c55159ea",
   "metadata": {},
   "source": [
    "For the leading-side flyby the eccentricity is $e_2 =$ {glue:text}`interplanetary-flyby-leading-e_2:.4f`. Since $e_2 < 1$, the new heliocentric trajectory is still an ellipse around the sun. The perihelion distance is $R_{p,2} =$ {glue:text}`interplanetary-flyby-leading-R_p2:.3E` km and the aphelion distance is $R_{a,2} =$ {glue:text}`interplanetary-flyby-leading-R_a2:.3E` km. This aphelion distance is approximately at the orbital radius of Jupiter. The true anomaly is $\\nu_2 =$ {glue:text}`interplanetary-flyby-leading-nu_2:.2f`°, so the spacecraft is approaching perihelion.\n",
    "\n",
    "### Trailing-Side Flyby\n",
    "\n",
    "Now let's do the trailing-side flyby. The calculations are all the same as the leading-side, but we expect the spacecraft to increase its heliocentric speed."
   ]
  },
  {
   "cell_type": "code",
   "execution_count": 7,
   "id": "4609fee3",
   "metadata": {},
   "outputs": [
    {
     "name": "stdout",
     "output_type": "stream",
     "text": [
      "interplanetary-flyby-trailing-V_2 51.3729625699747\n",
      "interplanetary-flyby-trailing-V_p2 46.12208756294463\n",
      "interplanetary-flyby-trailing-V_r2 -22.625965660101446\n",
      "interplanetary-flyby-trailing-Delta_V 2.4340965530824192\n"
     ]
    }
   ],
   "source": [
    "v_infty2_V = v_infty * np.cos(phi_2_trailing)\n",
    "v_infty2_S = v_infty * np.sin(phi_2_trailing)\n",
    "\n",
    "V_p2 = V_Venus + v_infty2_V\n",
    "V_r2 = - v_infty2_S\n",
    "V_2 = np.sqrt(V_p2**2 + V_r2**2)\n",
    "h_2 = R_Venus * V_p2\n",
    "nu_2 = np.arctan2(R_Venus * V_r2 * h_2, h_2**2 - R_Venus * mu_sun)\n",
    "e_2 = (V_r2 * h_2) / (mu_sun * np.sin(nu_2))\n",
    "a_2 = h_2**2 / mu_sun / (e**2 - 1)\n",
    "R_p2 = a_2 * (e_2 - 1)\n",
    "R_a2 = 2 * a_2 - R_p2\n",
    "nu_infty_2 = np.arccos(-1 / e_2)\n",
    "\n",
    "print(\"interplanetary-flyby-trailing-V_2\", V_2)\n",
    "print(\"interplanetary-flyby-trailing-V_p2\", V_p2)\n",
    "print(\"interplanetary-flyby-trailing-V_r2\", V_r2)\n",
    "print(\"interplanetary-flyby-trailing-Delta_V\", abs(V_2 - V_1))"
   ]
  },
  {
   "cell_type": "code",
   "execution_count": 14,
   "id": "e9a49527",
   "metadata": {
    "tags": [
     "remove-cell"
    ]
   },
   "outputs": [
    {
     "data": {
      "text/plain": [
       "51.3729625699747"
      ]
     },
     "metadata": {
      "scrapbook": {
       "mime_prefix": "application/papermill.record/",
       "name": "interplanetary-flyby-trailing-V_2"
      }
     },
     "output_type": "display_data"
    },
    {
     "data": {
      "text/plain": [
       "46.12208756294463"
      ]
     },
     "metadata": {
      "scrapbook": {
       "mime_prefix": "application/papermill.record/",
       "name": "interplanetary-flyby-trailing-V_p2"
      }
     },
     "output_type": "display_data"
    },
    {
     "data": {
      "text/plain": [
       "-22.625965660101446"
      ]
     },
     "metadata": {
      "scrapbook": {
       "mime_prefix": "application/papermill.record/",
       "name": "interplanetary-flyby-trailing-V_r2"
      }
     },
     "output_type": "display_data"
    },
    {
     "data": {
      "text/plain": [
       "2.4340965530824192"
      ]
     },
     "metadata": {
      "scrapbook": {
       "mime_prefix": "application/papermill.record/",
       "name": "interplanetary-flyby-trailing-Delta_V"
      }
     },
     "output_type": "display_data"
    }
   ],
   "source": [
    "glue(\"interplanetary-flyby-trailing-V_2\", V_2)\n",
    "glue(\"interplanetary-flyby-trailing-V_p2\", V_p2)\n",
    "glue(\"interplanetary-flyby-trailing-V_r2\", V_r2)\n",
    "glue(\"interplanetary-flyby-trailing-Delta_V\", abs(V_2 - V_1))"
   ]
  },
  {
   "cell_type": "markdown",
   "id": "5c673c08",
   "metadata": {},
   "source": [
    "This gives a heliocentric velocity of $V_2^s =$ {glue:text}`interplanetary-flyby-trailing-V_2:.2f` km/s, with components $V_{\\perp,2}^s =$ {glue:text}`interplanetary-flyby-trailing-V_p2:.2f` km/s and $V_{r,2}^s =$ {glue:text}`interplanetary-flyby-trailing-V_r2:.2f` km/s. This is an increase of about {glue:text}`interplanetary-flyby-trailing-Delta_V:.2f` km/s in heliocentric speed, as expected for a trailing-side flyby."
   ]
  },
  {
   "cell_type": "code",
   "execution_count": 8,
   "id": "08dcd13b",
   "metadata": {
    "tags": [
     "remove-cell"
    ]
   },
   "outputs": [
    {
     "name": "stdout",
     "output_type": "stream",
     "text": [
      "interplanetary-flyby-trailing-nu_2 = -49.19900902224265\n",
      "interplanetary-flyby-trailing-e_2 = 1.1240424425671878\n",
      "interplanetary-flyby-trailing-a_2 = 1048076.9407779374\n",
      "interplanetary-flyby-trailing-R_p2 = 130006.02373244116\n",
      "interplanetary-flyby-trailing-R_a2 = 1966147.8578234336\n",
      "interplanetary-flyby-trailing-nu_infty_2 = 152.82881237215474\n"
     ]
    }
   ],
   "source": [
    "print(\"interplanetary-flyby-trailing-nu_2 =\", d(nu_2))\n",
    "print(\"interplanetary-flyby-trailing-e_2 =\", e_2)\n",
    "print(\"interplanetary-flyby-trailing-a_2 =\", a_2)\n",
    "print(\"interplanetary-flyby-trailing-R_p2 =\", R_p2)\n",
    "print(\"interplanetary-flyby-trailing-R_a2 =\", R_a2)\n",
    "print(\"interplanetary-flyby-trailing-nu_infty_2 =\" , d(nu_infty_2))"
   ]
  },
  {
   "cell_type": "markdown",
   "id": "dcbdf113",
   "metadata": {},
   "source": [
    "For the trailing-side flyby the eccentricity is $e_2 =$ {glue:text}`interplanetary-flyby-trailing-e_2:.4f`. Since $e_2 > 1$, the new heliocentric trajectory is a hyperbola relative to the sun and the true anomaly of the asymptote is $\\nu_{\\infty} =$ {glue:text}`interplanetary-flyby-trailing-nu_infty_2:.2f`°. This means the spacecraft is now on a trajectory to escape the solar system!\n",
    "\n",
    "The current true anomaly is $\\nu_2 =$ {glue:text}`interplanetary-flyby-trailing-nu_2:.2f`°, so the spacecraft is approaching perihelion, which will be at a distance of $R_{p,2} =$ {glue:text}`interplanetary-flyby-trailing-R_p2:.0f` km. Unfortunately, this is inside the equatorial radius of the Sun as shown in {numref}`tab:planetary-radius-parameters`, so the spacecraft would most likely not survive the encounter."
   ]
  }
 ],
 "metadata": {
  "kernelspec": {
   "display_name": "Python 3 (ipykernel)",
   "language": "python",
   "name": "python3"
  },
  "language_info": {
   "codemirror_mode": {
    "name": "ipython",
    "version": 3
   },
   "file_extension": ".py",
   "mimetype": "text/x-python",
   "name": "python",
   "nbconvert_exporter": "python",
   "pygments_lexer": "ipython3",
   "version": "3.9.13"
  },
  "source_map": [
   12,
   236,
   248,
   255,
   259,
   264,
   268,
   272,
   283,
   291,
   297,
   308,
   316,
   326,
   335,
   341,
   368,
   377,
   384,
   392,
   408,
   414,
   418,
   426
  ]
 },
 "nbformat": 4,
 "nbformat_minor": 5
}
