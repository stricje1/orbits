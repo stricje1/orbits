{
 "cells": [
  {
   "cell_type": "markdown",
   "id": "d6a49eb2",
   "metadata": {},
   "source": [
    "# Planetary Departure for Interplanetary Transfer\n",
    "\n",
    "We now have enough information to calculate the departure trajectory from the initial planet. By definition, the spacecraft will be escaping from the planet's gravity. This means that the departure trajectory from the planet is either a [parabola](../the-orbit-equation/parabolic-trajectories.md) or a [hyperbola](../the-orbit-equation/hyperbolic-trajectories.md).\n",
    "\n",
    "We know that the [sphere of influence](./sphere-of-influence.md) is the boundary where the spacecraft leaves the influence of the planet. Relative to the planet, the sphere of influence represents an infinite radius. Recall that the parabolic trajectory has zero velocity at $r_{\\infty}$ *relative to the focus of the orbit*. In the case of the planetary departure, the focus is the planet.\n",
    "\n",
    "This means that a spacecraft that departs a planet on a parabolic trajectory will reach the edge of the sphere of influence travelling at the same velocity as the planet *relative to the Sun*! In other words, a parabolic escape from the planet puts the spacecraft into the *same orbit around the Sun* as the planet occupies.\n",
    "\n",
    "Another way to think of this is in terms of an inertial reference frame attached to the Sun. Relative to the Sun, the planet has some orbital velocity. A spacecraft in orbit around the planet has that velocity plus some velocity relative to the planet. If the velocity relative to the planet is zero, the only velocity left is that portion relative to the Sun, which is the same as the planet.\n",
    "\n",
    "## Hyperbolic Departure Trajectory\n",
    "\n",
    "However, we want the spacecraft to transfer orbits around the Sun. This means that its velocity relative to the Sun cannot be the same as the planet's, it needs some **excess velocity** relative to the parabolic trajectory to break out of the planet's orbit. Remember, a parabolic trajectory ends with $v_{\\infty} = 0$ relative to the planet!\n",
    "\n",
    "The only type of trajectory with excess velocity is a hyperbolic trajectory. From our calculations of the [heliocentric transfer trajectory](./heliocentric-trajectories.md), we know the velocity that the spacecraft must have *relative to the sun* when it leaves the influence of the planet. We previously called this $v_{t,1}$ for the velocity on the transfer orbit at the departure point.\n",
    "\n",
    "The velocity of the spacecraft at any point on the geocentric hyperbolic trajectory is *relative to the planet*. Relative to the Sun, the spacecraft's velocity is the sum of the planet's orbital velocity and the relative velocity.\n",
    "\n",
    "Therefore, the excess velocity associated with the geocentric hyperbolic trajectory must match the heliocentric transfer orbit $\\Delta v_{\\text{Sun}} = v_{t,1} - v_{\\text{Planet}}$ where $v_{\\text{Planet}}$ is the planet's orbital velocity relative to the Sun. If, and only if, this is the case the spacecraft will coast through the desired transfer trajectory around the Sun to the orbit of the target planet.\n",
    "\n",
    "### Orbital Elements\n",
    "\n",
    "To determine the mass of propellant required to place the spacecraft into the heliocentric transfer trajectory, we need to compute the orbital elements of the geocentric hyperbolic trajectory. Let's assume that the spacecraft begins in a parking orbit around the planet, as shown in {numref}`fig:interplanetary-departure`.\n",
    "\n",
    ":::{figure} ../images/interplanetary-departure.svg\n",
    ":name: fig:interplanetary-departure\n",
    ":width: 75%\n",
    "\n",
    "A departure trajectory from a planet where the heliocentric orbital radius of the departure planet is smaller than the final planet.\n",
    ":::\n",
    "\n",
    "From the parking orbit, the spacecraft conducts an impulsive maneuver to put itself onto the geocentric hyperbolic escape trajectory. This occurs at an angle $\\eta$ relative to the planet's heliocentric orbital velocity vector.\n",
    "\n",
    ":::{important}\n",
    "The spacecraft *does not* receive an impulse from the engines when it crosses the sphere of influence. It must have the correct $v_{\\infty}$ on its geocentric hyperbolic trajectory so that it can coast onto the heliocentric transfer trajectory.\n",
    ":::\n",
    "\n",
    "To determine the $\\Delta v$ required to transfer from the parking orbit to the hyperbola, we must find the velocity of the hyperbola at the transfer point. To minimize the $\\Delta v$, it is typical to transfer onto the hyperbola at the periapsis of the hyperbola. Thus, we use $r_p$ and $v_p$ for the position and velocity on the hyperbola at the transfer point.\n",
    "\n",
    "To find $v_p$, we first need to choose a radius of the parking orbit $r_p$. The choice of $r_p$ determines the $\\Delta v$ required to transfer from the parking orbit to the hyperbola, so $r_p$ depends on the capabilities of the launch vehicle to provide thrust in LEO.\n",
    "\n",
    "One approach to find $v_p$ is via the *vis viva* equation, Eq. {eq}`eq:vis-viva-equation`. We know that the energy along the geocentric hyperbola is constant. Therefore, we can equate the energy at the insertion point (periapsis) with the energy at $r_{\\infty}$.\n",
    "\n",
    ":::{math}\n",
    ":label: eq:interplanetary-departure-hyperbola-energy\n",
    "\n",
    "E = \\frac{v_p^2}{2} - \\frac{\\mu_i}{r_p} = \\frac{v_{\\infty}^2}{2} - \\frac{\\mu_i}{r_{\\infty}}\n",
    ":::\n",
    "\n",
    "where $\\mu_i$ is the standard gravitational parameter of the planet. The last term in Eq. {eq}`eq:interplanetary-departure-hyperbola-energy` can be neglected as $r\\rightarrow r_{\\infty}$. Therefore, we can solve for the periapsis velocity:\n",
    "\n",
    ":::{math}\n",
    ":label: eq:interplanetary-departure-periapsis-velocity\n",
    "\n",
    "v_p = \\sqrt{v_{\\infty}^2 + 2\\frac{\\mu_i}{r_p}}\n",
    ":::\n",
    "\n",
    "From the discussion above, we know that $v_{\\infty}$ is found from the heliocentric transfer orbit:\n",
    "\n",
    ":::{math}\n",
    ":label: eq:interplanetary-departure-v-infty\n",
    "\n",
    "v_{\\infty} = \\Delta v_{\\text{Sun}}\\text{ relative to the Sun}\n",
    ":::\n",
    "\n",
    "The $\\Delta v$ required by the spacecraft to transfer from the parking orbit to the hyperbola is:\n",
    "\n",
    ":::{math}\n",
    ":label: eq:interplanetary-departure-delta-v\n",
    "\n",
    "\\Delta v = \\lvert v_p - v_{\\text{parking}}\\rvert\n",
    ":::\n",
    "\n",
    "The spacecraft will usually depart the planet's sphere of influence parallel to the planet's heliocentric velocity vector. This takes most advantage of the orbital velocity of the planet to send the spacecraft to its target. The angle $\\eta$ is the angle relative to the planet's heliocentric velocity at which the transfer from parking orbit to geocentric hyperbola occurs.\n",
    "\n",
    ":::{math}\n",
    ":label: eq:interplanetary-departure-impulse-angle\n",
    "\n",
    "\\cos\\eta = -\\frac{1}{e}\n",
    ":::\n",
    "\n",
    "The eccentricity of the geocentric hyperbola can be found from the semimajor axis via Eq. {eq}`eq:hyperbolic-excess-speed`:\n",
    "\n",
    ":::{math}\n",
    ":label: eq:interplanetary-hyperbola-semimajor-axis\n",
    "\n",
    "a = \\frac{\\mu_i}{v_{\\infty}^2}\n",
    ":::\n",
    "\n",
    "Then, rearranging Eq. {eq}`eq:hyperbolic-periapsis-apoapsis`, we find:\n",
    "\n",
    ":::{math}\n",
    ":label: eq:interplanetary-hyperbola-eccentricity\n",
    "\n",
    "e = 1 + \\frac{r_p}{a} = 1 + \\frac{r_p v_{\\infty}^2}{\\mu_i}\n",
    ":::\n",
    "\n",
    "Since all the terms in the rightmost term in Eq. {eq}`eq:interplanetary-hyperbola-eccentricity` are positive, the eccentricity will be greater than one, as expected. Using combinations of $a$, $e$, $v_p$, and $r_p$, the other orbital elements can be found as needed.\n",
    "\n",
    "Examining Eqs. {eq}`eq:interplanetary-departure-hyperbola-energy`, {eq}`eq:interplanetary-departure-periapsis-velocity`, {eq}`eq:interplanetary-departure-delta-v`, and {eq}`eq:interplanetary-hyperbola-eccentricity`, we see that none of them depend on the size of $v_{\\infty}$ relative to the planet's orbital velocity. Therefore, all the analysis and equations are identical for a hyperbola that reduces the spacecraft heliocentric speed relative to the planet's heliocentric speed, as shown in {numref}`fig:interplanetary-departure-inward-transfer`.\n",
    "\n",
    ":::{figure} ../images/interplanetary-departure-inward-transfer.svg\n",
    ":name: fig:interplanetary-departure-inward-transfer\n",
    ":width: 75%\n",
    "\n",
    "A departure trajectory from a planet where the heliocentric orbital radius of the departure planet is larger than the final planet. Note that the spacecraft's heliocentric speed is smaller than the planet's, so it emerges from the back side of the sphere of influence.\n",
    ":::\n",
    "\n",
    "## Angle of the Departure Hyperbola\n",
    "\n",
    "In Eq. {eq}`eq:interplanetary-departure-impulse-angle`, we found the angle $\\eta$, the angle of the apse line of the hyperbola relative to the heliocentric planetary velocity. However, the inverse cosine function is ambigous in the quadrant of the result, meaning that the impulse could occur on either side of the velocity vector.\n",
    "\n",
    "The solution for $\\eta$ that is chosen in practice is determined by the inclination of the parking orbit. If the parking orbit is prograde ($0° < i < 90°$), then the injection to the departure hyperbola will be counterclockwise. On the other hand, if the parking orbit is retrograde ($90° < i < 180°$), then the injection to the departure hyperbola will be clockwise.\n",
    "\n",
    "## Example\n",
    "\n",
    "Let's consider the example of a Hohmann transfer from Neptune to Venus. Assume the spacecraft starts in a 25,000-km-radius circular parking orbit. What $\\Delta v$ is required to conduct the transfer away from Neptune? At what angle relative to Neptune's velocity vector should the impulsive transfer to the hyperbola occur?\n",
    "\n",
    "To determine the $\\Delta v$ for the spacecraft, we first need to determine the parameters of the heliocentric transfer trajectory."
   ]
  },
  {
   "cell_type": "code",
   "execution_count": 6,
   "id": "7a95254b",
   "metadata": {},
   "outputs": [
    {
     "name": "stdout",
     "output_type": "stream",
     "text": [
      "hohmann-departure-v_1 5.411173520791793\n",
      "hohmann-departure-v_t1 1.168560304163792\n",
      "hohmann-departure-Delta_vt 4.242613216628\n"
     ]
    }
   ],
   "source": [
    "import math as m\n",
    "mu = 1.32712E11  # km**3/s**2, Sun\n",
    "\n",
    "r_i = 4.53239E9  # km, Neptune\n",
    "r_f = 1.08209E8  # km, Venus\n",
    "\n",
    "v_i = m.sqrt(mu / r_i)  # km/s, Neptune\n",
    "\n",
    "a_t = (r_i + r_f) / 2  # km\n",
    "E_t = - mu / (2 * a_t)  # km**2/s**2\n",
    "v_t1 = m.sqrt(2 * (E_t + mu / r_i))  # km/s\n",
    "\n",
    "Delta_vt = abs(v_i - v_t1)  # km/s\n",
    "\n",
    "print(\"hohmann-departure-v_1\", v_i)\n",
    "print(\"hohmann-departure-v_t1\", v_t1)\n",
    "print(\"hohmann-departure-Delta_vt\", Delta_vt)"
   ]
  },
  {
   "cell_type": "code",
   "execution_count": 7,
   "id": "cae80265",
   "metadata": {
    "tags": [
     "remove-cell"
    ]
   },
   "outputs": [
    {
     "data": {
      "application/papermill.record/text/plain": "5.411173520791793"
     },
     "metadata": {
      "scrapbook": {
       "mime_prefix": "application/papermill.record/",
       "name": "hohmann-departure-v_1"
      }
     },
     "output_type": "display_data"
    },
    {
     "data": {
      "application/papermill.record/text/plain": "1.168560304163792"
     },
     "metadata": {
      "scrapbook": {
       "mime_prefix": "application/papermill.record/",
       "name": "hohmann-departure-v_t1"
      }
     },
     "output_type": "display_data"
    },
    {
     "data": {
      "application/papermill.record/text/plain": "4.242613216628"
     },
     "metadata": {
      "scrapbook": {
       "mime_prefix": "application/papermill.record/",
       "name": "hohmann-departure-Delta_vt"
      }
     },
     "output_type": "display_data"
    }
   ],
   "source": [
    "from functools import partial\n",
    "from myst_nb import glue as mystglue\n",
    "glue = partial(mystglue, display=False)\n",
    "glue(\"hohmann-departure-v_1\", v_i)\n",
    "glue(\"hohmann-departure-v_t1\", v_t1)\n",
    "glue(\"hohmann-departure-Delta_vt\", Delta_vt)"
   ]
  },
  {
   "cell_type": "markdown",
   "id": "f0099725",
   "metadata": {},
   "source": [
    "Here, `v_1` is the heliocentric orbital velocity of Neptune, and `v_t1` is the spacecraft velocity on the heliocentric transfer orbit at Neptune's orbital radius relative to the Sun. `Delta_vt` is the change in velocity needed between Neptune's orbital velocity and the transfer orbit velocity. In other words, this is the spacecraft speed relative to Neptune at the start of the heliocentric transfer orbit.\n",
    "\n",
    "`Delta_vt` is equal to $v_{\\infty}$ that we need for the Neptune-centered hyperbolic escape trajectory. In addition, we know that the parking orbit radius, and therefore the radius of the hyperbolic periapsis is 26,000 km. Using this we can find the periapsis velocity."
   ]
  },
  {
   "cell_type": "code",
   "execution_count": 8,
   "id": "994f56a3",
   "metadata": {},
   "outputs": [
    {
     "name": "stdout",
     "output_type": "stream",
     "text": [
      "hohmann-departure-v_park 16.536662299267043\n",
      "hohmann-departure-v_p 23.768091360180915\n",
      "hohmann-departure-Delta_v 7.231429060913872\n"
     ]
    }
   ],
   "source": [
    "v_infty = Delta_vt\n",
    "\n",
    "mu_i = 6.83653E6  # km**3/s**2, Neptune\n",
    "r_p = 25_000  # km\n",
    "v_park = m.sqrt(mu_i / r_p)\n",
    "v_p = m.sqrt(v_infty**2 + 2 * mu_i / r_p)  # km/s\n",
    "\n",
    "Delta_v = abs(v_p - v_park)\n",
    "\n",
    "print(\"hohmann-departure-v_park\", v_park)\n",
    "print(\"hohmann-departure-v_p\", v_p)\n",
    "print(\"hohmann-departure-Delta_v\", Delta_v)"
   ]
  },
  {
   "cell_type": "code",
   "execution_count": 9,
   "id": "eb681d92",
   "metadata": {
    "tags": [
     "remove-cell"
    ]
   },
   "outputs": [
    {
     "data": {
      "application/papermill.record/text/plain": "16.536662299267043"
     },
     "metadata": {
      "scrapbook": {
       "mime_prefix": "application/papermill.record/",
       "name": "hohmann-departure-v_park"
      }
     },
     "output_type": "display_data"
    },
    {
     "data": {
      "application/papermill.record/text/plain": "23.768091360180915"
     },
     "metadata": {
      "scrapbook": {
       "mime_prefix": "application/papermill.record/",
       "name": "hohmann-departure-v_p"
      }
     },
     "output_type": "display_data"
    },
    {
     "data": {
      "application/papermill.record/text/plain": "7.231429060913872"
     },
     "metadata": {
      "scrapbook": {
       "mime_prefix": "application/papermill.record/",
       "name": "hohmann-departure-Delta_v"
      }
     },
     "output_type": "display_data"
    }
   ],
   "source": [
    "glue(\"hohmann-departure-v_park\", v_park)\n",
    "glue(\"hohmann-departure-v_p\", v_p)\n",
    "glue(\"hohmann-departure-Delta_v\", Delta_v)"
   ]
  },
  {
   "cell_type": "markdown",
   "id": "f7fb9331",
   "metadata": {},
   "source": [
    "The hyperbolic excess speed is $v_{\\infty} =$ {glue:text}`hohmann-departure-Delta_vt:.3f` km/s, the parking orbit speed is $v_{\\text{park}} =$ {glue:text}`hohmann-departure-v_park:.3f` km/s, the hyperbola periapsis speed is $v_p =$ {glue:text}`hohmann-departure-v_p:.3f` km/s, and the $\\Delta v$ to change from the parking orbit to the hyperbola is $\\Delta v =$ {glue:text}`hohmann-departure-Delta_v:.3f` km/s.\n",
    "\n",
    "This is a fairly large $\\Delta v$ requirement. One reason is that the 1-bar-radius of Neptune is about 24,764 km, so a 25,000 km parking orbit is very deep in Neptune's gravity well.\n",
    "\n",
    "The impulse angle relative to the departure asymptote can be found by calculating the eccentricity."
   ]
  },
  {
   "cell_type": "code",
   "execution_count": 10,
   "id": "d0c1a134",
   "metadata": {},
   "outputs": [
    {
     "name": "stdout",
     "output_type": "stream",
     "text": [
      "hohmann-departure-ecc 1.0658220138941341\n",
      "hohmann-departure-eta 159.75854733412316\n"
     ]
    }
   ],
   "source": [
    "ecc = 1 + r_p * v_infty**2 / mu_i\n",
    "\n",
    "eta = m.acos(-1/ecc)\n",
    "\n",
    "print(\"hohmann-departure-ecc\", ecc)\n",
    "print(\"hohmann-departure-eta\", m.degrees(eta))"
   ]
  },
  {
   "cell_type": "code",
   "execution_count": 11,
   "id": "0ab8e07b",
   "metadata": {
    "tags": [
     "remove-cell"
    ]
   },
   "outputs": [
    {
     "data": {
      "application/papermill.record/text/plain": "1.0658220138941341"
     },
     "metadata": {
      "scrapbook": {
       "mime_prefix": "application/papermill.record/",
       "name": "hohmann-departure-ecc"
      }
     },
     "output_type": "display_data"
    },
    {
     "data": {
      "application/papermill.record/text/plain": "159.75854733412316"
     },
     "metadata": {
      "scrapbook": {
       "mime_prefix": "application/papermill.record/",
       "name": "hohmann-departure-eta"
      }
     },
     "output_type": "display_data"
    }
   ],
   "source": [
    "glue(\"hohmann-departure-ecc\", ecc)\n",
    "glue(\"hohmann-departure-eta\", m.degrees(eta))"
   ]
  },
  {
   "cell_type": "markdown",
   "id": "0a0d6e80",
   "metadata": {},
   "source": [
    "The eccentricity of the hyperbola is $e =$ {glue:text}`hohmann-departure-ecc:.4f` and the impulse angle is $\\eta =$ {glue:text}`hohmann-departure-eta:.2f`°, assuming the parking orbit is prograde."
   ]
  },
  {
   "cell_type": "code",
   "execution_count": null,
   "id": "f62cb736-dd75-4b85-bc6f-7041b4769bc6",
   "metadata": {},
   "outputs": [],
   "source": []
  }
 ],
 "metadata": {
  "kernelspec": {
   "display_name": "Python 3 (ipykernel)",
   "language": "python",
   "name": "python3"
  },
  "language_info": {
   "codemirror_mode": {
    "name": "ipython",
    "version": 3
   },
   "file_extension": ".py",
   "mimetype": "text/x-python",
   "name": "python",
   "nbconvert_exporter": "python",
   "pygments_lexer": "ipython3",
   "version": "3.9.13"
  },
  "source_map": [
   12,
   134,
   150,
   158,
   164,
   175,
   180,
   188,
   194,
   198
  ]
 },
 "nbformat": 4,
 "nbformat_minor": 5
}
