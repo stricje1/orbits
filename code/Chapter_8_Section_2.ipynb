{
 "cells": [
  {
   "cell_type": "markdown",
   "id": "4018c2cd",
   "metadata": {},
   "source": [
    "# Heliocentric Trajectories\n",
    "\n",
    "In this section, we will discuss the heliocentric trajectory portion of the method of patched conics. There are three primary results of the calculation of the heliocentric trajectory:\n",
    "\n",
    "1. The required spacecraft velocity at the edge of the initial planet’s sphere of influence, such that it is placed on the appropriate transfer trajectory\n",
    "2. The spacecraft velocity at arrival to the final planet’s orbit around the Sun\n",
    "3. The timing of the transfer\n",
    "\n",
    "The third result will be discussed in the [next section](./interplanetary-transfer-phasing.md). Essentially, it determines when the spacecraft should depart the initial planet so that it arrives at the final planet’s orbit in the same location as the final planet.\n",
    "\n",
    "In this section, we’ll present a simplified method of analysis to calculate the transfer trajectory velocities. This will allow us to determine the required $\\Delta v$s at the departure and arrival planets.\n",
    "\n",
    "## Trajectory Velocity Requirement\n",
    "\n",
    "In general, any trajectory that intersects the initial and final orbit can be used for an interplanetary transfer, just as for transfers in the same gravitational field. The particular transfer trajectory chosen will depend on the requirement for the mission duration and the available propellant mass, as well as the available launch windows.\n",
    "\n",
    "However, the Hohmann transfer is still the most efficient transfer, so it is a useful basis for comparison to other trajectories. Recall that in the Hohmann transfer, the velocity vectors of the spacecraft at departure and arrival are parallel to the initial and final orbits, and that the transfer is made of 180° of an ellipse.\n",
    "\n",
    "To calculate the orbital parameters for a transfer, we will simplify the calculations with three assumptions:\n",
    "\n",
    "1. All the planetary orbits are coplanar. With the exceptions of Mercury and Pluto, the orbital inclinations of the planets range from 0° for Earth to 3.4° for Venus, as shown in {numref}`tab:planetary-orbital-elements`.\n",
    "2. The planetary orbits are circular. Again with the exceptions of Mercury and Pluto, the eccentricities of the planets’ orbits range from 6.7×10<sup>-3</sup> for Venus to 9.3×10<sup>-2</sup>, as shown in {numref}`tab:planetary-orbital-elements`.\n",
    "3. The radius of the circular orbit is equal to the mean semimajor axis of the orbit. The semimajor axis can be found in {numref}`tab:planetary-orbital-elements`.\n",
    "\n",
    "With these three assumptions, the calculation of the required velocities can be completed by the methods discussed in [](../orbital-maneuvers/hohmann-transfer.md) and [](../orbital-maneuvers/non-hohmann-transfers.md).\n",
    "\n",
    "The value for the gravitational parameter $\\mu$ *must* be the value for the sun, $\\mu_{\\text{Sun}} =$ 1.32712×10<sup>11</sup> km<sup>3</sup>/s<sup>2</sup>.\n",
    "\n",
    "<!-- markdownlint-disable MD022 -->\n",
    "(sec:neptune-venus-hohmann-example)=\n",
    "## Example: Neptune–Venus Hohmann Transfer\n",
    "<!-- markdownlint-enable MD022 -->\n",
    "\n",
    "A spacecraft will complete a Hohmann transfer from Neptune to Venus. Calculate the required $\\Delta v$ and the total transfer time.\n",
    "\n",
    "As with the single-planet Hohmann transfer, there are multiple approaches to computing the required velocities. We will start by calculating the orbital velocities of the two planets. Any objects in the same orbit about the Sun must have the same velocity.\n",
    "\n",
    "The spacecraft will start on the same orbit as Neptune, with Neptune's orbital velocity, before providing an impulse to get onto the transfer orbit. Upon reaching Venus's orbit, the spacecraft will provide another impulse to change its velocity to match Venus's orbital velocity.\n",
    "\n",
    "The value for $\\mu_{\\text{Sun}}$ comes from {numref}`tab:planetary-mass-parameters` and the orbital radii for the planets are assumed to be equal to the semimajor axes given in {numref}`tab:planetary-orbital-elements`."
   ]
  },
  {
   "cell_type": "code",
   "execution_count": 1,
   "id": "0733d594",
   "metadata": {
    "tags": []
   },
   "outputs": [
    {
     "name": "stdout",
     "output_type": "stream",
     "text": [
      "heliocentric-hohmann-v_1 5.411173520791793\n",
      "heliocentric-hohmann-v_2 35.020585710999754\n"
     ]
    }
   ],
   "source": [
    "import math as m\n",
    "mu = 1.32712E11  # km**3/s**2\n",
    "\n",
    "r_1 = 4.53239E9  # km\n",
    "r_2 = 1.08209E8  # km\n",
    "\n",
    "v_1 = m.sqrt(mu / r_1)\n",
    "v_2 = m.sqrt(mu / r_2)\n",
    "\n",
    "print(\"heliocentric-hohmann-v_1\", v_1)\n",
    "print(\"heliocentric-hohmann-v_2\", v_2)"
   ]
  },
  {
   "cell_type": "code",
   "execution_count": 2,
   "id": "83bcd65c",
   "metadata": {
    "tags": [
     "remove-cell"
    ]
   },
   "outputs": [
    {
     "data": {
      "text/plain": [
       "5.411173520791793"
      ]
     },
     "metadata": {
      "scrapbook": {
       "mime_prefix": "application/papermill.record/",
       "name": "heliocentric-hohmann-v_1"
      }
     },
     "output_type": "display_data"
    },
    {
     "data": {
      "text/plain": [
       "35.020585710999754"
      ]
     },
     "metadata": {
      "scrapbook": {
       "mime_prefix": "application/papermill.record/",
       "name": "heliocentric-hohmann-v_2"
      }
     },
     "output_type": "display_data"
    }
   ],
   "source": [
    "from functools import partial\n",
    "from myst_nb import glue as mystglue\n",
    "glue = partial(mystglue, display=False)\n",
    "glue(\"heliocentric-hohmann-v_1\", v_1)\n",
    "glue(\"heliocentric-hohmann-v_2\", v_2)"
   ]
  },
  {
   "cell_type": "markdown",
   "id": "2721254d",
   "metadata": {},
   "source": [
    "This gives orbital velocities of $v_1 =$ {glue:text}`heliocentric-hohmann-v_1:.3f` km/s for Neptune and $v_2 =$ {glue:text}`heliocentric-hohmann-v_2:.3f` km/s for Venus. These match the values from {numref}`tab:planetary-orbital-elements`, as expected.\n",
    "\n",
    "Next, we'll use the orbital energy of the transfer orbit to determine the velocities at aphelion and perihelion of the transfer orbit."
   ]
  },
  {
   "cell_type": "code",
   "execution_count": 2,
   "id": "7efa0632",
   "metadata": {},
   "outputs": [
    {
     "name": "stdout",
     "output_type": "stream",
     "text": [
      "heliocentric-hohmann-v_t1 1.168560304163792\n",
      "heliocentric-hohmann-v_t2 48.94575346772374\n"
     ]
    }
   ],
   "source": [
    "a_t = (r_1 + r_2) / 2\n",
    "E_t = - mu / (2 * a_t)\n",
    "v_t1 = m.sqrt(2 * (E_t + mu / r_1))\n",
    "v_t2 = m.sqrt(2 * (E_t + mu / r_2))\n",
    "print(\"heliocentric-hohmann-v_t1\", v_t1)\n",
    "print(\"heliocentric-hohmann-v_t2\", v_t2)"
   ]
  },
  {
   "cell_type": "code",
   "execution_count": 4,
   "id": "e0e23412",
   "metadata": {
    "tags": [
     "remove-cell"
    ]
   },
   "outputs": [
    {
     "data": {
      "text/plain": [
       "1.168560304163792"
      ]
     },
     "metadata": {
      "scrapbook": {
       "mime_prefix": "application/papermill.record/",
       "name": "heliocentric-hohmann-v_t1"
      }
     },
     "output_type": "display_data"
    },
    {
     "data": {
      "text/plain": [
       "48.94575346772374"
      ]
     },
     "metadata": {
      "scrapbook": {
       "mime_prefix": "application/papermill.record/",
       "name": "heliocentric-hohmann-v_t2"
      }
     },
     "output_type": "display_data"
    }
   ],
   "source": [
    "glue(\"heliocentric-hohmann-v_t1\", v_t1)\n",
    "glue(\"heliocentric-hohmann-v_t2\", v_t2)"
   ]
  },
  {
   "cell_type": "markdown",
   "id": "0b4770ed",
   "metadata": {},
   "source": [
    "The velocities on the transfer orbit are $v_{t,1} =$ {glue:text}`heliocentric-hohmann-v_t1:.3f` km/s at depature from Neptune and $v_{t,2} =$ {glue:text}`heliocentric-hohmann-v_t2:.3f` km/s at arrival at Venus. Finally, the total $\\Delta v$ is found by the sum of the $\\Delta v$ at each end of the transfer orbit. We can also calculate the transfer time from the semimajor axis."
   ]
  },
  {
   "cell_type": "code",
   "execution_count": 3,
   "id": "ec989720",
   "metadata": {},
   "outputs": [
    {
     "name": "stdout",
     "output_type": "stream",
     "text": [
      "heliocentric-hohmann-Delta_v 18.167780973351988\n",
      "heliocentric-hohmann-t_12 30.563581077452127\n"
     ]
    }
   ],
   "source": [
    "Delta_v = abs(v_t1 - v_1) + abs(v_t2 - v_2)\n",
    "t_12 = m.pi / m.sqrt(mu) * a_t**(3/2)\n",
    "print(\"heliocentric-hohmann-Delta_v\", Delta_v)\n",
    "print(\"heliocentric-hohmann-t_12\", t_12/(525600*60))"
   ]
  },
  {
   "cell_type": "code",
   "execution_count": 6,
   "id": "e2d94169",
   "metadata": {
    "tags": [
     "remove-cell"
    ]
   },
   "outputs": [
    {
     "data": {
      "text/plain": [
       "18.167780973351988"
      ]
     },
     "metadata": {
      "scrapbook": {
       "mime_prefix": "application/papermill.record/",
       "name": "heliocentric-hohmann-Delta_v"
      }
     },
     "output_type": "display_data"
    },
    {
     "data": {
      "text/plain": [
       "30.563581077452127"
      ]
     },
     "metadata": {
      "scrapbook": {
       "mime_prefix": "application/papermill.record/",
       "name": "heliocentric-hohmann-t_12"
      }
     },
     "output_type": "display_data"
    }
   ],
   "source": [
    "glue(\"heliocentric-hohmann-Delta_v\", Delta_v)\n",
    "glue(\"heliocentric-hohmann-t_12\", t_12/(525600*60))"
   ]
  },
  {
   "cell_type": "markdown",
   "id": "85e9140b",
   "metadata": {},
   "source": [
    "The results are $\\Delta v =$ {glue:text}`heliocentric-hohmann-Delta_v:.3f` km/s and $t_{12} =$ {glue:text}`heliocentric-hohmann-t_12:.3f` years."
   ]
  }
 ],
 "metadata": {
  "kernelspec": {
   "display_name": "Python 3 (ipykernel)",
   "language": "python",
   "name": "python3"
  },
  "language_info": {
   "codemirror_mode": {
    "name": "ipython",
    "version": 3
   },
   "file_extension": ".py",
   "mimetype": "text/x-python",
   "name": "python",
   "nbconvert_exporter": "python",
   "pygments_lexer": "ipython3",
   "version": "3.9.13"
  },
  "source_map": [
   12,
   55,
   66,
   73,
   79,
   86,
   90,
   94,
   99,
   103
  ]
 },
 "nbformat": 4,
 "nbformat_minor": 5
}
