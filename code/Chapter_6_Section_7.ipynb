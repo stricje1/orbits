{
 "cells": [
  {
   "cell_type": "markdown",
   "id": "6e879ef1",
   "metadata": {},
   "source": [
    "# Example: Universal Lagrange Coefficients\n",
    "\n",
    "An Earth satellite moves in an inertial frame with the origin at the earth's center. Relative to that frame, the initial position and velocity of the satellite are measured as:\n",
    "\n",
    ":::{math}\n",
    ":label:\n",
    "\\begin{aligned}\\vector{r}_0 &= 7000.0\\uvec{\\imath} - 12124\\uvec{\\jmath}\\\\\\vector{v}_0 &= 2.6679\\uvec{\\imath} + 4.6210\\uvec{\\jmath}\\end{aligned}\n",
    ":::\n",
    "\n",
    "Compute $\\vector{r}$ and $\\vector{v}$ 60 minutes later.\n",
    "\n",
    "## Solution\n",
    "\n",
    "In this problem, our objective is to calculate $\\chi$ so that we can calculate the universal Lagrange coefficients and determine the vectors at the later time. We will find $\\chi$ by solving the universal Kepler's equation, Eq. {eq}`eq:universal-keplers-equation`, repeated here for reference:\n",
    "\n",
    ":::{math}\n",
    "f(\\chi) = 0 = \\frac{r_0 v_{r,0}}{\\sqrt{\\mu}}\\chi^2 C\\left(\\alpha\\chi^2\\right) + \\left(1 - \\alpha r_0\\right) \\chi^3 S\\left(\\alpha\\chi^2\\right) + r_0 \\chi - \\sqrt{\\mu}\\left(t - t_0\\right)\n",
    ":::\n",
    "\n",
    "First, we need to find the magnitude of the initial position, and the magnitude of the initial radial velocity. The former is found from:\n",
    "\n",
    ":::{math}\n",
    ":label:\n",
    "r = \\sqrt{\\vector{r}\\cdot\\vector{r}}\n",
    ":::\n",
    "\n",
    "and the latter by projecting the velocity vector onto a unit vector pointing in the direction of $\\vector{r}$:\n",
    "\n",
    ":::{math}\n",
    ":label:\n",
    "v_{r,0} = \\vector{v}\\cdot\\uvec{u}_r = \\vector{v}\\cdot\\frac{\\vector{r}}{r}\n",
    ":::"
   ]
  },
  {
   "cell_type": "code",
   "execution_count": 1,
   "id": "bd5900e3",
   "metadata": {},
   "outputs": [
    {
     "name": "stdout",
     "output_type": "stream",
     "text": [
      "r_0 = 13999.692 -2.668\n"
     ]
    }
   ],
   "source": [
    "import numpy as np\n",
    "from scipy.optimize import newton\n",
    "\n",
    "mu = 3.986004418E5  # km**3/s**2\n",
    "\n",
    "vec_r_0 = np.array((7000, -12124))  # km\n",
    "vec_v_0 = np.array((2.6679, 4.6210))  # km/s\n",
    "\n",
    "r_0 = np.sqrt(vec_r_0.dot(vec_r_0))\n",
    "v_r0 = vec_v_0.dot(vec_r_0) / r_0\n",
    "print(\"r_0 =\",round(r_0, 3), round(v_r0, 3))"
   ]
  },
  {
   "cell_type": "markdown",
   "id": "91184e05",
   "metadata": {},
   "source": [
    "Then, we need to find $\\alpha$, which we can find from the energy equation:\n",
    "\n",
    ":::{math}\n",
    ":label:\n",
    "\\alpha = \\frac{1}{a} = \\frac{2}{r_0} - \\frac{v_0^2}{\\mu}\n",
    ":::\n",
    "\n",
    "where\n",
    "\n",
    ":::{math}\n",
    ":label:\n",
    "v_0^2 = \\vector{v}_0 \\cdot\\vector{v}_0\n",
    ":::"
   ]
  },
  {
   "cell_type": "code",
   "execution_count": 2,
   "id": "6086f6f8",
   "metadata": {},
   "outputs": [
    {
     "name": "stdout",
     "output_type": "stream",
     "text": [
      "alpha = 7.143203731574636e-05\n"
     ]
    }
   ],
   "source": [
    "alpha = 2 / r_0 - vec_v_0.dot(vec_v_0) / mu\n",
    "print(\"alpha =\",alpha)"
   ]
  },
  {
   "cell_type": "markdown",
   "id": "b61d454f",
   "metadata": {},
   "source": [
    "Since $\\alpha$ is positive, this must be an elliptical orbit.\n",
    "\n",
    "Now we have enough information to solve the universal Kepler equation."
   ]
  },
  {
   "cell_type": "code",
   "execution_count": 5,
   "id": "52eae69e",
   "metadata": {},
   "outputs": [
    {
     "name": "stdout",
     "output_type": "stream",
     "text": [
      "chi - 253.535\n"
     ]
    }
   ],
   "source": [
    "def stumpff_0(z):\n",
    "    \"\"\"Solve the Stumpff function C(z) = c0(z). The input z should be\n",
    "    a scalar value.\n",
    "    \"\"\"\n",
    "    if z > 0:\n",
    "        return (1 - np.cos(np.sqrt(z))) / z\n",
    "    elif z < 0:\n",
    "        return (np.cosh(np.sqrt(-z)) - 1) / (-z)\n",
    "    else:\n",
    "        return 1/2\n",
    "\n",
    "def stumpff_1(z):\n",
    "    \"\"\"Solve the Stumpff function S(z) = c1(z). The input z should be\n",
    "    a scalar value.\n",
    "    \"\"\"\n",
    "    if z > 0:\n",
    "        return (np.sqrt(z) - np.sin(np.sqrt(z))) / np.sqrt(z)**3\n",
    "    elif z < 0:\n",
    "        return (np.sinh(np.sqrt(-z)) - np.sqrt(-z)) / np.sqrt(-z)**3\n",
    "    else:\n",
    "        return 1/6\n",
    "\n",
    "def universal_kepler(chi, r_0, v_r0, alpha, delta_t, mu):\n",
    "    \"\"\"Solve the universal Kepler equation in terms of the universal anomaly chi.\n",
    "    \n",
    "    This function is intended to be used with an iterative solution algorithm,\n",
    "    such as Newton's algorithm.\n",
    "    \"\"\"\n",
    "    z = alpha * chi**2\n",
    "    first_term = r_0 * v_r0 / np.sqrt(mu) * chi**2 * stumpff_0(z)\n",
    "    second_term = (1 - alpha * r_0) * chi**3 * stumpff_1(z)\n",
    "    third_term = r_0 * chi\n",
    "    fourth_term = np.sqrt(mu) * delta_t\n",
    "    return first_term + second_term + third_term - fourth_term\n",
    "\n",
    "def d_universal_d_chi(chi, r_0, v_r0, alpha, delta_t, mu):\n",
    "    \"\"\"The derivative of the universal Kepler equation in terms of the universal anomaly.\"\"\"\n",
    "    z = alpha * chi**2\n",
    "    first_term = r_0 * v_r0 / np.sqrt(mu) * chi * (1 - z * stumpff_1(z))\n",
    "    second_term = (1 - alpha * r_0) * chi**2 * stumpff_0(z)\n",
    "    third_term = r_0\n",
    "    return first_term + second_term + third_term\n",
    "\n",
    "\n",
    "delta_t = 1 * 3600\n",
    "chi_0 = np.sqrt(mu) * np.abs(alpha) * delta_t\n",
    "chi = newton(\n",
    "    func=universal_kepler,\n",
    "    fprime=d_universal_d_chi,\n",
    "    x0=chi_0,\n",
    "    args=(r_0, v_r0, alpha, delta_t, mu),\n",
    ")\n",
    "print(\"chi =\",round(chi, 3))"
   ]
  },
  {
   "cell_type": "markdown",
   "id": "1507b3a0",
   "metadata": {},
   "source": [
    "Now we can solve the equations to find the Lagrange coefficients, and then the position and velocity at the later time."
   ]
  },
  {
   "cell_type": "code",
   "execution_count": 6,
   "id": "94964dca",
   "metadata": {},
   "outputs": [
    {
     "name": "stdout",
     "output_type": "stream",
     "text": [
      "vec_r = -3297.797i + 7413.380j (km)\n",
      "r = 8113.795 km\n"
     ]
    }
   ],
   "source": [
    "z = alpha * chi**2\n",
    "f = 1 - chi**2 / r_0 * stumpff_0(z)\n",
    "g = delta_t - chi**3 / np.sqrt(mu) * stumpff_1(z)\n",
    "\n",
    "vec_r = f * vec_r_0 + g * vec_v_0\n",
    "r = np.sqrt(vec_r.dot(vec_r))\n",
    "print(f\"vec_r = {vec_r[0]:.3F}i + {vec_r[1]:.3F}j (km)\")\n",
    "print(\"r =\",round(r, 3), \"km\")"
   ]
  },
  {
   "cell_type": "code",
   "execution_count": 7,
   "id": "9efaf3a1",
   "metadata": {},
   "outputs": [
    {
     "name": "stdout",
     "output_type": "stream",
     "text": [
      "vec_v = -8.298i + -0.964j (km/s)\n",
      "v = 8.353 km/s\n"
     ]
    }
   ],
   "source": [
    "fdot = chi * np.sqrt(mu) / (r * r_0) * (z * stumpff_1(z) - 1)\n",
    "gdot = 1 - chi**2 / r * stumpff_0(z)\n",
    "\n",
    "vec_v = fdot * vec_r_0 + gdot * vec_v_0\n",
    "v = np.sqrt(vec_v.dot(vec_v))\n",
    "print(f\"vec_v = {vec_v[0]:.3F}i + {vec_v[1]:.3F}j (km/s)\")\n",
    "print(\"v =\",round(v, 3), \"km/s\")"
   ]
  },
  {
   "cell_type": "markdown",
   "id": "5d0e5b0c",
   "metadata": {},
   "source": [
    "We can also compute the distance to perigee. First, we calculate the orbital angular momentum via:\n",
    "\n",
    ":::{math}\n",
    ":label:\n",
    "h = \\left.v_{\\perp}\\right)_0 r_0\n",
    ":::\n",
    "\n",
    "where\n",
    "\n",
    ":::{math}\n",
    ":label:\n",
    "\\left.v_{\\perp}\\right)_0 = \\sqrt{v_0^2 - v_{r,0}^2}\n",
    ":::\n",
    "\n",
    "Then, since this is an elliptical orbit and we know the semimajor axis, we can find the eccentricity via:\n",
    "\n",
    ":::{math}\n",
    ":label:\n",
    "a = \\frac{h^2}{\\mu} \\frac{1}{1 - e^2}\n",
    ":::\n",
    "\n",
    "Finally, the distance to perigee is found from:\n",
    "\n",
    ":::{math}\n",
    ":label:\n",
    "r_p = a\\left(1 - e\\right)\n",
    ":::\n",
    "\n",
    "Alternatively, we can find the eccentricity from the energy equation:\n",
    "\n",
    ":::{math}\n",
    ":label:\n",
    "\\varepsilon = \\frac{1}{2}\\frac{\\mu^2}{h^2}\\left(1 - e^2\\right)\n",
    ":::\n",
    "\n",
    "where $\\varepsilon$ can be determined from the initial velocity and position vectors."
   ]
  },
  {
   "cell_type": "code",
   "execution_count": 8,
   "id": "e418475d",
   "metadata": {},
   "outputs": [
    {
     "name": "stdout",
     "output_type": "stream",
     "text": [
      "r_p = 6999.744311448165\n"
     ]
    }
   ],
   "source": [
    "v_perp0 = np.sqrt(vec_v_0.dot(vec_v_0) - v_r0**2)\n",
    "h = v_perp0 * r_0\n",
    "a = 1 / alpha\n",
    "e = np.sqrt(1 - h**2 / (a * mu))\n",
    "r_p = a * (1 - e)\n",
    "print(\"r_p =\",r_p)"
   ]
  },
  {
   "cell_type": "markdown",
   "id": "61270efa",
   "metadata": {},
   "source": [
    "Fortunately, since the radius of the earth is 6378 km, this satellite will not impact the earth and will have an altitude at closest approach of ~622 km."
   ]
  }
 ],
 "metadata": {
  "kernelspec": {
   "display_name": "Python 3 (ipykernel)",
   "language": "python",
   "name": "python3"
  },
  "language_info": {
   "codemirror_mode": {
    "name": "ipython",
    "version": 3
   },
   "file_extension": ".py",
   "mimetype": "text/x-python",
   "name": "python",
   "nbconvert_exporter": "python",
   "pygments_lexer": "ipython3",
   "version": "3.9.13"
  },
  "source_map": [
   12,
   47,
   59,
   75,
   78,
   84,
   138,
   142,
   153,
   161,
   200,
   207
  ]
 },
 "nbformat": 4,
 "nbformat_minor": 5
}
