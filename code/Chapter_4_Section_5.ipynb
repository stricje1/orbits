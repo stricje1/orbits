{
 "cells": [
  {
   "cell_type": "code",
   "execution_count": 23,
   "id": "f702d033",
   "metadata": {},
   "outputs": [],
   "source": [
    "#pip install orpytal --user"
   ]
  },
  {
   "cell_type": "markdown",
   "id": "187633cf",
   "metadata": {},
   "source": [
    "OrPytal is an Python package for orbital mechanics. It began as a pet project to find a way to easily create two-body orbits and states, without needing a particular set of parameters. For example, what if you wanted to know what an orbit would look like with a particular radius of apoapsis and specific energy? How about semilatus rectum and eccentricity? OrPytal makes these problems trivial and syntactically easy."
   ]
  },
  {
   "cell_type": "code",
   "execution_count": 11,
   "id": "97a0d452",
   "metadata": {},
   "outputs": [
    {
     "name": "stdout",
     "output_type": "stream",
     "text": [
      "-------------------------------------------------------------------------------------------------------\n",
      "-------------------------------------------------------------------------------------------------------\n",
      "                                          Keplarian State Data                                         \n",
      "-------------------------------------------------------------------------------------------------------\n",
      "                                            Meta Information                                           \n",
      "  Orbit Name: .................\n",
      "  State Name: .................\n",
      "Central Body: Saturn\n",
      "        Type: Elliptic\n",
      "  Equitorial: .................\n",
      "   Ascending: True\n",
      "-------------------------------------------------------------------------------------------------------\n",
      "                                            State Parameters                                           \n",
      "\n",
      "    Pos. Mag. |r|:  6.5983104000e+05         km |          True Anomaly:  3.1415926536e+00        rad |     \n",
      "    Vel. Mag. |v|:  2.3976288910e+00       km/s |     Eccentric Anomaly:  3.1415926536e+00        rad |     \n",
      "Flight Path Angle:  0.0000000000e+00        rad |          Mean Anomaly:  3.1415926536e+00        rad |     \n",
      "Flight Path Angle:  0.0000000000e+00        rad |       Hyperb. Anomaly: ................. .......... |     \n",
      " Time Since Peri.:  1.0439272879e+05          s |      Arg. of Latitude: ................. .......... |     \n",
      "-------------------------------------------------------------------------------------------------------\n",
      "                                            Perifocal Frame                                            \n",
      "\n",
      "         Position: ................. .......... |              Velocity: ................. .......... |     \n",
      "                e: -6.5983104000e+05         km |                     e: -2.9362485470e-15       km/s |     \n",
      "                p:  8.0805997111e-11         km |                     p: -2.3976288910e+00       km/s |     \n",
      "                h:  0.0000000000e+00         km |                     h:  0.0000000000e+00       km/s |     \n",
      "-------------------------------------------------------------------------------------------------------\n",
      "-------------------------------------------------------------------------------------------------------\n",
      "                                            Orbit Parameters                                           \n",
      "\n",
      "     Eccentricity:  9.0000000000e-01         nd |           Inclination: ................. .......... |     \n",
      "   Semimajor Axis:  3.4727949474e+05         km |        Ascending Node: ................. .......... |     \n",
      "   Semiminor Axis:  1.5137562227e+05         km |      Arg of Periapsis: ................. .......... |     \n",
      " Semilatus Rectum:  6.5983104000e+04         km |      Angular Momentum:  1.5820299647e+06     km^2/s |     \n",
      "  Specific Energy: -5.4611930842e+01   km^2/s^2 |           Mean Motion:  3.0093979629e-05      rad/s |     \n",
      "   Rad. Periapsis:  3.4727949474e+04         km |     \n",
      "    Rad. Apoapsis:  6.5983104000e+05         km |        Orbital Period:  2.0878545758e+05          s |     \n",
      "-------------------------------------------------------------------------------------------------------\n"
     ]
    }
   ],
   "source": [
    "import orpytal as op\n",
    "\n",
    "orbit = op.Orbit(op.bodies.saturn)\n",
    "orbit.p = 41000 * op.units.miles\n",
    "orbit.e = 0.9\n",
    "\n",
    "# Alternatively op.Orbit(op.bodies.saturn, p=41000*op.units.miles, e=0.9)\n",
    "\n",
    "example_state = orbit.get_state(t_since_rp=orbit.period/2)\n",
    "\n",
    "print(example_state)"
   ]
  },
  {
   "cell_type": "code",
   "execution_count": 24,
   "id": "7bdbad07",
   "metadata": {},
   "outputs": [],
   "source": [
    "#pip install chart_studio --user"
   ]
  },
  {
   "cell_type": "code",
   "execution_count": 21,
   "id": "61444ea9",
   "metadata": {},
   "outputs": [],
   "source": [
    "import orpytal as op\n",
    "from chart_studio import plotly\n",
    "from dash import dcc\n",
    "\n",
    "# Create Orbit\n",
    "example_orbit = op.Orbit(op.bodies.earth)\n",
    "\n",
    "# Set desired orbit parameters\n",
    "example_orbit.period = 7.3 * op.units.hours\n",
    "example_orbit.e = 0.5\n",
    "example_orbit.raan = 120 * op.units.deg\n",
    "example_orbit.arg_periapsis = 70 * op.units.deg\n",
    "example_orbit.i = 45 * op.units.deg\n",
    "\n",
    "op.plotting.plot_orbit(example_orbit, frame=op.frames.InertialFrame)"
   ]
  },
  {
   "cell_type": "code",
   "execution_count": 19,
   "id": "8f09801f",
   "metadata": {},
   "outputs": [
    {
     "name": "stdout",
     "output_type": "stream",
     "text": [
      "<module 'orpytal' from 'C:\\\\Users\\\\jeff\\\\AppData\\\\Roaming\\\\Python\\\\Python39\\\\site-packages\\\\orpytal\\\\__init__.py'>\n"
     ]
    }
   ],
   "source": [
    "print(op)"
   ]
  },
  {
   "cell_type": "code",
   "execution_count": 22,
   "id": "6b2e851b",
   "metadata": {
    "scrolled": true
   },
   "outputs": [
    {
     "name": "stdout",
     "output_type": "stream",
     "text": [
      "-------------------------------------------------------------------------------------------------------\n",
      "-------------------------------------------------------------------------------------------------------\n",
      "                                          Keplarian State Data                                         \n",
      "-------------------------------------------------------------------------------------------------------\n",
      "                                            Meta Information                                           \n",
      "  Orbit Name: .................\n",
      "  State Name: .................\n",
      "Central Body: Earth\n",
      "        Type: Elliptic\n",
      "  Equitorial: .................\n",
      "   Ascending: True\n",
      "-------------------------------------------------------------------------------------------------------\n",
      "                                            State Parameters                                           \n",
      "\n",
      "    Pos. Mag. |r|:  1.9015884647e+04         km |          True Anomaly:  2.6577762216e+00        rad |     \n",
      "    Vel. Mag. |v|:  3.7287209422e+00       km/s |     Eccentric Anomaly:  2.3561944902e+00        rad |     \n",
      "Flight Path Angle:  3.6569590558e-01        rad |          Mean Anomaly:  2.0194769753e+00        rad |     \n",
      "Flight Path Angle:  3.6569590558e-01        rad |       Hyperb. Anomaly: ................. .......... |     \n",
      " Time Since Peri.:  5.4273192041e+03          s |      Arg. of Latitude: ................. .......... |     \n",
      "-------------------------------------------------------------------------------------------------------\n",
      "                                            Perifocal Frame                                            \n",
      "\n",
      "         Position: ................. .......... |              Velocity: ................. .......... |     \n",
      "                e: -1.6833357758e+04         km |                     e: -2.8001145621e+00       km/s |     \n",
      "                p:  8.8454471613e+03         km |                     p: -2.4622587809e+00       km/s |     \n",
      "                h:  0.0000000000e+00         km |                     h:  0.0000000000e+00       km/s |     \n",
      "-------------------------------------------------------------------------------------------------------\n",
      "-------------------------------------------------------------------------------------------------------\n",
      "                                            Orbit Parameters                                           \n",
      "\n",
      "     Eccentricity:  4.7619047619e-01         nd |           Inclination: ................. .......... |     \n",
      "   Semimajor Axis:  1.4225806452e+04         km |        Ascending Node: ................. .......... |     \n",
      "   Semiminor Axis:  1.2509351341e+04         km |      Arg of Periapsis: ................. .......... |     \n",
      " Semilatus Rectum:  1.1000000000e+04         km |      Angular Momentum:  6.6216348357e+04     km^2/s |     \n",
      "  Specific Energy: -1.4009765871e+01   km^2/s^2 |           Mean Motion:  3.7209474870e-04      rad/s |     \n",
      "   Rad. Periapsis:  7.4516129032e+03         km |     \n",
      "    Rad. Apoapsis:  2.1000000000e+04         km |        Orbital Period:  1.6885982211e+04          s |     \n",
      "-------------------------------------------------------------------------------------------------------\n"
     ]
    }
   ],
   "source": [
    "import orpytal as op\n",
    "\n",
    "# Compute an orbit given radius of apoapsis and semilatus rectum\n",
    "example_orbit = op.Orbit(op.bodies.earth, ra=21000*op.units.km,\n",
    "                         p=11000*op.units.km)\n",
    "\n",
    "# Return the state with an eccentric anomaly of 135 degrees\n",
    "example_state = example_orbit.get_state(E=135*op.units.deg)\n",
    "\n",
    "print(example_state)"
   ]
  },
  {
   "cell_type": "code",
   "execution_count": null,
   "id": "eb1e26f8",
   "metadata": {},
   "outputs": [],
   "source": []
  }
 ],
 "metadata": {
  "kernelspec": {
   "display_name": "Python 3 (ipykernel)",
   "language": "python",
   "name": "python3"
  },
  "language_info": {
   "codemirror_mode": {
    "name": "ipython",
    "version": 3
   },
   "file_extension": ".py",
   "mimetype": "text/x-python",
   "name": "python",
   "nbconvert_exporter": "python",
   "pygments_lexer": "ipython3",
   "version": "3.9.13"
  }
 },
 "nbformat": 4,
 "nbformat_minor": 5
}
