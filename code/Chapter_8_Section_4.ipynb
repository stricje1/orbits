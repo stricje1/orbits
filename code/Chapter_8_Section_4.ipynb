{
 "cells": [
  {
   "cell_type": "markdown",
   "id": "7acb36c3",
   "metadata": {},
   "source": [
    "# Interplanetary Transfer Phasing\n",
    "\n",
    "Aside from the $\\Delta v$ requirement discussed in the [previous section](./heliocentric-trajectories.md), the other important requirement for interplanetary trajectories is to correctly time the transfer so that the spacecraft and target planet rendezvous at arrival. Since the transfer orbits can take months or years to complete, the target planet may complete a significant fraction of its orbit during the transfer. Therefore, it is critical to launch the spacecraft at just the right time to rendezvous at arrival.\n",
    "\n",
    "As we did before, we will use the Hohmann transfer for simplicity. However, all the techniques discussed here can be applied to non-Hohmann transfers as well, as long as the total transfer time is known.\n",
    "\n",
    "## Planetary Phase Angles\n",
    "\n",
    "To correctly determine when a spacecraft should be launched, we need to know two things:\n",
    "\n",
    "1. The total time of the transfer orbit\n",
    "2. The angular distance between two planets, relative to the Sun\n",
    "\n",
    "The first item can be determined from the orbital elements of the transfer orbit, so we will not discuss how to calculate it here. The second item, the angular distance between two planets, is commonly called the **phase angle**. This is the angle formed by drawing radii from the initial planet to the Sun and then to the final planet, as shown in {numref}`fig:interplanetary-phase-angle`.\n",
    "\n",
    ":::{figure} ../images/interplanetary-phase-angle.svg\n",
    ":name: fig:interplanetary-phase-angle\n",
    ":width: 75%\n",
    "\n",
    "A hypothetical Hohmann transfer with increasing radius. The initial phase angle between the initial and final planets is $\\gamma_1$ and the phase angle after the transfer is complete is $\\gamma_2$. Note that while the spacecraft travels 180° of true anomaly on the transfer trajectory (green), the initial planet (blue) travels more than 180° and the final planet (red) travels less than 180°.\n",
    ":::\n",
    "\n",
    "In the previous section, we assumed that the orbits of the planets are circular. This allows us to define the angluar distance traversed by the planet in a time interval by its average angular velocity, also called the _mean motion_:\n",
    "\n",
    ":::{math}\n",
    ":label: eq:mean-motion\n",
    "n = \\frac{2\\pi}{T}\n",
    ":::\n",
    "\n",
    "Using the mean motion, we can define the true anomaly of a planet at a given time $t$:\n",
    "\n",
    ":::{math}\n",
    ":label: eq:circle-planet-true-anomaly\n",
    "\\nu = \\nu_0 + n t\n",
    ":::\n",
    "\n",
    "where $\\nu_0$ is the value of the true anomaly at $t = 0$. Applying this to the two planets in the transfer, we can write:\n",
    "\n",
    ":::{math}\n",
    ":label: eq:planetary-phase-angle\n",
    "\n",
    "\\gamma = \\nu_f - \\nu_i = \\gamma_0 + \\left(n_f - n_i\\right) t\n",
    ":::\n",
    "\n",
    "where $\\gamma_0 = \\nu_{f,0} - \\nu_{i,0}$ is the phase angle at $t = 0$.\n",
    "\n",
    "### Synodic Period\n",
    "\n",
    "The question naturally arises, if the phase angle is $\\gamma_0$ at $t = 0$, how long does it take to become $\\gamma_0$ again? This length of time is called the **synodic period** of the two planets. Each pair of planets has its own synodic period, determined by the relative mean motions of the planets.\n",
    "\n",
    "If we want the phase angle to change from $\\gamma_0$, through all the values, and come back to $\\gamma_0$, then the phase angle will have changed by 2𝜋 radians. If the initial planet has a smaller orbital radius, then the apparent motion is clockwise and the final phase angle is $\\gamma_0 - 2\\pi$. On the other hand, if the initial planet has a larger orbital radius, then the final phase angle will be $\\gamma_0 + 2\\pi$ because the apparent motion is counterclockwise.\n",
    "\n",
    "In either case, we can use Eq. {eq}`eq:planetary-phase-angle` to calculate the time it takes for the initial phase angle to reoccur:\n",
    "\n",
    ":::{math}\n",
    ":label: eq:synodic-period-1\n",
    "\\gamma_0 \\pm 2\\pi = \\gamma_0 + \\left(n_f - n_i\\right) T_{syn}\n",
    ":::\n",
    "\n",
    "where $T_{syn}$ is the synodic period. Solving Eq. {eq}`eq:synodic-period-1` for $T_{syn}$ would result in two equations, depending on whether $n_f > n_i$ or vice versa. We can unify the equations by taking the absolute value of the difference $n_f - n_i$:\n",
    "\n",
    ":::{math}\n",
    ":label: eq:synodic-period-2\n",
    "T_{syn} = \\frac{2\\pi}{\\lvert n_f - n_i\\rvert}\n",
    ":::\n",
    "\n",
    "Finally, by plugging Eq. {eq}`eq:mean-motion` into Eq. {eq}`eq:synodic-period-2`, we can write the synodic period in terms of the planets' orbital periods, $T_i$ and $T_f$:\n",
    "\n",
    ":::{math}\n",
    ":label: eq:synodic-period-3\n",
    "T_{syn} = \\frac{T_i T_f}{\\lvert T_i - T_f\\rvert}\n",
    ":::\n",
    "\n",
    "The synodic period is the period of the orbit of one planet relative to another, rather than relative to the Sun.\n",
    "\n",
    "## Phase Angle at Departure\n",
    "\n",
    "We now have enough information to determine the required phase angle at departure from the initial planet. Given the transfer trajectory, we can compute the transfer time, $t_{12}$. For a Hohmann transfer, this is given by Eq. {eq}`eq:hohmann-transfer-time`.\n",
    "\n",
    "During the transfer, the final planet moves an angular distance $n_f t_{12}$ radians, since $n_f$ is constant. This is shown in {numref}`fig:interplanetary-initial-phase-angle`.\n",
    "\n",
    ":::{figure} ../images/interplanetary-initial-phase-angle.svg\n",
    ":name: fig:interplanetary-initial-phase-angle\n",
    ":width: 60%\n",
    "\n",
    "The initial phase angle $\\gamma_1$ and final phase angle $\\gamma_2$ are related to the angular travel distances.\n",
    ":::\n",
    "\n",
    "The initial true anomaly of the final planet is $\\nu_{f,1}$ and its final anomaly is $\\nu_{f,2}$, such that:\n",
    "\n",
    ":::{math}\n",
    ":label: eq:interplanetary-final-planet-arrival-true-anomaly\n",
    "\\nu_{f,2} = \\nu_{f,1} + n_f t_{12}\n",
    ":::\n",
    "\n",
    "Similarly, the initial true anomaly of the initial planet is $\\nu_{i,1}$ and its final anomaly is $\\nu_{i,2}$, such that:\n",
    "\n",
    ":::{math}\n",
    ":label: eq:interplanetary-initial-planet-arrival-true-anomaly\n",
    "\\nu_{i,2} = \\nu_{i,1} + n_i t_{12}\n",
    ":::\n",
    "\n",
    "where $n_i t_{12}$ is the angular distance traveled by the initial planet during the transfer. The phase angle at departure, $\\gamma_1$ is given by Eq. {eq}`eq:planetary-phase-angle`:\n",
    "\n",
    ":::{math}\n",
    ":label: eq:interplanetary-initial-true-anomaly\n",
    "\\gamma_1 = \\nu_{f,1} - \\nu_{i,1}\n",
    ":::\n",
    "\n",
    "Meanwhilie, the spacecraft travels an angular distance of $\\Gamma$ radians during the transfer. $\\Gamma$ is the difference in true anomaly between the departure and arrival points on the transfer trajectory.\n",
    "\n",
    ":::{math}\n",
    ":label: eq:interplanetary-transfer-true-anomaly\n",
    "\\Gamma = \\nu_B - \\nu_A\n",
    ":::\n",
    "\n",
    "where $\\nu_B$ and $\\nu_A$ are the true anomalies of the arrival and departure points, respectively. For a Hohmann transfer, $\\nu_B - \\nu_A = \\pi$.\n",
    "\n",
    "Note that $\\nu_{f,2} = \\nu_B$ and $\\nu_{i,1} = \\nu_A$. For the spacecraft to rendezvous with the planet at arrival, the true anomaly of the planet and the spacecraft must match. Plugging this relationship into Eq. {eq}`eq:interplanetary-final-planet-arrival-true-anomaly`, subtracting $\\nu_A$ from both sides, and using Eq. {eq}`eq:interplanetary-initial-true-anomaly` and Eq. {eq}`eq:interplanetary-transfer-true-anomaly`, we find:\n",
    "\n",
    ":::{math}\n",
    ":label: eq:interplanetary-initial-phase-angle\n",
    "\\begin{gathered}\n",
    "\\nu_{f,1} + n_f t_{12} = \\nu_B \\\\\n",
    "\\nu_{f,1} - \\nu_{i,1} + n_f t_{12} = \\nu_B - \\nu_A \\\\\n",
    "\\gamma_1 + n_f t_{12} = \\Gamma \\\\\n",
    "\\gamma_1 = \\Gamma - n_f t_{12}\n",
    "\\end{gathered}\n",
    ":::\n",
    "\n",
    "## Phase Angle at Arrival\n",
    "\n",
    "{numref}`fig:interplanetary-initial-phase-angle` can also be used to determine the phase angle at arrival, $\\gamma_2$. Similar to Eq. {eq}`eq:interplanetary-initial-true-anomaly`, we can write the final phase angle in terms of the true anomalies of the planets:\n",
    "\n",
    ":::{math}\n",
    ":label: eq:interplanetary-final-true-anomaly\n",
    "\\gamma_2 = \\nu_{f,2} - \\nu_{i,2}\n",
    ":::\n",
    "\n",
    "Plugging this relationship into Eq. {eq}`eq:interplanetary-initial-planet-arrival-true-anomaly`, subtracting $\\nu_A$ from both sides, and using Eq. {eq}`eq:interplanetary-transfer-true-anomaly`, we find:\n",
    "\n",
    ":::{math}\n",
    ":label: eq:interplanetary-final-phase-angle\n",
    "\\begin{gathered}\n",
    "\\nu_{f,2} - \\gamma_2 = \\nu_{i,1} + n_i t_{12} \\\\\n",
    "\\nu_{f,2} - \\nu_{A} - \\gamma_2 = \\nu_{i,1} - \\nu_A + n_i t_{12} \\\\\n",
    "\\gamma_2 = \\Gamma - n_i t_{12}\n",
    "\\end{gathered}\n",
    ":::\n",
    "\n",
    "## Phase Angles for a Return Trip\n",
    "\n",
    "Now let's assume that the spacecraft is located at the final planet and wants to return to the initial planet. What should the phase angle at departure from the final planet be? Assuming that the transfer time is the same for the return trip, we can see from Eq. {eq}`eq:interplanetary-final-phase-angle` that the phase angle for the return trip must be:\n",
    "\n",
    ":::{math}\n",
    ":label: eq:interplanetary-return-phase-angle\n",
    "\\gamma'_1 = - \\gamma_2\n",
    ":::\n",
    "\n",
    "where the prime superscript indicates that this is for the return trip. At arrival to the final planet, the phase angle is equal to $\\gamma_2$, so how long must the spacecraft wait for the phase angle to become equal to $\\gamma'_1$? Using Eq. {eq}`eq:planetary-phase-angle`, where $\\gamma_0 = \\gamma_2$, we can solve for the wait time:\n",
    "\n",
    ":::{math}\n",
    ":label: eq:interplanetary-wait-time-1\n",
    "\\begin{gathered}\n",
    "\\gamma'_1 = - \\gamma_2 = \\gamma_2 + (n_f - n_i) t_{\\text{wait}} \\\\\n",
    "t_{\\text{wait}} = \\frac{-2\\gamma_2}{n_f - n_i}\n",
    "\\end{gathered}\n",
    ":::\n",
    "\n",
    "Depending on the value of $\\gamma_2$, Eq. {eq}`eq:interplanetary-wait-time-1` may give a negative result. Therefore, we must add or subtract integer multiples of 2𝜋 until $t_{\\text{wait}}$ becomes positive.\n",
    "\n",
    ":::{math}\n",
    ":label: eq:interplanetary-wait-time\n",
    "\\begin{aligned}\n",
    "t_{\\text{wait}} &= \\frac{-2\\gamma_2 - 2\\pi N}{n_f - n_i} &&\\text{if } n_i > n_f \\\\\n",
    "t_{\\text{wait}} &= \\frac{-2\\gamma_2 + 2\\pi N}{n_f - n_i} &&\\text{if } n_i < n_f\n",
    "\\end{aligned}\n",
    ":::\n",
    "\n",
    "where $N = 0, 1, 2, \\ldots$ is chosen so that $t_{\\text{wait}}$ is positive.\n",
    "\n",
    "## Example: Neptune–Venus Hohmann Transfer\n",
    "\n",
    "Continuing the {ref}`example from the previous section <sec:neptune-venus-hohmann-example>`, we can determine the required phase angles for the Neptune–Venus Hohmann transfer and the total time taken for the transfer and the waiting period.\n",
    "\n",
    "First, we compute the mean motion of Neptune and Venus."
   ]
  },
  {
   "cell_type": "code",
   "execution_count": 1,
   "id": "74109325",
   "metadata": {},
   "outputs": [
    {
     "name": "stdout",
     "output_type": "stream",
     "text": [
      "heliocentric-hohmann-n_i 1.1939214198994486e-09\n",
      "heliocentric-hohmann-n_f 3.2364064159515087e-07\n"
     ]
    }
   ],
   "source": [
    "import math as m\n",
    "mu = 1.32712E11  # km**3/s**2\n",
    "\n",
    "T_i = 60910.25  # days\n",
    "T_f = 224.70  # days\n",
    "n_i = 2 * m.pi / (T_i * 86400)  # s\n",
    "n_f = 2 * m.pi / (T_f * 86400)  # s\n",
    "\n",
    "print(\"heliocentric-hohmann-n_i\", n_i)\n",
    "print(\"heliocentric-hohmann-n_f\", n_f)"
   ]
  },
  {
   "cell_type": "code",
   "execution_count": 2,
   "id": "c537f138",
   "metadata": {
    "tags": [
     "remove-cell"
    ]
   },
   "outputs": [
    {
     "data": {
      "text/plain": [
       "1.1939214198994486e-09"
      ]
     },
     "metadata": {
      "scrapbook": {
       "mime_prefix": "application/papermill.record/",
       "name": "heliocentric-hohmann-n_i"
      }
     },
     "output_type": "display_data"
    },
    {
     "data": {
      "text/plain": [
       "3.2364064159515087e-07"
      ]
     },
     "metadata": {
      "scrapbook": {
       "mime_prefix": "application/papermill.record/",
       "name": "heliocentric-hohmann-n_f"
      }
     },
     "output_type": "display_data"
    }
   ],
   "source": [
    "from functools import partial\n",
    "from myst_nb import glue as mystglue\n",
    "glue = partial(mystglue, display=False)\n",
    "glue(\"heliocentric-hohmann-n_i\", n_i)\n",
    "glue(\"heliocentric-hohmann-n_f\", n_f)"
   ]
  },
  {
   "cell_type": "markdown",
   "id": "f48601bf",
   "metadata": {},
   "source": [
    "The mean motion of Neptune is $n_i =$ {glue:text}`heliocentric-hohmann-n_i:.2e` rad/s and of Venus is $n_f =$ {glue:text}`heliocentric-hohmann-n_f:.2e` rad/s. For a Hohmann transfer, $\\Gamma = \\pi$ and the transfer time is found from Eq. {eq}`eq:hohmann-transfer-time`. Then, we can find the initial phase angle required."
   ]
  },
  {
   "cell_type": "code",
   "execution_count": 2,
   "id": "81e3e9da",
   "metadata": {},
   "outputs": [
    {
     "name": "stdout",
     "output_type": "stream",
     "text": [
      "heliocentric-hohmann-gamma_1 307.03803481437666\n"
     ]
    }
   ],
   "source": [
    "r_i = 4.53239E9  # km\n",
    "r_f = 1.08209E8  # km\n",
    "a_t = (r_i + r_f) / 2  # km\n",
    "t_12 = m.pi / m.sqrt(mu) * a_t**(3/2)  # s\n",
    "\n",
    "gamma_1 = (m.pi - n_f * t_12) % (2 * m.pi)\n",
    "print(\"heliocentric-hohmann-gamma_1\", m.degrees(gamma_1))"
   ]
  },
  {
   "cell_type": "code",
   "execution_count": 4,
   "id": "cda55299",
   "metadata": {
    "tags": [
     "remove-cell"
    ]
   },
   "outputs": [
    {
     "data": {
      "text/plain": [
       "307.03803481437666"
      ]
     },
     "metadata": {
      "scrapbook": {
       "mime_prefix": "application/papermill.record/",
       "name": "heliocentric-hohmann-gamma_1"
      }
     },
     "output_type": "display_data"
    }
   ],
   "source": [
    "glue(\"heliocentric-hohmann-gamma_1\", m.degrees(gamma_1))"
   ]
  },
  {
   "cell_type": "markdown",
   "id": "faee1a95",
   "metadata": {},
   "source": [
    "Note that we use the modulus (`%`) operator to bring the phase angle into the range of 0-2𝜋. The initial phase angle is $\\gamma_1 =$ {glue:text}`heliocentric-hohmann-gamma_1:.2f`°. Although this is the initial phase angle, Venus actually completes approximately 53 orbits of the Sun while waiting for the spacecraft to arrive from Neptune. We can compute the phase angle at arrival similarly."
   ]
  },
  {
   "cell_type": "code",
   "execution_count": 3,
   "id": "3014886d",
   "metadata": {},
   "outputs": [
    {
     "name": "stdout",
     "output_type": "stream",
     "text": [
      "heliocentric-hohmann-gamma_2 114.06603069964072\n"
     ]
    }
   ],
   "source": [
    "gamma_2 = (m.pi - n_i * t_12) % (2 * m.pi)\n",
    "print(\"heliocentric-hohmann-gamma_2\", m.degrees(gamma_2))"
   ]
  },
  {
   "cell_type": "code",
   "execution_count": 6,
   "id": "663b6a9e",
   "metadata": {
    "tags": [
     "remove-cell"
    ]
   },
   "outputs": [
    {
     "data": {
      "text/plain": [
       "114.06603069964072"
      ]
     },
     "metadata": {
      "scrapbook": {
       "mime_prefix": "application/papermill.record/",
       "name": "heliocentric-hohmann-gamma_2"
      }
     },
     "output_type": "display_data"
    }
   ],
   "source": [
    "glue(\"heliocentric-hohmann-gamma_2\", m.degrees(gamma_2))"
   ]
  },
  {
   "cell_type": "markdown",
   "id": "f6985274",
   "metadata": {},
   "source": [
    "The phase angle at arrival is $\\gamma_2 =$ {glue:text}`heliocentric-hohmann-gamma_2:.2f`°. These angles are shown in {numref}`fig:interplanetary-phase-angle-example`.\n",
    "\n",
    ":::{figure} ../images/interplanetary-phase-angle-example.svg\n",
    ":name: fig:interplanetary-phase-angle-example\n",
    ":width: 100%\n",
    "\n",
    "The figure on the left shows the transfer from Neptune inward to Venus. The figure on the right shows the return trip from Venus outward to Neptune. Note that Venus completes many orbits around the sun, while Neptune completes less than half of one orbit during this entire process.\n",
    ":::\n",
    "\n",
    "Using the final phase angle, we can compute the waiting time at Venus before a return Hohmann transfer is possible. Since $n_f > n_i$, we choose the positive version of Eq. {eq}`eq:interplanetary-wait-time`."
   ]
  },
  {
   "cell_type": "code",
   "execution_count": 7,
   "id": "057da612",
   "metadata": {},
   "outputs": [],
   "source": [
    "t_wait = []\n",
    "for N in (0, 1, 2, 3):\n",
    "    t = (-2 * gamma_2 + 2 * m.pi * N) / (n_f - n_i)\n",
    "    t_wait.append(t)\n",
    "\n",
    "for N in (0, 1, 2, 3):\n",
    "    glue(f\"heliocentric-hohmann-t_wait_{N}\", t_wait[N] / (525600 * 60))\n",
    "    if t_wait[N] > 0 and t_wait[N - 1] < 0:\n",
    "        glue(\"heliocentric-hohmann-t_total\", (2 * t_12 + t_wait[N]) / (525600 * 60))"
   ]
  },
  {
   "cell_type": "code",
   "execution_count": 8,
   "id": "a2f83e00",
   "metadata": {
    "tags": [
     "remove-cell"
    ]
   },
   "outputs": [
    {
     "data": {
      "text/plain": [
       "-0.3915607229097631"
      ]
     },
     "metadata": {
      "scrapbook": {
       "mime_prefix": "application/papermill.record/",
       "name": "heliocentric-hohmann-t_wait_0"
      }
     },
     "output_type": "display_data"
    },
    {
     "data": {
      "text/plain": [
       "0.22633515451712943"
      ]
     },
     "metadata": {
      "scrapbook": {
       "mime_prefix": "application/papermill.record/",
       "name": "heliocentric-hohmann-t_wait_1"
      }
     },
     "output_type": "display_data"
    },
    {
     "data": {
      "text/plain": [
       "61.353497309421385"
      ]
     },
     "metadata": {
      "scrapbook": {
       "mime_prefix": "application/papermill.record/",
       "name": "heliocentric-hohmann-t_total"
      }
     },
     "output_type": "display_data"
    },
    {
     "data": {
      "text/plain": [
       "0.8442310319440219"
      ]
     },
     "metadata": {
      "scrapbook": {
       "mime_prefix": "application/papermill.record/",
       "name": "heliocentric-hohmann-t_wait_2"
      }
     },
     "output_type": "display_data"
    },
    {
     "data": {
      "text/plain": [
       "1.4621269093709144"
      ]
     },
     "metadata": {
      "scrapbook": {
       "mime_prefix": "application/papermill.record/",
       "name": "heliocentric-hohmann-t_wait_3"
      }
     },
     "output_type": "display_data"
    }
   ],
   "source": [
    "for N in (0, 1, 2, 3):\n",
    "    glue(f\"heliocentric-hohmann-t_wait_{N}\", t_wait[N] / (525600 * 60))\n",
    "    if t_wait[N] > 0 and t_wait[N - 1] < 0:\n",
    "        glue(\"heliocentric-hohmann-t_total\", (2 * t_12 + t_wait[N]) / (525600 * 60))"
   ]
  },
  {
   "cell_type": "markdown",
   "id": "27c27fcb",
   "metadata": {},
   "source": [
    "The wait times are shown in {numref}`tab:heliocentric-hohmann-wait-times`. The total mission time, including the wait time, is {glue:text}`heliocentric-hohmann-t_total:.2f` years.\n",
    "\n",
    ":::{table} The wait times for heliocentric Hohmann transfers from Neptune to Venus and back.\n",
    ":name: tab:heliocentric-hohmann-wait-times\n",
    "\n",
    "| N | $t_{\\text{wait}}$ (years) |\n",
    "|---|-----------------------|\n",
    "| 0 | {glue:text}`heliocentric-hohmann-t_wait_0` |\n",
    "| 1 | {glue:text}`heliocentric-hohmann-t_wait_1` |\n",
    "| 2 | {glue:text}`heliocentric-hohmann-t_wait_2` |\n",
    "| 3 | {glue:text}`heliocentric-hohmann-t_wait_3` |\n",
    ":::\n",
    "\n",
    "Clearly, the total mission time is dominated by the transfer time. This is because the synodic period of Venus relative to Neptune is quite small, at only {glue:text}`heliocentric-hohmann-T_syn:.2f` Earth years. Since Venus whips around the Sun, relative to Neptune, the same phase angle occurs relatively often."
   ]
  },
  {
   "cell_type": "code",
   "execution_count": 4,
   "id": "6008a131",
   "metadata": {},
   "outputs": [
    {
     "name": "stdout",
     "output_type": "stream",
     "text": [
      "heliocentric-hohmann-T_syn 0.6174729507482978\n"
     ]
    }
   ],
   "source": [
    "T_syn = T_i * T_f / abs(T_i - T_f)  # days\n",
    "print(\"heliocentric-hohmann-T_syn\", T_syn / (365.25))"
   ]
  },
  {
   "cell_type": "code",
   "execution_count": 10,
   "id": "e6619740",
   "metadata": {
    "tags": [
     "remove-cell"
    ]
   },
   "outputs": [
    {
     "data": {
      "text/plain": [
       "0.6174729507482978"
      ]
     },
     "metadata": {
      "scrapbook": {
       "mime_prefix": "application/papermill.record/",
       "name": "heliocentric-hohmann-T_syn"
      }
     },
     "output_type": "display_data"
    }
   ],
   "source": [
    "glue(\"heliocentric-hohmann-T_syn\", T_syn / (365.25))"
   ]
  }
 ],
 "metadata": {
  "kernelspec": {
   "display_name": "Python 3 (ipykernel)",
   "language": "python",
   "name": "python3"
  },
  "language_info": {
   "codemirror_mode": {
    "name": "ipython",
    "version": 3
   },
   "file_extension": ".py",
   "mimetype": "text/x-python",
   "name": "python",
   "nbconvert_exporter": "python",
   "pygments_lexer": "ipython3",
   "version": "3.9.13"
  },
  "source_map": [
   12,
   201,
   211,
   218,
   222,
   231,
   234,
   238,
   242,
   245,
   258,
   265,
   271,
   288,
   292
  ]
 },
 "nbformat": 4,
 "nbformat_minor": 5
}
