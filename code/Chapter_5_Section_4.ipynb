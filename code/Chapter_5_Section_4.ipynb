{
 "cells": [
  {
   "cell_type": "code",
   "execution_count": 1,
   "id": "90f2da89",
   "metadata": {},
   "outputs": [
    {
     "name": "stdout",
     "output_type": "stream",
     "text": [
      "r = 8660.254037844386\n",
      "v = 7.0710678118654755\n",
      "v_r = 6.697263122599659\n",
      "v_p = 2.2686266036231424\n"
     ]
    }
   ],
   "source": [
    "#INPUT  5-1 (Python)\n",
    "\n",
    "import numpy as np\n",
    "\n",
    "r_vec = np.array((1_000, 5_000, 7_000))  # km.\n",
    "v_vec = np.array((3.0, 4.0, 5.0))  # km/s.\n",
    "mu = 3.986e5  # km^3/s^2.\n",
    "\n",
    "r = np.linalg.norm(r_vec)\n",
    "v = np.linalg.norm(v_vec)\n",
    "v_r = np.dot(r_vec / r, v_vec)\n",
    "v_p = np.sqrt(v ** 2 - v_r ** 2)\n",
    "\n",
    "print('r =',r)\n",
    "print('v =',v)\n",
    "print('v_r =',v_r)\n",
    "print('v_p =',v_p)\n"
   ]
  },
  {
   "cell_type": "code",
   "execution_count": 2,
   "id": "6e0d520d",
   "metadata": {},
   "outputs": [
    {
     "name": "stdout",
     "output_type": "stream",
     "text": [
      "h_vec = 6.697263122599659\n",
      "h = 2.2686266036231424\n"
     ]
    }
   ],
   "source": [
    "#INPUT  5-2 (Python)\n",
    "\n",
    "h_vec = np.cross(r_vec, v_vec)\n",
    "h = np.linalg.norm(h_vec)\n",
    "\n",
    "print('h_vec =',v_r)\n",
    "print('h =',v_p)\n"
   ]
  },
  {
   "cell_type": "code",
   "execution_count": 3,
   "id": "f46984a2",
   "metadata": {},
   "outputs": [
    {
     "name": "stdout",
     "output_type": "stream",
     "text": [
      "i = 2.165043638879379\n"
     ]
    }
   ],
   "source": [
    "#INPUT  5-3 (Python)\n",
    "\n",
    "i = np.arccos(h_vec[2] / h)\n",
    "print('i =',i)\n"
   ]
  },
  {
   "cell_type": "code",
   "execution_count": 4,
   "id": "560ab869",
   "metadata": {},
   "outputs": [
    {
     "name": "stdout",
     "output_type": "stream",
     "text": [
      "K = [0 0 1]\n",
      "N_vec = [-16000.  -3000.      0.]\n",
      "N = 16278.820596099706\n",
      "Omega = 3.3269406035854874\n"
     ]
    }
   ],
   "source": [
    "#INPUT  5-4 (Python)\n",
    "\n",
    "K = np.array((0, 0, 1))\n",
    "N_vec = np.cross(K, h_vec)\n",
    "N = np.linalg.norm(N_vec)\n",
    "Omega = 2 * np.pi - np.arccos(N_vec[0] / N)\n",
    "\n",
    "print('K =',K)\n",
    "print('N_vec =',N_vec)\n",
    "print('N =',N)\n",
    "print('Omega =',Omega)\n"
   ]
  },
  {
   "cell_type": "code",
   "execution_count": 5,
   "id": "e86ce719",
   "metadata": {},
   "outputs": [
    {
     "name": "stdout",
     "output_type": "stream",
     "text": [
      "e = 0.9475409674714041\n"
     ]
    }
   ],
   "source": [
    "#INPUT  5-5 (Python)\n",
    "\n",
    "K = np.array((0, 0, 1))\n",
    "N_vec = np.cross(K, h_vec)\n",
    "N = np.linalg.norm(N_vec)\n",
    "Omega = 2 * np.pi - np.arccos(N_vec[0] / N)\n",
    "\n",
    "# [section-5].\n",
    "e_vec = np.cross(v_vec, h_vec) / mu - r_vec / r\n",
    "e = np.linalg.norm(e_vec)\n",
    "print('e =',e)\n"
   ]
  },
  {
   "cell_type": "code",
   "execution_count": 6,
   "id": "520af67e",
   "metadata": {},
   "outputs": [
    {
     "name": "stdout",
     "output_type": "stream",
     "text": [
      "omega = 5.2899364871506\n"
     ]
    }
   ],
   "source": [
    "#INPUT  5-6 (Python)\n",
    "\n",
    "omega = 2 * np.pi - np.arccos(np.dot(N_vec, e_vec) / (N * e))\n",
    "print('omega =',omega)\n"
   ]
  },
  {
   "cell_type": "code",
   "execution_count": 7,
   "id": "7c0ca81c",
   "metadata": {},
   "outputs": [
    {
     "name": "stdout",
     "output_type": "stream",
     "text": [
      "nu = 2.7857482293260034\n"
     ]
    }
   ],
   "source": [
    "#INPUT  5-7 (Python)\n",
    "\n",
    "nu = np.arccos(np.dot(r_vec / r, e_vec / e))\n",
    "print('nu =',nu)\n"
   ]
  },
  {
   "cell_type": "code",
   "execution_count": 8,
   "id": "49578462",
   "metadata": {},
   "outputs": [
    {
     "name": "stdout",
     "output_type": "stream",
     "text": [
      "r_w = [-8117.71199255  3017.07673187     0.        ]\n",
      "v_w = [-7.06804598  0.20670287  0.        ]\n"
     ]
    }
   ],
   "source": [
    "#INPUT  5-8 (Python) \n",
    "\n",
    "r_w = h ** 2 / mu / (1 + e * np.cos(nu)) * np.array((np.cos(nu), np.sin(nu), 0))\n",
    "v_w = mu / h * np.array((-np.sin(nu), e + np.cos(nu), 0))\n",
    "print('r_w =',r_w)\n",
    "print('v_w =',v_w)\n"
   ]
  },
  {
   "cell_type": "code",
   "execution_count": 9,
   "id": "44d4e2bf",
   "metadata": {},
   "outputs": [
    {
     "name": "stdout",
     "output_type": "stream",
     "text": [
      "R = <scipy.spatial.transform._rotation.Rotation object at 0x000001AE6712F300>\n",
      "r_rot = [1000. 5000. 7000.]\n",
      "v_rot = [3. 4. 5.]\n"
     ]
    }
   ],
   "source": [
    "#INPUT  5-9  (Python)\n",
    "\n",
    "from scipy.spatial.transform import Rotation\n",
    "\n",
    "R = Rotation.from_euler(\"ZXZ\", [-omega, -i, -Omega])\n",
    "r_rot = r_w @ R.as_matrix()\n",
    "v_rot = v_w @ R.as_matrix()\n",
    "print('R =',R)\n",
    "print('r_rot =',r_rot)\n",
    "print('v_rot =',v_rot)\n"
   ]
  },
  {
   "cell_type": "code",
   "execution_count": null,
   "id": "054b0543",
   "metadata": {},
   "outputs": [],
   "source": []
  }
 ],
 "metadata": {
  "kernelspec": {
   "display_name": "Python 3 (ipykernel)",
   "language": "python",
   "name": "python3"
  },
  "language_info": {
   "codemirror_mode": {
    "name": "ipython",
    "version": 3
   },
   "file_extension": ".py",
   "mimetype": "text/x-python",
   "name": "python",
   "nbconvert_exporter": "python",
   "pygments_lexer": "ipython3",
   "version": "3.9.13"
  }
 },
 "nbformat": 4,
 "nbformat_minor": 5
}
