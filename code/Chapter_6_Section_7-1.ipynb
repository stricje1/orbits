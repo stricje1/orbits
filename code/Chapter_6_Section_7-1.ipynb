{
 "cells": [
  {
   "cell_type": "markdown",
   "id": "a4eb5aff",
   "metadata": {
    "tags": []
   },
   "source": [
    "# Example: Universal Variables\n",
    "\n",
    "An Earth-centered trajectory has initial velocity of 10 km/s, initial radius of 10,000 km, and initial true anomaly of 30°. Determine the true anomaly 1 hr later, using the universal anomaly.\n",
    "\n",
    "## Solution\n",
    "\n",
    "The general solution procedure is as follows.\n",
    "\n",
    "1. Determine the type of orbit\n",
    "2. Determine which eccentric anomaly is appropriate, depending on the type of orbit\n",
    "3. Determine the value of $\\chi$ at the later time\n",
    "4. Determine the value of the eccentric anomaly from $\\chi$\n",
    "5. Determine $\\nu$ from the eccentric anomaly\n",
    "\n",
    "To start, we need to identify the type of orbit. In the universal formulation, we know that if the semimajor axis is positive, the orbit is elliptical; if the semimajor axis is negative, the orbit is a hyperbola. We can find the semimajor axis from the energy equation:\n",
    "\n",
    "$$a = \\left(\\frac{2}{r_0} - \\frac{v_0^2}{\\mu}\\right)^{-1}$$"
   ]
  },
  {
   "cell_type": "code",
   "execution_count": 1,
   "id": "00f21119",
   "metadata": {},
   "outputs": [
    {
     "name": "stdout",
     "output_type": "stream",
     "text": [
      "a = -19654.94 km\n"
     ]
    }
   ],
   "source": [
    "import numpy as np\n",
    "from scipy.optimize import newton\n",
    "import matplotlib.pyplot as plt\n",
    "\n",
    "theta_0 = np.radians(30)\n",
    "r_0 = 10_000  # km\n",
    "v_0 = 10  # km/s\n",
    "mu = 3.986004418E5  # km**3/s**2\n",
    "\n",
    "a = 1 / (2 / r_0 - v_0**2 / mu)\n",
    "print('a =',round(a, 3), \"km\")"
   ]
  },
  {
   "cell_type": "markdown",
   "id": "01fae4dc",
   "metadata": {},
   "source": [
    "Since the semimajor axis is negative, we know the orbit is a hyperbola. Therefore, we can solve for the eccentricity using the orbit equation for a hyperbola, in terms of the semimajor axis:\n",
    "\n",
    "$$r_0 = a\\frac{e^2 - 1}{1 + e\\cos\\nu_0}$$\n",
    "\n",
    "Solving this equation for $e$, we find:\n",
    "\n",
    "$$0 = e^2 - \\frac{r_0}{a}\\cos\\nu_0 e - \\left(a + r_0\\right)$$\n",
    "\n",
    "This equation is quadratic in $e$, so we can use the quadratic formula to solve it. Notice that the signs of the second and third term are negative. In addition, we need to take the absolute value of the semimajor axis, because the orbit formula was developed assuming that $a$ was positive."
   ]
  },
  {
   "cell_type": "code",
   "execution_count": 2,
   "id": "32d09407",
   "metadata": {},
   "outputs": [
    {
     "name": "stdout",
     "output_type": "stream",
     "text": [
      "e = 1.468\n"
     ]
    }
   ],
   "source": [
    "e = (r_0/np.abs(a) * np.cos(theta_0) + np.sqrt((-r_0 / np.abs(a) * np.cos(theta_0))**2 + 4 * (1 + r_0/np.abs(a)))) / 2\n",
    "print('e =',round(e, 3))"
   ]
  },
  {
   "cell_type": "markdown",
   "id": "9ed5add3",
   "metadata": {},
   "source": [
    "As expected, the eccentricity is larger than 1 for a hyperbola.\n",
    "\n",
    "Next, to find the universal anomaly at $t_0$ + 1 hr, we need the initial radial velocity. From Ch. 2, we know that:\n",
    "\n",
    "$$v_r = \\frac{\\mu}{h} e \\sin\\nu$$\n",
    "\n",
    "The only unknown in this equation is $h$, since we are interested in the initial radial velocity, that is, when $\\nu = \\nu_0$. For a hyperbola, we can find the orbital angular momentum from the hyperbolic excess velocity:\n",
    "\n",
    "$$h = \\frac{\\mu}{v_{\\infty}} \\sqrt{e^2 - 1}$$\n",
    "\n",
    "and the hyperbolic excess velocity in terms of the semimajor axis:\n",
    "\n",
    "$$v_{\\infty} = \\sqrt{\\frac{\\mu}{a}}$$\n",
    "\n",
    "Note again that this formula was derived under the assumption that $a$ is positive, so we need to take the absolute value."
   ]
  },
  {
   "cell_type": "code",
   "execution_count": 3,
   "id": "856b8658",
   "metadata": {},
   "outputs": [
    {
     "name": "stdout",
     "output_type": "stream",
     "text": [
      "v_r0 = 3.075 km/s\n"
     ]
    }
   ],
   "source": [
    "v_infty = np.sqrt(mu / np.abs(a))\n",
    "h = mu / v_infty * np.sqrt(e**2 - 1)\n",
    "v_r0 = mu / h * e * np.sin(theta_0)\n",
    "print('v_r0 =',round(v_r0, 3), \"km/s\")"
   ]
  },
  {
   "cell_type": "markdown",
   "id": "f54e24f4",
   "metadata": {},
   "source": [
    "Now we have enough information to find the universal anomaly from Kepler's equation:\n",
    "\n",
    "$$f(\\chi) = 0 = \\frac{r_0 v_{r,0}}{\\sqrt{\\mu}}\\chi^2 C(z) + \\left(1 - \\alpha r_0\\right) \\chi^3 S(z)+ r_0 \\chi - \\sqrt{\\mu}\\Delta t$$\n",
    "\n",
    "where $z = \\alpha\\chi^2$. The derivative of this function is:\n",
    "\n",
    "$$f'(\\chi) = \\frac{r_0v_{r,0}}{\\sqrt{\\mu}} \\chi\\left(1 - z S(z)\\right) + \\left(1 - \\alpha r_0\\right) \\chi^2 C(z) + r_0$$\n",
    "\n",
    "The Stumpff functions $C(z) = c_0(z)$ and $S(z) = c_1(z)$ are:\n",
    "\n",
    "$$C(z) = \\begin{cases}\\displaystyle \\frac{1 - \\cos\\sqrt{z}}{z} & \\left(z > 0\\right)\\\\ \\displaystyle\\frac{\\cosh\\sqrt{-z} - 1}{-z} & \\left(z < 0\\right) \\\\ \\displaystyle\\frac{1}{2} & \\left(z = 0\\right)\\end{cases}$$\n",
    "\n",
    "and\n",
    "\n",
    "$$S(z) =\\begin{cases}\\displaystyle \\frac{\\sqrt{z} - \\sin\\sqrt{z}}{\\left(\\sqrt{z}\\right)^3} & \\left(z > 0\\right)\\\\ \\displaystyle \\frac{\\sinh\\sqrt{-z} - \\sqrt{-z}}{\\left(\\sqrt{-z}\\right)^3} & \\left(z < 0\\right) \\\\ \\displaystyle \\frac{1}{6} & \\left(z = 0\\right)\\end{cases}$$"
   ]
  },
  {
   "cell_type": "code",
   "execution_count": 4,
   "id": "3c66f007",
   "metadata": {},
   "outputs": [],
   "source": [
    "def stumpff_0(z):\n",
    "    \"\"\"Solve the Stumpff function C(z) = c0(z). The input z should be\n",
    "    a scalar value.\n",
    "    \"\"\"\n",
    "    if z > 0:\n",
    "        return (1 - np.cos(np.sqrt(z))) / z\n",
    "    elif z < 0:\n",
    "        return (np.cosh(np.sqrt(-z)) - 1) / (-z)\n",
    "    else:\n",
    "        return 1/2\n",
    "\n",
    "def stumpff_1(z):\n",
    "    \"\"\"Solve the Stumpff function S(z) = c1(z). The input z should be\n",
    "    a scalar value.\n",
    "    \"\"\"\n",
    "    if z > 0:\n",
    "        return (np.sqrt(z) - np.sin(np.sqrt(z))) / np.sqrt(z)**3\n",
    "    elif z < 0:\n",
    "        return (np.sinh(np.sqrt(-z)) - np.sqrt(-z)) / np.sqrt(-z)**3\n",
    "    else:\n",
    "        return 1/6\n",
    "\n",
    "def universal_kepler(chi, r_0, v_r0, alpha, delta_t, mu):\n",
    "    \"\"\"Solve the universal Kepler equation in terms of the universal anomaly chi.\n",
    "    \n",
    "    This function is intended to be used with an iterative solution algorithm,\n",
    "    such as Newton's algorithm.\n",
    "    \"\"\"\n",
    "    z = alpha * chi**2\n",
    "    first_term = r_0 * v_r0 / np.sqrt(mu) * chi**2 * stumpff_0(z)\n",
    "    second_term = (1 - alpha * r_0) * chi**3 * stumpff_1(z)\n",
    "    third_term = r_0 * chi\n",
    "    fourth_term = np.sqrt(mu) * delta_t\n",
    "    return first_term + second_term + third_term - fourth_term\n",
    "\n",
    "def d_universal_d_chi(chi, r_0, v_r0, alpha, delta_t, mu):\n",
    "    \"\"\"The derivative of the universal Kepler equation in terms of the universal anomaly.\"\"\"\n",
    "    z = alpha * chi**2\n",
    "    first_term = r_0 * v_r0 / np.sqrt(mu) * chi * (1 - z * stumpff_1(z))\n",
    "    second_term = (1 - alpha * r_0) * chi**2 * stumpff_0(z)\n",
    "    third_term = r_0\n",
    "    return first_term + second_term + third_term"
   ]
  },
  {
   "cell_type": "markdown",
   "id": "032b9ccf",
   "metadata": {},
   "source": [
    "Finally, we need to define the rest of the values for this function. By definition,\n",
    "\n",
    "$$\\alpha = \\frac{1}{a}$$\n",
    "\n",
    "and the initial guess for $\\chi$ is given by:\n",
    "\n",
    "$$\\chi_{i=0} = \\sqrt{\\mu} \\left\\lvert\\alpha\\right\\rvert \\Delta t$$"
   ]
  },
  {
   "cell_type": "code",
   "execution_count": 5,
   "id": "798e33b7",
   "metadata": {},
   "outputs": [
    {
     "name": "stdout",
     "output_type": "stream",
     "text": [
      "chi = 128.511\n"
     ]
    }
   ],
   "source": [
    "delta_t = 1 * 3600\n",
    "alpha = 1 / a\n",
    "chi_0 = np.sqrt(mu) * np.abs(alpha) * delta_t\n",
    "chi = newton(\n",
    "    func=universal_kepler,\n",
    "    fprime=d_universal_d_chi,\n",
    "    x0=chi_0,\n",
    "    args=(r_0, v_r0, alpha, delta_t, mu)\n",
    ")\n",
    "print('chi =',round(chi, 3))"
   ]
  },
  {
   "cell_type": "markdown",
   "id": "c66a4985",
   "metadata": {},
   "source": [
    "With $\\chi$ determined, we need to relate it back to the eccentric anomaly to determine the true anomaly. The appropriate eccentric anomaly is $F$, for hyperbolic trajectories. The relationship between $\\chi$ and $F$ is:\n",
    "\n",
    "$$\\chi = \\sqrt{-a} \\left(F - F_0\\right)$$\n",
    "\n",
    "where $F_0$ is the eccentric anomaly determined at the initial true anomaly:\n",
    "\n",
    "$$F_0 = 2 \\tanh^{-1}\\left(\\sqrt{\\frac{e - 1}{e + 1}}\\tan\\frac{\\nu_0}{2}\\right)$$"
   ]
  },
  {
   "cell_type": "code",
   "execution_count": 6,
   "id": "bc0f2131",
   "metadata": {},
   "outputs": [
    {
     "name": "stdout",
     "output_type": "stream",
     "text": [
      "F_0 = 0.234\n"
     ]
    }
   ],
   "source": [
    "F_0 = 2. * np.arctanh(np.sqrt((e - 1) / (e + 1)) * np.tan(theta_0 / 2))\n",
    "print('F_0 =',round(F_0, 3))"
   ]
  },
  {
   "cell_type": "markdown",
   "id": "0fd8e195",
   "metadata": {},
   "source": [
    "Then, we can solve for $F$ and relate that back to $\\nu$:\n",
    "\n",
    "$$F = \\frac{\\chi}{\\sqrt{-a}} + F_0$$\n",
    "\n",
    "and\n",
    "\n",
    "$$\\nu = 2 \\tan^{-1} \\left(\\sqrt{\\frac{e + 1}{e - 1}}\\tanh\\frac{F}{2}\\right)$$"
   ]
  },
  {
   "cell_type": "code",
   "execution_count": 7,
   "id": "df54abd5",
   "metadata": {},
   "outputs": [
    {
     "name": "stdout",
     "output_type": "stream",
     "text": [
      "1.151\n",
      "theta = 1.746 100.040°\n"
     ]
    }
   ],
   "source": [
    "F = chi / np.sqrt(-a) + F_0\n",
    "print(round(F, 3))\n",
    "theta = 2 * np.arctan(np.sqrt((e + 1) / (e - 1)) * np.tanh(F / 2))\n",
    "print('theta =',round(theta, 3), f\"{np.degrees(theta):.3F}°\")"
   ]
  },
  {
   "cell_type": "code",
   "execution_count": null,
   "id": "c6b6cadf-d58e-43bd-90c1-203bfe8c6de8",
   "metadata": {},
   "outputs": [],
   "source": []
  }
 ],
 "metadata": {
  "kernelspec": {
   "display_name": "Python 3 (ipykernel)",
   "language": "python",
   "name": "python3"
  },
  "language_info": {
   "codemirror_mode": {
    "name": "ipython",
    "version": 3
   },
   "file_extension": ".py",
   "mimetype": "text/x-python",
   "name": "python",
   "nbconvert_exporter": "python",
   "pygments_lexer": "ipython3",
   "version": "3.9.13"
  },
  "source_map": [
   12,
   32,
   44,
   56,
   59,
   77,
   82,
   100,
   143,
   153,
   164,
   174,
   177,
   187
  ]
 },
 "nbformat": 4,
 "nbformat_minor": 5
}
