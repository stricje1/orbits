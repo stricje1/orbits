{
 "cells": [
  {
   "cell_type": "markdown",
   "id": "dcf7635d",
   "metadata": {},
   "source": [
    "# Example: Hohmann Transfer\n",
    "\n",
    "The [Geostationary Operational Environmental Satellite](https://en.wikipedia.org/wiki/Geostationary_Operational_Environmental_Satellite) system encompasses a set of spacecraft to perform imaging of the earth from GEO. The most recently launched satellite is [GOES-17](https://en.wikipedia.org/wiki/GOES-17), which had a launch mass of 5,192 kg.\n",
    "\n",
    "Assume that the launch vehicle placed GOES-17 into a circular LEO with an altitude of 250 km. Determine the $\\Delta v$ and propellant mass required for a Hohmann transfer orbit to GEO.\n",
    "\n",
    "The total $\\Delta v$ requirement is the sum of the change required to go from LEO onto the transfer orbit, and the change required to go from the transfer orbit to GEO. First, let's calculate the velocity on the circular orbit."
   ]
  },
  {
   "cell_type": "code",
   "execution_count": 1,
   "id": "603b00a2",
   "metadata": {},
   "outputs": [
    {
     "name": "stdout",
     "output_type": "stream",
     "text": [
      "v_leo = 7.754921345146096\n"
     ]
    }
   ],
   "source": [
    "import math as m\n",
    "\n",
    "mu = 3.986E5  # km**3/s**2\n",
    "R_E = 6378  # km\n",
    "r_leo = 250 + R_E  # km\n",
    "\n",
    "v_leo = m.sqrt(mu / r_leo)\n",
    "print('v_leo =',v_leo)"
   ]
  },
  {
   "cell_type": "code",
   "execution_count": 2,
   "id": "25e1866f",
   "metadata": {
    "tags": [
     "remove-cell"
    ]
   },
   "outputs": [
    {
     "data": {
      "application/papermill.record/text/plain": "7.754921345146096"
     },
     "metadata": {
      "scrapbook": {
       "mime_prefix": "application/papermill.record/",
       "name": "v_leo"
      }
     },
     "output_type": "display_data"
    }
   ],
   "source": [
    "from functools import partial\n",
    "from myst_nb import glue as mystglue\n",
    "glue = partial(mystglue, display=False)\n",
    "glue(\"v_leo\", v_leo)"
   ]
  },
  {
   "cell_type": "markdown",
   "id": "6996580e",
   "metadata": {},
   "source": [
    "The LEO velocity is $v_{\\text{LEO}} =$ {glue:text}`v_leo:.3f` km/s. Next, let's calculate GEO altitude and velocity. We know for GEO that the satellite must be orbiting with the same angular velocity as the surface of Earth."
   ]
  },
  {
   "cell_type": "code",
   "execution_count": 3,
   "id": "776ea135",
   "metadata": {},
   "outputs": [
    {
     "name": "stdout",
     "output_type": "stream",
     "text": [
      "r_leo 6628\n",
      "v_leo 7.754921345146096\n"
     ]
    }
   ],
   "source": [
    "sidereal_day = 86164.0905  # s\n",
    "r_cubed = mu * sidereal_day**2 / (4 * m.pi**2)\n",
    "r_geo = r_cubed ** (1 / 3)\n",
    "v_geo = m.sqrt(mu / r_geo)\n",
    "print(\"r_leo\", r_leo)\n",
    "print(\"v_leo\", v_leo)"
   ]
  },
  {
   "cell_type": "code",
   "execution_count": 4,
   "id": "469e8102",
   "metadata": {
    "tags": [
     "remove-cell"
    ]
   },
   "outputs": [
    {
     "data": {
      "application/papermill.record/text/plain": "42164.154046132964"
     },
     "metadata": {
      "scrapbook": {
       "mime_prefix": "application/papermill.record/",
       "name": "r_geo"
      }
     },
     "output_type": "display_data"
    },
    {
     "data": {
      "application/papermill.record/text/plain": "3.074658963554191"
     },
     "metadata": {
      "scrapbook": {
       "mime_prefix": "application/papermill.record/",
       "name": "v_geo"
      }
     },
     "output_type": "display_data"
    }
   ],
   "source": [
    "glue(\"r_geo\", r_geo)\n",
    "glue(\"v_geo\", v_geo)"
   ]
  },
  {
   "cell_type": "markdown",
   "id": "2b5d75c6",
   "metadata": {},
   "source": [
    "The GEO radius is $r_{\\text{GEO}} =$ {glue:text}`r_geo:.3f` km and the velocity is $v_{\\text{GEO}} =$ {glue:text}`v_geo:.3f` km/s.\n",
    "\n",
    "The transfer ellipse will have a semi-major axis length, $a$, equal to half the total distance between the two circular orbits. In addition, the perigee radius of the transfer orbit will be equal to $r_{\\text{LEO}}$ and the apogee radius will be equal to $r_{\\text{GEO}}$. Using this information we can calculate the orbital angular momentum and the velocities."
   ]
  },
  {
   "cell_type": "code",
   "execution_count": 5,
   "id": "3d4f91ff",
   "metadata": {},
   "outputs": [
    {
     "name": "stdout",
     "output_type": "stream",
     "text": [
      "v_tp 10.195043779549575\n",
      "v_ta 1.602611310472905\n"
     ]
    }
   ],
   "source": [
    "r_p = r_leo\n",
    "r_a = r_geo\n",
    "h_t = m.sqrt(2 * mu * r_a * r_p / (r_a + r_p))\n",
    "v_tp = h_t / r_p\n",
    "v_ta = h_t / r_a\n",
    "print(\"v_tp\", v_tp)\n",
    "print(\"v_ta\", v_ta)"
   ]
  },
  {
   "cell_type": "code",
   "execution_count": 6,
   "id": "59ec7a07",
   "metadata": {
    "tags": [
     "remove-cell"
    ]
   },
   "outputs": [
    {
     "data": {
      "application/papermill.record/text/plain": "10.195043779549575"
     },
     "metadata": {
      "scrapbook": {
       "mime_prefix": "application/papermill.record/",
       "name": "v_tp"
      }
     },
     "output_type": "display_data"
    },
    {
     "data": {
      "application/papermill.record/text/plain": "1.602611310472905"
     },
     "metadata": {
      "scrapbook": {
       "mime_prefix": "application/papermill.record/",
       "name": "v_ta"
      }
     },
     "output_type": "display_data"
    }
   ],
   "source": [
    "glue(\"v_tp\", v_tp)\n",
    "glue(\"v_ta\", v_ta)"
   ]
  },
  {
   "cell_type": "markdown",
   "id": "17978a7c",
   "metadata": {},
   "source": [
    "This gives a transfer orbit perigee velocity of $v_{t,p} =$ {glue:text}`v_tp:.3f` km/s and apogee velocity of $v_{t,a} =$ {glue:text}`v_ta:.3f` km/s. Finally, we can calculate the $\\Delta v$ and the propellant mass $\\Delta m$. The [Centaur](https://en.wikipedia.org/wiki/Centaur_(rocket_stage)) rocket stage that served as the second stage for the GOES-17 mission has an $I_{sp}$ of 450.5 s."
   ]
  },
  {
   "cell_type": "code",
   "execution_count": 7,
   "id": "a56065c1",
   "metadata": {},
   "outputs": [
    {
     "name": "stdout",
     "output_type": "stream",
     "text": [
      "Delta_v 3.912170087484765\n",
      "Delta_m 3049.67120396877\n"
     ]
    }
   ],
   "source": [
    "Delta_v = abs(v_geo - v_ta) + abs(v_tp - v_leo)\n",
    "I_sp = 450.5\n",
    "goes_mass = 5_192  # kg\n",
    "Delta_m = goes_mass * (1 - m.exp(-Delta_v / (I_sp * 9.81E-3)))\n",
    "print(\"Delta_v\", Delta_v)\n",
    "print(\"Delta_m\", Delta_m)"
   ]
  },
  {
   "cell_type": "code",
   "execution_count": 8,
   "id": "59610d0b",
   "metadata": {
    "tags": [
     "remove-cell"
    ]
   },
   "outputs": [
    {
     "data": {
      "text/plain": [
       "3.912170087484765"
      ]
     },
     "metadata": {
      "scrapbook": {
       "mime_prefix": "application/papermill.record/",
       "name": "Delta_v"
      }
     },
     "output_type": "display_data"
    },
    {
     "data": {
      "text/plain": [
       "3049.67120396877"
      ]
     },
     "metadata": {
      "scrapbook": {
       "mime_prefix": "application/papermill.record/",
       "name": "Delta_m"
      }
     },
     "output_type": "display_data"
    }
   ],
   "source": [
    "glue(\"Delta_v\", Delta_v)\n",
    "glue(\"Delta_m\", Delta_m)"
   ]
  },
  {
   "cell_type": "markdown",
   "id": "6a5f19fd",
   "metadata": {},
   "source": [
    "Finally, the transfer velocity change is $\\Delta v =$ {glue:text}`Delta_v:.3f` km/s and the propellant mass is $\\Delta m =$ {glue:text}`Delta_m:.3f` kg."
   ]
  }
 ],
 "metadata": {
  "kernelspec": {
   "display_name": "Python 3 (ipykernel)",
   "language": "python",
   "name": "python3"
  },
  "language_info": {
   "codemirror_mode": {
    "name": "ipython",
    "version": 3
   },
   "file_extension": ".py",
   "mimetype": "text/x-python",
   "name": "python",
   "nbconvert_exporter": "python",
   "pygments_lexer": "ipython3",
   "version": "3.9.13"
  },
  "source_map": [
   12,
   22,
   32,
   38,
   42,
   49,
   53,
   59,
   67,
   71,
   75,
   82,
   86
  ],
  "toc-showmarkdowntxt": false
 },
 "nbformat": 4,
 "nbformat_minor": 5
}
