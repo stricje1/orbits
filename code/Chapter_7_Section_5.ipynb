{
 "cells": [
  {
   "cell_type": "markdown",
   "id": "d8203d61",
   "metadata": {},
   "source": [
    "# Non-Hohmann Transfers: Common Apse Line Example\n",
    "\n",
    "A satellite is in a 3,500 km by 14,500 km orbit around Earth. At 150° of true anomaly, the satellite conducts an impulsive maneuver for reentry at the apse line. Determine the $\\Delta v$ and the angle relative to local horizontal that the thrust vector makes.\n",
    "\n",
    "Note that in this case there will only be a single impulse and we will assume that reentry occurs at the radius of Earth, 6378.1 km. The original and the transfer orbit have the same apse line and the same focus. We will use Eq. {eq}`eq:non-hohmann-delta-v-scalar` to determine $\\Delta v$ and Eq. {eq}`eq:non-hohmann-thrust-direction` to determine $\\gamma$. These equations both require the velocity vector at 150° true anomaly on the original orbit and the transfer orbit.\n",
    "\n",
    "First we will find the orbital elements for the original orbit."
   ]
  },
  {
   "cell_type": "code",
   "execution_count": 1,
   "id": "66f673c8",
   "metadata": {},
   "outputs": [
    {
     "name": "stdout",
     "output_type": "stream",
     "text": [
      "common-apse-line-a_i 15378.099999999999\n",
      "common-apse-line-e_i 0.357651465395595\n"
     ]
    }
   ],
   "source": [
    "import math as m\n",
    "\n",
    "mu = 3.986E5  # km**3/s**2\n",
    "R_E = 6378.1  # km\n",
    "nu_A = m.radians(150)  # rad\n",
    "r_p_i = 3500 + R_E  # km\n",
    "r_a_i = 14500 + R_E  # km\n",
    "\n",
    "a_i = (r_p_i + r_a_i) / 2\n",
    "e_i = (r_a_i - r_p_i) / (r_a_i + r_p_i)\n",
    "p_i = a_i * (1 - e_i**2)\n",
    "\n",
    "print(\"common-apse-line-a_i\", a_i)\n",
    "print(\"common-apse-line-e_i\", e_i)"
   ]
  },
  {
   "cell_type": "code",
   "execution_count": 2,
   "id": "637a570d",
   "metadata": {
    "tags": [
     "remove-cell"
    ]
   },
   "outputs": [
    {
     "data": {
      "text/plain": [
       "15378.099999999999"
      ]
     },
     "metadata": {
      "scrapbook": {
       "mime_prefix": "application/papermill.record/",
       "name": "common-apse-line-a_i"
      }
     },
     "output_type": "display_data"
    },
    {
     "data": {
      "text/plain": [
       "0.357651465395595"
      ]
     },
     "metadata": {
      "scrapbook": {
       "mime_prefix": "application/papermill.record/",
       "name": "common-apse-line-e_i"
      }
     },
     "output_type": "display_data"
    }
   ],
   "source": [
    "from myst_nb import glue as myst_glue\n",
    "from functools import partial\n",
    "glue = partial(myst_glue, display=False)\n",
    "\n",
    "glue(\"common-apse-line-a_i\", a_i)\n",
    "glue(\"common-apse-line-e_i\", e_i)"
   ]
  },
  {
   "cell_type": "markdown",
   "id": "1abae09f",
   "metadata": {},
   "source": [
    "The semimajor axis is $a_i =$ {glue:text}`common-apse-line-a_i:.2f` km and the eccentricity is $e_i =$ {glue:text}`common-apse-line-e_i:.4f`. Next, we need to calculate $r_A$ and $r_B$ to determine the orbital parameters for the transfer orbit.\n",
    "\n",
    "There is no target orbit; rather, the target is a point on the apse line at the radius of Earth. Thus, $r_B =$ 6378.1 km and $\\nu_B =$ 0°. $r_A$ is found from the orbit equation on the initial orbit. Then, Eq. {eq}`eq:non-hohmann-orbital-elements` is used to find the orbital elements."
   ]
  },
  {
   "cell_type": "code",
   "execution_count": 2,
   "id": "ddbd7715",
   "metadata": {},
   "outputs": [
    {
     "name": "stdout",
     "output_type": "stream",
     "text": [
      "common-apse-line-e_t 0.56243483234737\n",
      "common-apse-line-a_t 14576.343071858466\n"
     ]
    }
   ],
   "source": [
    "r_A = p_i / (1 + e_i * m.cos(nu_A))\n",
    "r_B = R_E\n",
    "nu_B = 0  # rad\n",
    "\n",
    "e_t = (r_B - r_A) / (r_A * m.cos(nu_A) - r_B * m.cos(nu_B))\n",
    "p_t = r_A * r_B * (m.cos(nu_A) - m.cos(nu_B)) / (r_A * m.cos(nu_A) - r_B * m.cos(nu_B))\n",
    "a_t = p_t / (1 - e_t**2)\n",
    "\n",
    "print(\"common-apse-line-e_t\", e_t)\n",
    "print(\"common-apse-line-a_t\", a_t)"
   ]
  },
  {
   "cell_type": "code",
   "execution_count": 4,
   "id": "fce5ce15",
   "metadata": {
    "tags": [
     "remove-cell"
    ]
   },
   "outputs": [
    {
     "data": {
      "text/plain": [
       "0.56243483234737"
      ]
     },
     "metadata": {
      "scrapbook": {
       "mime_prefix": "application/papermill.record/",
       "name": "common-apse-line-e_t"
      }
     },
     "output_type": "display_data"
    },
    {
     "data": {
      "text/plain": [
       "14576.343071858466"
      ]
     },
     "metadata": {
      "scrapbook": {
       "mime_prefix": "application/papermill.record/",
       "name": "common-apse-line-a_t"
      }
     },
     "output_type": "display_data"
    }
   ],
   "source": [
    "glue(\"common-apse-line-e_t\", e_t)\n",
    "glue(\"common-apse-line-a_t\", a_t)"
   ]
  },
  {
   "cell_type": "markdown",
   "id": "81560674",
   "metadata": {},
   "source": [
    "The semimajor axis is $a_t =$ {glue:text}`common-apse-line-a_t:.2f` km and the eccentricity is $e_t =$ {glue:text}`common-apse-line-e_t:.4f`. Now we have enough information to determine the velocity components and the flight path angles on the original orbit and the transfer orbit."
   ]
  },
  {
   "cell_type": "code",
   "execution_count": 3,
   "id": "493dff4b",
   "metadata": {},
   "outputs": [
    {
     "name": "stdout",
     "output_type": "stream",
     "text": [
      "common-apse-line-v_p_i 3.763166936563865\n",
      "common-apse-line-v_p_t 3.2439133651560423\n",
      "common-apse-line-v_r_i 0.9749173622291322\n",
      "common-apse-line-v_r_t 1.7785424796102045\n",
      "common-apse-line-v_i 3.8874013499538833\n",
      "common-apse-line-v_t 3.6994847306639898\n",
      "common-apse-line-phi_i 14.52420398773961\n",
      "common-apse-line-phi_t 28.73466554544355\n"
     ]
    }
   ],
   "source": [
    "h_i = m.sqrt(p_i * mu)\n",
    "h_t = m.sqrt(p_t * mu)\n",
    "\n",
    "v_p_i = h_i / r_A\n",
    "v_p_t = h_t / r_A\n",
    "\n",
    "v_r_i = mu / h_i * e_i * m.sin(nu_A)\n",
    "v_r_t = mu / h_t * e_t * m.sin(nu_A)\n",
    "\n",
    "v_i = m.sqrt(v_p_i**2 + v_r_i**2)\n",
    "v_t = m.sqrt(v_p_t**2 + v_r_t**2)\n",
    "\n",
    "phi_i = m.degrees(m.atan2(v_r_i, v_p_i))\n",
    "phi_t = m.degrees(m.atan2(v_r_t, v_p_t))\n",
    "\n",
    "loc = locals()\n",
    "for n in (\"v_p\", \"v_r\", \"v\", \"phi\"):\n",
    "    name = n + \"_i\"\n",
    "    print(\"common-apse-line-\" + name, loc[name])\n",
    "    name = n + \"_t\"\n",
    "    print(\"common-apse-line-\" + name, loc[name])"
   ]
  },
  {
   "cell_type": "code",
   "execution_count": 6,
   "id": "d3cbce09",
   "metadata": {
    "tags": [
     "remove-cell"
    ]
   },
   "outputs": [
    {
     "data": {
      "text/plain": [
       "3.763166936563865"
      ]
     },
     "metadata": {
      "scrapbook": {
       "mime_prefix": "application/papermill.record/",
       "name": "common-apse-line-v_p_i"
      }
     },
     "output_type": "display_data"
    },
    {
     "data": {
      "text/plain": [
       "3.2439133651560423"
      ]
     },
     "metadata": {
      "scrapbook": {
       "mime_prefix": "application/papermill.record/",
       "name": "common-apse-line-v_p_t"
      }
     },
     "output_type": "display_data"
    },
    {
     "data": {
      "text/plain": [
       "0.9749173622291322"
      ]
     },
     "metadata": {
      "scrapbook": {
       "mime_prefix": "application/papermill.record/",
       "name": "common-apse-line-v_r_i"
      }
     },
     "output_type": "display_data"
    },
    {
     "data": {
      "text/plain": [
       "1.7785424796102045"
      ]
     },
     "metadata": {
      "scrapbook": {
       "mime_prefix": "application/papermill.record/",
       "name": "common-apse-line-v_r_t"
      }
     },
     "output_type": "display_data"
    },
    {
     "data": {
      "text/plain": [
       "3.8874013499538833"
      ]
     },
     "metadata": {
      "scrapbook": {
       "mime_prefix": "application/papermill.record/",
       "name": "common-apse-line-v_i"
      }
     },
     "output_type": "display_data"
    },
    {
     "data": {
      "text/plain": [
       "3.6994847306639898"
      ]
     },
     "metadata": {
      "scrapbook": {
       "mime_prefix": "application/papermill.record/",
       "name": "common-apse-line-v_t"
      }
     },
     "output_type": "display_data"
    },
    {
     "data": {
      "text/plain": [
       "14.52420398773961"
      ]
     },
     "metadata": {
      "scrapbook": {
       "mime_prefix": "application/papermill.record/",
       "name": "common-apse-line-phi_i"
      }
     },
     "output_type": "display_data"
    },
    {
     "data": {
      "text/plain": [
       "28.73466554544355"
      ]
     },
     "metadata": {
      "scrapbook": {
       "mime_prefix": "application/papermill.record/",
       "name": "common-apse-line-phi_t"
      }
     },
     "output_type": "display_data"
    }
   ],
   "source": [
    "loc = locals()\n",
    "for n in (\"v_p\", \"v_r\", \"v\", \"phi\"):\n",
    "    name = n + \"_i\"\n",
    "    glue(\"common-apse-line-\" + name, loc[name])\n",
    "    name = n + \"_t\"\n",
    "    glue(\"common-apse-line-\" + name, loc[name])"
   ]
  },
  {
   "cell_type": "markdown",
   "id": "cf5ac0e3",
   "metadata": {},
   "source": [
    "The velocities and flight path angles are shown in {numref}`tab:common-apse-line`.\n",
    "\n",
    ":::{table} Velocity components and flight path angles on the original and transfer orbits\n",
    ":name: tab:common-apse-line\n",
    ":align: center\n",
    "\n",
    "|  | Initial | Transfer |\n",
    "|:-|:--------|:---------|\n",
    "| $v_{\\perp}$ (km/s) | {glue:text}`common-apse-line-v_p_i:.2f` | {glue:text}`common-apse-line-v_p_t:.2f` |\n",
    "| $v_{r}$ (km/s) | {glue:text}`common-apse-line-v_r_i:.2f` | {glue:text}`common-apse-line-v_r_t:.2f` |\n",
    "| $v$ (km/s) | {glue:text}`common-apse-line-v_i:.2f` | {glue:text}`common-apse-line-v_t:.2f` |\n",
    "| $\\phi$ (deg.) | {glue:text}`common-apse-line-phi_i:.2f` | {glue:text}`common-apse-line-phi_t:.2f` |\n",
    "\n",
    ":::\n",
    "\n",
    "Finally, we can compute $\\Delta v$ and $\\gamma$."
   ]
  },
  {
   "cell_type": "code",
   "execution_count": 4,
   "id": "bc407d16",
   "metadata": {},
   "outputs": [
    {
     "name": "stdout",
     "output_type": "stream",
     "text": [
      "common-apse-line-Delta_v 0.9567850336964534\n",
      "common-apse-line-gamma 122.86808094635573\n"
     ]
    }
   ],
   "source": [
    "Delta_v = m.sqrt(v_i**2 + v_t**2 - 2 * v_i * v_t * m.cos(m.radians(phi_t - phi_i)))\n",
    "gamma = m.degrees(m.atan2(v_r_t - v_r_i, v_p_t - v_p_i))\n",
    "\n",
    "print(\"common-apse-line-Delta_v\", Delta_v)\n",
    "print(\"common-apse-line-gamma\", gamma)"
   ]
  },
  {
   "cell_type": "code",
   "execution_count": 8,
   "id": "ac3cac51",
   "metadata": {
    "tags": [
     "remove-cell"
    ]
   },
   "outputs": [
    {
     "data": {
      "text/plain": [
       "0.9567850336964534"
      ]
     },
     "metadata": {
      "scrapbook": {
       "mime_prefix": "application/papermill.record/",
       "name": "common-apse-line-Delta_v"
      }
     },
     "output_type": "display_data"
    },
    {
     "data": {
      "text/plain": [
       "122.86808094635573"
      ]
     },
     "metadata": {
      "scrapbook": {
       "mime_prefix": "application/papermill.record/",
       "name": "common-apse-line-gamma"
      }
     },
     "output_type": "display_data"
    }
   ],
   "source": [
    "glue(\"common-apse-line-Delta_v\", Delta_v)\n",
    "glue(\"common-apse-line-gamma\", gamma)"
   ]
  },
  {
   "cell_type": "markdown",
   "id": "543e344a",
   "metadata": {},
   "source": [
    "The required $\\Delta v=$ {glue:text}`common-apse-line-Delta_v:.4f` km/s and the angle of the thrust vector is $\\gamma =$ {glue:text}`common-apse-line-gamma:.2f`°."
   ]
  }
 ],
 "metadata": {
  "kernelspec": {
   "display_name": "Python 3 (ipykernel)",
   "language": "python",
   "name": "python3"
  },
  "language_info": {
   "codemirror_mode": {
    "name": "ipython",
    "version": 3
   },
   "file_extension": ".py",
   "mimetype": "text/x-python",
   "name": "python",
   "nbconvert_exporter": "python",
   "pygments_lexer": "ipython3",
   "version": "3.9.13"
  },
  "source_map": [
   12,
   22,
   36,
   44,
   50,
   60,
   64,
   68,
   85,
   93,
   112,
   117,
   121
  ]
 },
 "nbformat": 4,
 "nbformat_minor": 5
}
