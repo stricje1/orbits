{
 "cells": [
  {
   "cell_type": "markdown",
   "id": "47cf8db6",
   "metadata": {
    "tags": []
   },
   "source": [
    "# Example: Comparison of Bi-elliptic and Two-Impulse Hohmann Transfers\n",
    "\n",
    "As we discussed, bi-elliptic transfers can save $\\Delta v$ requirement when the initial and target orbits have very different radii. When the target orbit radius is more than about 15.5 times larger than the initial radius (or vice versa), the bi-elliptic transfer is more energy efficient than the standard, two-impulse, Hohmann transfer.\n",
    "\n",
    "In this example, we will explore this with some numbers, and also discuss the tradeoffs of a bielliptic transfer.\n",
    "\n",
    "Let's start the initial orbit at the radius of the moon, 385,000 km, and set the target as an LEO orbit of 500 km altitude. Assuming both orbits are circular, we can find the initial and target orbital velocities using Eq. {eq}`eq:circular-orbit-velocity`:"
   ]
  },
  {
   "cell_type": "code",
   "execution_count": 2,
   "id": "2b44b69b",
   "metadata": {
    "tags": [
     "remove-cell"
    ]
   },
   "outputs": [],
   "source": [
    "from functools import partial\n",
    "from myst_nb import glue as mystglue\n",
    "glue = partial(mystglue, display=False)"
   ]
  },
  {
   "cell_type": "code",
   "execution_count": 15,
   "id": "e78555bd",
   "metadata": {},
   "outputs": [
    {
     "name": "stdout",
     "output_type": "stream",
     "text": [
      "moon_circle_velocity = 1.01750961806616\n",
      "leo_circle_velocity = 7.612683989022529\n"
     ]
    }
   ],
   "source": [
    "import numpy as np\n",
    "\n",
    "mu = 398_600.4418  # km**3/s**2\n",
    "R_E = 6378  # km\n",
    "r_1 = 385_000  # km\n",
    "\n",
    "v_1 = np.sqrt(mu / r_1)  # km/s\n",
    "\n",
    "r_3 = 500 + R_E  # km\n",
    "v_3 = np.sqrt(mu / r_3)  # km/s\n",
    "print(\"moon_circle_velocity =\", v_1)\n",
    "print(\"leo_circle_velocity =\", v_3)"
   ]
  },
  {
   "cell_type": "code",
   "execution_count": 3,
   "id": "44ce8780",
   "metadata": {
    "tags": [
     "remove-cell"
    ]
   },
   "outputs": [
    {
     "data": {
      "text/plain": [
       "1.01750961806616"
      ]
     },
     "metadata": {
      "scrapbook": {
       "mime_prefix": "application/papermill.record/",
       "name": "moon_circle_velocity"
      }
     },
     "output_type": "display_data"
    },
    {
     "data": {
      "text/plain": [
       "7.612683989022529"
      ]
     },
     "metadata": {
      "scrapbook": {
       "mime_prefix": "application/papermill.record/",
       "name": "leo_circle_velocity"
      }
     },
     "output_type": "display_data"
    }
   ],
   "source": [
    "glue(\"moon_circle_velocity\", v_1)\n",
    "glue(\"leo_circle_velocity\", v_3)"
   ]
  },
  {
   "cell_type": "markdown",
   "id": "9facaf01",
   "metadata": {},
   "source": [
    "This gives velocities of $v_1 =$ {glue:text}`moon_circle_velocity:.3f` km/s and $v_3 =$ {glue:text}`leo_circle_velocity:.3f` km/s.\n",
    "\n",
    "Now we will calculate the standard two-impulse Hohmann transfer. The total $\\Delta v$ for the transfer is the sum of the $\\Delta v$ from the initial orbit onto the transfer orbit at perigee of the transfer, and the $\\Delta v$ from the transfer orbit onto the target orbit at the apogee of the transfer.\n",
    "\n",
    "First, we calculate the eccentricity, specific orbital angular momentum, and semimajor axis of the transfer orbit:\n",
    "\n",
    "$$\n",
    "e_t = \\frac{r_1 - r_3}{r_3 + r_1}\n",
    "$$\n",
    "\n",
    "$$\n",
    "h_t = \\sqrt{\\mu r_1 (1 - e)} = \\sqrt{\\mu r_3 (1 + e)}\n",
    "$$\n",
    "\n",
    "$$\n",
    "a_t = \\frac{r_3 + r_1}{2}\n",
    "$$"
   ]
  },
  {
   "cell_type": "code",
   "execution_count": 5,
   "id": "c84b4595",
   "metadata": {},
   "outputs": [
    {
     "name": "stdout",
     "output_type": "stream",
     "text": [
      "e_t = 0.9648972384262449\n",
      "h_t = 73395.5779635535\n",
      "a_t = 195939.0\n"
     ]
    }
   ],
   "source": [
    "e_t = (r_1 - r_3) / (r_1 + r_3)\n",
    "h_t = np.sqrt(r_1 * (1 - e_t) * mu)\n",
    "a_t = (r_3 + r_1) / 2\n",
    "print(\"e_t =\", e_t)\n",
    "print(\"h_t =\", h_t)\n",
    "print(\"a_t =\", a_t)"
   ]
  },
  {
   "cell_type": "code",
   "execution_count": 5,
   "id": "8cb5bfaa",
   "metadata": {
    "tags": [
     "remove-cell"
    ]
   },
   "outputs": [
    {
     "data": {
      "text/plain": [
       "0.9648972384262449"
      ]
     },
     "metadata": {
      "scrapbook": {
       "mime_prefix": "application/papermill.record/",
       "name": "e_t"
      }
     },
     "output_type": "display_data"
    },
    {
     "data": {
      "text/plain": [
       "73395.5779635535"
      ]
     },
     "metadata": {
      "scrapbook": {
       "mime_prefix": "application/papermill.record/",
       "name": "h_t"
      }
     },
     "output_type": "display_data"
    },
    {
     "data": {
      "text/plain": [
       "195939.0"
      ]
     },
     "metadata": {
      "scrapbook": {
       "mime_prefix": "application/papermill.record/",
       "name": "a_t"
      }
     },
     "output_type": "display_data"
    }
   ],
   "source": [
    "glue(\"e_t\", e_t)\n",
    "glue(\"h_t\", h_t)\n",
    "glue(\"a_t\", a_t)"
   ]
  },
  {
   "cell_type": "markdown",
   "id": "2fa61ee0",
   "metadata": {},
   "source": [
    "This gives $e_t =$ {glue:text}`e_t:.4f`, $h_t =$ {glue:text}`h_t:.3f` km<sup>2</sup>/s, and $a_t =$ {glue:text}`a_t:.4g` km. Now, the velocity at the perigee and apogee of the transfer orbit are determined from the specific orbital angular momentum."
   ]
  },
  {
   "cell_type": "code",
   "execution_count": 6,
   "id": "5465419b",
   "metadata": {},
   "outputs": [
    {
     "name": "stdout",
     "output_type": "stream",
     "text": [
      "v_p_t = 10.671063966785912\n",
      "v_a_t = 0.1906378648403987\n"
     ]
    }
   ],
   "source": [
    "v_p_t = h_t / r_3\n",
    "v_a_t = h_t / r_1\n",
    "print(\"v_p_t =\", v_p_t)\n",
    "print(\"v_a_t =\", v_a_t)"
   ]
  },
  {
   "cell_type": "code",
   "execution_count": 7,
   "id": "fcdc9afd",
   "metadata": {
    "tags": [
     "remove-cell"
    ]
   },
   "outputs": [
    {
     "data": {
      "text/plain": [
       "10.671063966785912"
      ]
     },
     "metadata": {
      "scrapbook": {
       "mime_prefix": "application/papermill.record/",
       "name": "v_p_t"
      }
     },
     "output_type": "display_data"
    },
    {
     "data": {
      "text/plain": [
       "0.1906378648403987"
      ]
     },
     "metadata": {
      "scrapbook": {
       "mime_prefix": "application/papermill.record/",
       "name": "v_a_t"
      }
     },
     "output_type": "display_data"
    }
   ],
   "source": [
    "glue(\"v_p_t\", v_p_t)\n",
    "glue(\"v_a_t\", v_a_t)"
   ]
  },
  {
   "cell_type": "markdown",
   "id": "77472a31",
   "metadata": {},
   "source": [
    "The velocity at the apogee of the transfer orbit is $v_{a,t} =$ {glue:text}`v_a_t:.3f` km/s, but the orbital velocity at the moon's orbit is over 1 km/s, a factor of nearly five. Now, let's calculate $\\Delta v$:"
   ]
  },
  {
   "cell_type": "code",
   "execution_count": 7,
   "id": "abd96dc7",
   "metadata": {},
   "outputs": [
    {
     "name": "stdout",
     "output_type": "stream",
     "text": [
      "delta_v_t = 3.885251730989144\n"
     ]
    }
   ],
   "source": [
    "delta_v_t = abs(v_p_t - v_3) + abs(v_1 - v_a_t)\n",
    "print(\"delta_v_t =\", delta_v_t)"
   ]
  },
  {
   "cell_type": "code",
   "execution_count": 9,
   "id": "30702147",
   "metadata": {
    "tags": [
     "remove-cell"
    ]
   },
   "outputs": [
    {
     "data": {
      "text/plain": [
       "3.885251730989144"
      ]
     },
     "metadata": {
      "scrapbook": {
       "mime_prefix": "application/papermill.record/",
       "name": "delta_v_t"
      }
     },
     "output_type": "display_data"
    }
   ],
   "source": [
    "glue(\"delta_v_t\", delta_v_t)"
   ]
  },
  {
   "cell_type": "markdown",
   "id": "b3bf2349",
   "metadata": {},
   "source": [
    "The $\\Delta v$ for the two-impulse Hohmann transfer is $\\Delta v =$ {glue:text}`delta_v_t:.3f` km/s.\n",
    "\n",
    "Next, let's do the bielliptic transfer. We pick $r_2 =$ 770,000 km, that is, apogee of the transfer orbit is 770,000 km from the center of the Earth. Now, we can calculate the eccentricity, specific orbital angular momentum, and velocities for the two transfer ellipses."
   ]
  },
  {
   "cell_type": "code",
   "execution_count": 8,
   "id": "ed4b8207",
   "metadata": {},
   "outputs": [
    {
     "name": "stdout",
     "output_type": "stream",
     "text": [
      "e_t1 = 0.3333333333333333\n",
      "e_t2 = 0.9822932300824583\n",
      "v_p_t1 = 1.1749189037870615\n",
      "v_p_t2 = 10.718197392689227\n",
      "v_a_t1 = 0.5874594518935308\n",
      "v_a_t2 = 0.09573995021677467\n"
     ]
    }
   ],
   "source": [
    "r_2 = 770_000  # km\n",
    "e_t1 = (r_2 - r_1) / (r_1 + r_2)\n",
    "h_t1 = np.sqrt(r_2 * (1 - e_t1) * mu)\n",
    "v_p_t1 = h_t1 / r_1\n",
    "v_a_t1 = h_t1 / r_2\n",
    "\n",
    "e_t2 = (r_2 - r_3) / (r_3 + r_2)\n",
    "h_t2 = np.sqrt(r_2 * (1 - e_t2) * mu)\n",
    "v_p_t2 = h_t2 / r_3\n",
    "v_a_t2 = h_t2 / r_2\n",
    "\n",
    "print(\"e_t1 =\", e_t1)\n",
    "print(\"e_t2 =\", e_t2)\n",
    "print(\"v_p_t1 =\", v_p_t1)\n",
    "print(\"v_p_t2 =\", v_p_t2)\n",
    "print(\"v_a_t1 =\", v_a_t1)\n",
    "print(\"v_a_t2 =\", v_a_t2)"
   ]
  },
  {
   "cell_type": "code",
   "execution_count": 11,
   "id": "2aef6aae",
   "metadata": {
    "tags": [
     "remove-cell"
    ]
   },
   "outputs": [
    {
     "data": {
      "text/plain": [
       "0.3333333333333333"
      ]
     },
     "metadata": {
      "scrapbook": {
       "mime_prefix": "application/papermill.record/",
       "name": "e_t1"
      }
     },
     "output_type": "display_data"
    },
    {
     "data": {
      "text/plain": [
       "0.9822932300824583"
      ]
     },
     "metadata": {
      "scrapbook": {
       "mime_prefix": "application/papermill.record/",
       "name": "e_t2"
      }
     },
     "output_type": "display_data"
    },
    {
     "data": {
      "text/plain": [
       "1.1749189037870615"
      ]
     },
     "metadata": {
      "scrapbook": {
       "mime_prefix": "application/papermill.record/",
       "name": "v_p_t1"
      }
     },
     "output_type": "display_data"
    },
    {
     "data": {
      "text/plain": [
       "10.718197392689227"
      ]
     },
     "metadata": {
      "scrapbook": {
       "mime_prefix": "application/papermill.record/",
       "name": "v_p_t2"
      }
     },
     "output_type": "display_data"
    },
    {
     "data": {
      "text/plain": [
       "0.5874594518935308"
      ]
     },
     "metadata": {
      "scrapbook": {
       "mime_prefix": "application/papermill.record/",
       "name": "v_a_t1"
      }
     },
     "output_type": "display_data"
    },
    {
     "data": {
      "text/plain": [
       "0.09573995021677467"
      ]
     },
     "metadata": {
      "scrapbook": {
       "mime_prefix": "application/papermill.record/",
       "name": "v_a_t2"
      }
     },
     "output_type": "display_data"
    }
   ],
   "source": [
    "glue(\"e_t1\", e_t1)\n",
    "glue(\"e_t2\", e_t2)\n",
    "glue(\"v_p_t1\", v_p_t1)\n",
    "glue(\"v_p_t2\", v_p_t2)\n",
    "glue(\"v_a_t1\", v_a_t1)\n",
    "glue(\"v_a_t2\", v_a_t2)"
   ]
  },
  {
   "cell_type": "markdown",
   "id": "db109f21",
   "metadata": {},
   "source": [
    "These velocities are $v_{p,t1} =$ {glue:text}`v_p_t1:.3f` km/s, $v_{a,t1} =$ {glue:text}`v_a_t1:.3f` km/s, $v_{p,t2} =$ {glue:text}`v_p_t2:.3f` km/s, and $v_{a,t2} =$ {glue:text}`v_a_t2:.3f` km/s.\n",
    "\n",
    "The difference in apogee velocities between the two transfer orbits is about 0.5 km/s, and now the velocity difference at lunar orbit is only about 0.18 km/s, much lower than before. The total $\\Delta v$ for these three impulses is:"
   ]
  },
  {
   "cell_type": "code",
   "execution_count": 10,
   "id": "e656debf",
   "metadata": {},
   "outputs": [
    {
     "name": "stdout",
     "output_type": "stream",
     "text": [
      "delta_v_b = 3.754642191064355\n",
      "delta_v_diff = 130.6095399247891\n",
      "delta_v_percent = 3.361675097730084\n"
     ]
    }
   ],
   "source": [
    "delta_v_b = abs(v_p_t1 - v_1) + abs(v_a_t2 - v_a_t1) + abs(v_p_t2 - v_3)\n",
    "delta_v_diff = abs(delta_v_t - delta_v_b) * 1000  # m/s\n",
    "print(\"delta_v_b =\", delta_v_b)\n",
    "print(\"delta_v_diff =\", delta_v_diff)\n",
    "print(\"delta_v_percent =\", delta_v_diff / delta_v_t / 10)"
   ]
  },
  {
   "cell_type": "code",
   "execution_count": 13,
   "id": "3d7d28e9",
   "metadata": {
    "tags": [
     "remove-cell"
    ]
   },
   "outputs": [
    {
     "data": {
      "text/plain": [
       "3.754642191064355"
      ]
     },
     "metadata": {
      "scrapbook": {
       "mime_prefix": "application/papermill.record/",
       "name": "delta_v_b"
      }
     },
     "output_type": "display_data"
    },
    {
     "data": {
      "text/plain": [
       "130.6095399247891"
      ]
     },
     "metadata": {
      "scrapbook": {
       "mime_prefix": "application/papermill.record/",
       "name": "delta_v_diff"
      }
     },
     "output_type": "display_data"
    },
    {
     "data": {
      "text/plain": [
       "3.361675097730084"
      ]
     },
     "metadata": {
      "scrapbook": {
       "mime_prefix": "application/papermill.record/",
       "name": "delta_v_percent"
      }
     },
     "output_type": "display_data"
    }
   ],
   "source": [
    "glue(\"delta_v_b\", delta_v_b)\n",
    "glue(\"delta_v_diff\", delta_v_diff)\n",
    "glue(\"delta_v_percent\", delta_v_diff / delta_v_t / 10)"
   ]
  },
  {
   "cell_type": "markdown",
   "id": "6f6916ca",
   "metadata": {},
   "source": [
    "For the bi-elliptic transfer, $\\Delta v =$ {glue:text}`delta_v_b:.3f` km/s, about {glue:text}`delta_v_diff:.0f` m/s, or {glue:text}`delta_v_percent:.2f`% less than the two-impulse Hohmann transfer.\n",
    "\n",
    "Assuming a 1000 kg spacecraft with an $I_{sp}$ of 300 s, this results in a savings of propellant of:"
   ]
  },
  {
   "cell_type": "code",
   "execution_count": 13,
   "id": "9754a028",
   "metadata": {},
   "outputs": [
    {
     "name": "stdout",
     "output_type": "stream",
     "text": [
      "delta_m_diff = 12.120371531829619\n"
     ]
    }
   ],
   "source": [
    "delta_m_t = 1000 * (1 - np.exp(-delta_v_t / (300 * 9.81E-3)))\n",
    "delta_m_b = 1000 * (1 - np.exp(- delta_v_b / (300 * 9.81E-3)))\n",
    "delta_m_diff = abs(delta_m_t - delta_m_b)\n",
    "print(\"delta_m_diff =\", delta_m_diff)"
   ]
  },
  {
   "cell_type": "code",
   "execution_count": 15,
   "id": "08df0b9d",
   "metadata": {
    "tags": [
     "remove-cell"
    ]
   },
   "outputs": [
    {
     "data": {
      "text/plain": [
       "12.120371531829619"
      ]
     },
     "metadata": {
      "scrapbook": {
       "mime_prefix": "application/papermill.record/",
       "name": "delta_m_diff"
      }
     },
     "output_type": "display_data"
    }
   ],
   "source": [
    "glue(\"delta_m_diff\", delta_m_diff)"
   ]
  },
  {
   "cell_type": "markdown",
   "id": "47d1ae71",
   "metadata": {},
   "source": [
    "The difference is {glue:text}`delta_m_diff:.1f` kg per 1000 kg of spacecraft mass.\n",
    "\n",
    "Although those numbers seem small, let's put them in context. For the Falcon 9, the [Full Thrust](https://en.wikipedia.org/wiki/Falcon_9_Full_Thrust) variant has a mass of 549,000 kg. The savings from the bi-elliptic transfer means that about 7,000 kg of fuel can be diverted to another use. The total payload capacity to Low Earth Orbit is about [23,000 kg](https://www.spacex.com/vehicles/falcon-9/), so this is a significant savings. Although this is a simplistic model of the rocket, we can at least see the order of magnitude of savings that are possible.\n",
    "\n",
    "On the other hand, the downside of the bielliptic transfer is the transit time. The period of an ellipse is given by Eq. {eq}`eq:ellipse-period-useful`."
   ]
  },
  {
   "cell_type": "code",
   "execution_count": 12,
   "id": "68754919",
   "metadata": {},
   "outputs": [
    {
     "name": "stdout",
     "output_type": "stream",
     "text": [
      "t_h = 4.995150448222449\n",
      "t_be = 39.21808403643855\n",
      "t_ratio = 7.851231798312404\n"
     ]
    }
   ],
   "source": [
    "t_h = np.pi / np.sqrt(mu) * a_t**(3/2)\n",
    "a_be_1 = (r_2 + r_1) / 2\n",
    "a_be_2 = (r_2 + r_3) / 2\n",
    "t_be = np.pi / np.sqrt(mu) * (a_be_1**(3/2) + a_be_2**(3/2))\n",
    "print(\"t_h =\", t_h / 86_400)\n",
    "print(\"t_be =\", t_be / 86_400)\n",
    "print(\"t_ratio =\", t_be / t_h)"
   ]
  },
  {
   "cell_type": "code",
   "execution_count": 17,
   "id": "fc7d3e59",
   "metadata": {
    "tags": [
     "remove-cell"
    ]
   },
   "outputs": [
    {
     "data": {
      "text/plain": [
       "4.995150448222449"
      ]
     },
     "metadata": {
      "scrapbook": {
       "mime_prefix": "application/papermill.record/",
       "name": "t_h"
      }
     },
     "output_type": "display_data"
    },
    {
     "data": {
      "text/plain": [
       "39.21808403643855"
      ]
     },
     "metadata": {
      "scrapbook": {
       "mime_prefix": "application/papermill.record/",
       "name": "t_be"
      }
     },
     "output_type": "display_data"
    },
    {
     "data": {
      "text/plain": [
       "7.851231798312404"
      ]
     },
     "metadata": {
      "scrapbook": {
       "mime_prefix": "application/papermill.record/",
       "name": "t_ratio"
      }
     },
     "output_type": "display_data"
    }
   ],
   "source": [
    "glue(\"t_h\", t_h / 86_400)\n",
    "glue(\"t_be\", t_be / 86_400)\n",
    "glue(\"t_ratio\", t_be / t_h)"
   ]
  },
  {
   "cell_type": "markdown",
   "id": "66bb1a45",
   "metadata": {},
   "source": [
    "The transfer time for the two-impulse Hohmann transfer is $t_h =$ {glue:text}`t_h:.3f` days, and for the bi-elliptic transfer it is $t_{be} =$ {glue:text}`t_be:.3f` days. The transfer time is almost {glue:text}`t_ratio:.0f`x longer for the bielliptic transfer!"
   ]
  }
 ],
 "metadata": {
  "kernelspec": {
   "display_name": "Python 3 (ipykernel)",
   "language": "python",
   "name": "python3"
  },
  "language_info": {
   "codemirror_mode": {
    "name": "ipython",
    "version": 3
   },
   "file_extension": ".py",
   "mimetype": "text/x-python",
   "name": "python",
   "nbconvert_exporter": "python",
   "pygments_lexer": "ipython3",
   "version": "3.9.13"
  },
  "source_map": [
   12,
   22,
   29,
   42,
   46,
   66,
   72,
   77,
   81,
   86,
   90,
   94,
   98,
   101,
   107,
   120,
   128,
   134,
   139,
   144,
   150,
   156,
   159,
   167,
   174,
   179
  ]
 },
 "nbformat": 4,
 "nbformat_minor": 5
}
