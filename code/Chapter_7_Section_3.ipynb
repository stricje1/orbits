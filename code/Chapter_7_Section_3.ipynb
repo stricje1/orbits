{
 "cells": [
  {
   "cell_type": "markdown",
   "id": "0209600d",
   "metadata": {},
   "source": [
    "# Phasing Maneuvers\n",
    "\n",
    "When two spacecraft want to rendezvous in space, they must simultaneously have the same position and velocity vectors. Common examples of rendezvous are resupply craft for the ISS or the Lunar Module (LM) with the Command and Service Module (CSM) during the Apollo missions.\n",
    "\n",
    "For two spacecraft to rendezvous, there are typically two stages to the maneuver:\n",
    "\n",
    "1. **Phasing maneuver**: The two spacecraft may begin the maneuver very far apart. The first stage of the rendezvous is to bring the two spacecraft into close proximity by performing a phasing maneuver, usually by one of the spacecraft.\n",
    "2. **Final approach**: Once the spacecraft are in close proximity, the final approach maneuver requires small adjustments to the approaching craft's velocity so that the two can match.\n",
    "\n",
    "In this section, we are going to focus on the first stage, the phasing maneuver. A phasing maneuver, in general, is a two-impulse transfer from an orbit into a different orbit, then back to the original orbit. The period of the transfer orbit is different from the original orbit, so the spacecraft will arrive back at the original impulse point at a different time than if it had stayed on the original orbit.\n",
    "\n",
    "We assume that the velocity change is applied parallel to the velocity vector at the impulse point. This gives the minimum propellant usage for such a maneuver, but is relatively slow. More general orbital transfers, including rendezvous maneuvers that require less than a full orbit, will be covered in [](./non-hohmann-transfers.md).\n",
    "\n",
    "## Returning At A Later Time\n",
    "\n",
    "As shown in {numref}`fig:phasing-orbit-increase-period`, two spacecraft are initially on Orbit 1. The chase or interceptor spacecraft is at the point marked _Impulse Point_ and the target spacecraft is _behind_ the chase craft in the orbit.\n",
    "\n",
    ":::{figure} ../images/phasing-orbit-increase-period.svg\n",
    ":width: 75%\n",
    ":name: fig:phasing-orbit-increase-period\n",
    "\n",
    "A phasing orbit to allow a target spacecraft to catch up to the interceptor spacecraft. The semi-major axis of the phasing orbit (Orbit 2, blue) is larger than the initial orbit, so the period of the phasing orbit is longer.\n",
    ":::\n",
    "\n",
    "At the impulse point, the interceptor spacecraft increases its velocity to place itself on Orbit 2. The period of Orbit 2 is:\n",
    "\n",
    "$$\n",
    "T_2 = \\frac{2\\pi}{\\sqrt{\\mu}} a_2^{3/2}\n",
    "$$\n",
    "\n",
    "while the period of Orbit 1 is:\n",
    "\n",
    "$$\n",
    "T_1 = \\frac{2\\pi}{\\sqrt{\\mu}} a_1^{3/2}\n",
    "$$\n",
    "\n",
    "Since $a_1 < a_2$, the period of Orbit 2 is greater. Therefore, while the interceptor craft travels 360° of true anomaly in time $T_2$, the target spacecraft travels _more than_ 360° of true anomaly. This allows the target spacecraft to catch up and reach the impulse point at the same time that the interceptor returns there.\n",
    "\n",
    "## Returning At An Earlier Time\n",
    "\n",
    "As shown in {numref}`fig:phasing-orbit-decrease-period`, two spacecraft are initially on Orbit 1. The chase or interceptor spacecraft is at the point marked _Impulse Point_ and the target spacecraft is _behind_ the chase craft in the orbit.\n",
    "\n",
    ":::{figure} ../images/phasing-orbit-decrease-period.svg\n",
    ":width: 75%\n",
    ":name: fig:phasing-orbit-decrease-period\n",
    "\n",
    "A phasing orbit to allow an interceptor spacecraft to catch up to the target spacecraft. The semi-major axis of the phasing orbit (Orbit 2, blue) is smaller than the initial orbit, so the period of the phasing orbit is shorter.\n",
    ":::\n",
    "\n",
    "At the impulse point, the interceptor spacecraft decreases its velocity to place itself on Orbit 2. The period of Orbit 2 is given by Eq. {eq}`eq:phasing-orbit-2-period` while the period of Orbit 1 is given by Eq. {eq}`eq:phasing-orbit-1-period`.\n",
    "\n",
    "Since $a_1 > a_2$, the period of Orbit 2 is smaller. Therefore, while the interceptor craft travels 360° of true anomaly in time $T_2$, the target spacecraft travels less than_ 360° of true anomaly. This allows the interceptor spacecraft to catch up and reach the impulse point at the same time that the target returns there.\n",
    "\n",
    "## Example\n",
    "\n",
    "Although we've treated phasing maneuvers as useful to rendezvous two spacecraft, they can also be used to change the longitude above which a satellite orbits. Assume a satellite is in GEO above the prime meridian, a longitude of 0°E. The target longitude is 137.2°W. Determine the $\\Delta v$ requirement if the phasing maneuver takes 1, 2, and 5 rotations of Earth.\n",
    "\n",
    "{numref}`fig:phasing-maneuver-example` shows the impulse point and the target longitude at the initial state. Earth is rotating counterclockwise and the orbit of the satellite is prograde, the same as Earth's rotation.\n",
    "\n",
    ":::{figure} ../images/phasing-maneuver-example.svg\n",
    ":name: fig:phasing-maneuver-example\n",
    ":width: 70%\n",
    "\n",
    "The initial conditions for the phasing maneuver to 137.2°W longitude. Not to scale.\n",
    ":::\n",
    "\n",
    "To find the $\\Delta v$ requirement, we need to know how much $\\Delta v$ is required to get onto the phasing orbit and then return back to GEO. This is determined by the GEO velocity as well as the velocity at the impulse point on the phasing orbit.\n",
    "\n",
    ":::{margin}\n",
    "If we wanted to get to a point in East longitude, we'd need to add 180° to find the total rotation that Earth has to do to reach the impulse point.\n",
    ":::\n",
    "\n",
    "The parameters of the phasing orbit depend on its period. For the satellite to be at the target longitude after the maneuver, the period of the phasing orbit has to be the same as the amount of time it takes for Earth to rotate 137.2°. After this amount of rotation, the target longitude will be pointing at the impulse point, and the satellite also needs to be at the impulse point at that moment to perform its second impulse and get back on GEO."
   ]
  },
  {
   "cell_type": "code",
   "execution_count": 10,
   "id": "a739bdf8",
   "metadata": {},
   "outputs": [
    {
     "name": "stdout",
     "output_type": "stream",
     "text": [
      "phasing_orbit_period_0 = 32838.092268333334\n",
      "phasing_orbit_hours_0 = 9.12169229675926\n"
     ]
    }
   ],
   "source": [
    "import math as m\n",
    "\n",
    "sidereal_day = 86_164.0905  # s\n",
    "omega_E = 2 * m.pi / sidereal_day  # rad/s\n",
    "target_longitude = 137.2  # °W longitude\n",
    "\n",
    "period_0 = m.radians(target_longitude) / omega_E  # s\n",
    "\n",
    "print(\"phasing_orbit_period_0 =\", period_0)\n",
    "print(\"phasing_orbit_hours_0 =\", period_0 / 3600)"
   ]
  },
  {
   "cell_type": "code",
   "execution_count": 11,
   "id": "022f9b41",
   "metadata": {
    "tags": [
     "remove-cell"
    ]
   },
   "outputs": [
    {
     "data": {
      "application/papermill.record/text/plain": "32838.092268333334"
     },
     "metadata": {
      "scrapbook": {
       "mime_prefix": "application/papermill.record/",
       "name": "phasing_orbit_period_0"
      }
     },
     "output_type": "display_data"
    },
    {
     "data": {
      "application/papermill.record/text/plain": "9.12169229675926"
     },
     "metadata": {
      "scrapbook": {
       "mime_prefix": "application/papermill.record/",
       "name": "phasing_orbit_hours_0"
      }
     },
     "output_type": "display_data"
    }
   ],
   "source": [
    "from functools import partial\n",
    "from myst_nb import glue as mystglue\n",
    "glue = partial(mystglue, display=False)\n",
    "glue(\"phasing_orbit_period_0\", period_0)\n",
    "glue(\"phasing_orbit_hours_0\", period_0 / 3600)"
   ]
  },
  {
   "cell_type": "markdown",
   "id": "459ae401",
   "metadata": {},
   "source": [
    "The period of the phasing orbit has to be $T =$ {glue:text}`phasing_orbit_period_0:.3f` s = {glue:text}`phasing_orbit_hours_0:.3f` h. With the period, we can calculate the semi-major axis distance of the phasing orbit."
   ]
  },
  {
   "cell_type": "code",
   "execution_count": 12,
   "id": "b136e859",
   "metadata": {},
   "outputs": [
    {
     "name": "stdout",
     "output_type": "stream",
     "text": [
      "phasing_orbit_a_0 = 22163.812377538627\n"
     ]
    }
   ],
   "source": [
    "mu = 3.986E5  # km**3/s**2\n",
    "period_constant = (mu / (4 * m.pi**2))**(1/3)\n",
    "a_0 = period_0**(2/3) * period_constant  # km\n",
    "print(\"phasing_orbit_a_0 =\", a_0)"
   ]
  },
  {
   "cell_type": "code",
   "execution_count": 13,
   "id": "e0237dda",
   "metadata": {
    "tags": [
     "remove-cell"
    ]
   },
   "outputs": [
    {
     "data": {
      "application/papermill.record/text/plain": "22163.812377538627"
     },
     "metadata": {
      "scrapbook": {
       "mime_prefix": "application/papermill.record/",
       "name": "phasing_orbit_a_0"
      }
     },
     "output_type": "display_data"
    }
   ],
   "source": [
    "glue(\"phasing_orbit_a_0\", a_0)"
   ]
  },
  {
   "cell_type": "markdown",
   "id": "992ec048",
   "metadata": {},
   "source": [
    "The semi-major axis of the phasing orbit is $a_0 =$ {glue:text}`phasing_orbit_a_0:.1f` km. Since the period of the phasing orbit is shorter than that of the GEO orbit, the impulse point is the apogee point of the phasing orbit. Thus, we know $a$ and $r_a$ for the phasing orbit and we can determine the other parameters from these two."
   ]
  },
  {
   "cell_type": "code",
   "execution_count": 14,
   "id": "5c34b0b7",
   "metadata": {},
   "outputs": [
    {
     "name": "stdout",
     "output_type": "stream",
     "text": [
      "phasing_orbit_v_geo = 3.074658963554191\n",
      "phasing_orbit_r_p_0 = 2163.470708944289\n"
     ]
    }
   ],
   "source": [
    "r_geo = sidereal_day**(2/3) * period_constant  # km\n",
    "v_geo = m.sqrt(mu / r_geo)\n",
    "\n",
    "r_a_0 = r_geo  # km\n",
    "r_p_0 = 2 * a_0 - r_a_0  # km\n",
    "\n",
    "print(\"phasing_orbit_v_geo =\", v_geo)\n",
    "print(\"phasing_orbit_r_p_0 =\", r_p_0)"
   ]
  },
  {
   "cell_type": "code",
   "execution_count": 15,
   "id": "65180de8",
   "metadata": {
    "tags": [
     "remove-cell"
    ]
   },
   "outputs": [
    {
     "data": {
      "application/papermill.record/text/plain": "3.074658963554191"
     },
     "metadata": {
      "scrapbook": {
       "mime_prefix": "application/papermill.record/",
       "name": "phasing_orbit_v_geo"
      }
     },
     "output_type": "display_data"
    },
    {
     "data": {
      "application/papermill.record/text/plain": "2163.470708944289"
     },
     "metadata": {
      "scrapbook": {
       "mime_prefix": "application/papermill.record/",
       "name": "phasing_orbit_r_p_0"
      }
     },
     "output_type": "display_data"
    }
   ],
   "source": [
    "glue(\"phasing_orbit_v_geo\", v_geo)\n",
    "glue(\"phasing_orbit_r_p_0\", r_p_0)"
   ]
  },
  {
   "cell_type": "markdown",
   "id": "15072409",
   "metadata": {},
   "source": [
    "The perigee radius of the phasing orbit is $r_{p_0} =$ {glue:text}`phasing_orbit_r_p_0:.2f` km. Since this is less than the radius of Earth, this phasing orbit is not possible. Nonetheless, we can calculate the $\\Delta v$ requirement for comparison.\n",
    "\n",
    "The two impulses in the phasing orbit occur at the same location relative to the phasing orbit. Thus, the $\\Delta v$ required to move from the initial orbit onto the phasing orbit has the same magnitude as the $\\Delta v$ required to do the reverse.\n",
    "\n",
    "When the period of the phasing orbit is less than the original orbit, and the impulse point is apoapsis of the phasing orbit, then we find:\n",
    "\n",
    "$$\n",
    "\\Delta v = 2 \\left\\lvert v_a - v_i \\right\\rvert\n",
    "$$\n",
    "\n",
    "where $v_a$ is the apoapsis velocity of the phasing orbit and $v_i$ is the velocity at the impulse point on the original orbit. Conversely, when the period of the phasing orbit is longer than the original orbit, we find that the impulse point is the periapsis of the phasing orbit, such that:\n",
    "\n",
    "$$\n",
    "\\Delta v = 2 \\left\\lvert v_p - v_i \\right\\rvert\n",
    "$$"
   ]
  },
  {
   "cell_type": "code",
   "execution_count": 16,
   "id": "f4d6f900",
   "metadata": {},
   "outputs": [
    {
     "name": "stdout",
     "output_type": "stream",
     "text": [
      "phasing_orbit_delta_v_0 = 4.228084100749884\n",
      "phasing_orbit_v_a_0 = 0.9606169131792489\n"
     ]
    }
   ],
   "source": [
    "E_0 = -mu / (2 * a_0)\n",
    "v_a_0 = m.sqrt(2 * (E_0 + mu / r_a_0))\n",
    "delta_v_0 = 2 * abs(v_a_0 - v_geo)\n",
    "\n",
    "print(\"phasing_orbit_delta_v_0 =\", delta_v_0)\n",
    "print(\"phasing_orbit_v_a_0 =\", v_a_0)"
   ]
  },
  {
   "cell_type": "code",
   "execution_count": 17,
   "id": "875f4b4b",
   "metadata": {
    "tags": [
     "remove-cell"
    ]
   },
   "outputs": [
    {
     "data": {
      "application/papermill.record/text/plain": "4.228084100749884"
     },
     "metadata": {
      "scrapbook": {
       "mime_prefix": "application/papermill.record/",
       "name": "phasing_orbit_delta_v_0"
      }
     },
     "output_type": "display_data"
    },
    {
     "data": {
      "application/papermill.record/text/plain": "0.9606169131792489"
     },
     "metadata": {
      "scrapbook": {
       "mime_prefix": "application/papermill.record/",
       "name": "phasing_orbit_v_a_0"
      }
     },
     "output_type": "display_data"
    }
   ],
   "source": [
    "glue(\"phasing_orbit_delta_v_0\", delta_v_0)\n",
    "glue(\"phasing_orbit_v_a_0\", v_a_0)"
   ]
  },
  {
   "cell_type": "markdown",
   "id": "c7516e28",
   "metadata": {},
   "source": [
    "The GEO velocity is $v_{\\text{GEO}} =$ {glue:text}`phasing_orbit_v_geo:.3f` km/s, the phasing orbit apogee velocity is $v_{a_0} =$ {glue:text}`phasing_orbit_v_a_0:.3f` km/s, and the $\\Delta v$ is {glue:text}`phasing_orbit_delta_v_0:.3f` km/s.\n",
    "\n",
    "Now, let's allow the phasing maneuver to cover multiple revolutions of Earth. This means that the period of the phasing orbit will be:\n",
    "\n",
    "$$\n",
    "T_{\\text{phasing}} = t_{137.2°} + n T_{\\text{one orbit}}\n",
    "$$\n",
    "\n",
    "where $T_{137.2°}$ is the time for the target longitude to reach the impulse point, $n$ is the number of Earth rotations, and $T_{\\text{one orbit}}$ is the period of one of the initial orbits. In this case, $T_{\\text{one orbit}}$ is one sidereal day, since the initial orbit is GEO.\n",
    "\n",
    "In this case, the period of the phasing orbit is longer than the GEO period, so the impulse point is at perigee of the phasing orbit."
   ]
  },
  {
   "cell_type": "code",
   "execution_count": 18,
   "id": "009c309e",
   "metadata": {
    "tags": []
   },
   "outputs": [],
   "source": [
    "r_p = r_geo\n",
    "def delta_v(a):\n",
    "    E = -mu / (2 * a)\n",
    "    v_p = m.sqrt(2 * (E + mu / r_p))\n",
    "    delta_v = 2 * abs(v_p - v_geo)\n",
    "    return delta_v\n",
    "\n",
    "n = 1\n",
    "period_1 = m.radians(target_longitude) / omega_E + n * sidereal_day  # s\n",
    "a_1 = period_1**(2/3) * period_constant  # km\n",
    "delta_v_1 = delta_v(a_1)\n",
    "\n",
    "n = 2\n",
    "period_2 = m.radians(target_longitude) / omega_E + n * sidereal_day  # s\n",
    "a_2 = period_2**(2/3) * period_constant  # km\n",
    "delta_v_2 = delta_v(a_2)\n",
    "\n",
    "n = 5\n",
    "period_5 = m.radians(target_longitude) / omega_E + n * sidereal_day  # s\n",
    "a_5 = period_5**(2/3) * period_constant  # km\n",
    "delta_v_5 = delta_v(a_5)"
   ]
  },
  {
   "cell_type": "code",
   "execution_count": 19,
   "id": "a5b69deb",
   "metadata": {
    "tags": [
     "remove-cell"
    ]
   },
   "outputs": [
    {
     "data": {
      "application/papermill.record/text/plain": "33.056161880092596"
     },
     "metadata": {
      "scrapbook": {
       "mime_prefix": "application/papermill.record/",
       "name": "phasing_orbit_hours_1 ="
      }
     },
     "output_type": "display_data"
    },
    {
     "data": {
      "application/papermill.record/text/plain": "0.5691245301877874"
     },
     "metadata": {
      "scrapbook": {
       "mime_prefix": "application/papermill.record/",
       "name": "phasing_orbit_delta_v_1 ="
      }
     },
     "output_type": "display_data"
    },
    {
     "data": {
      "application/papermill.record/text/plain": "56.99063146342593"
     },
     "metadata": {
      "scrapbook": {
       "mime_prefix": "application/papermill.record/",
       "name": "phasing_orbit_hours_2 ="
      }
     },
     "output_type": "display_data"
    },
    {
     "data": {
      "application/papermill.record/text/plain": "1.2277951470932713"
     },
     "metadata": {
      "scrapbook": {
       "mime_prefix": "application/papermill.record/",
       "name": "phasing_orbit_delta_v_2 ="
      }
     },
     "output_type": "display_data"
    },
    {
     "data": {
      "application/papermill.record/text/plain": "128.79404021342592"
     },
     "metadata": {
      "scrapbook": {
       "mime_prefix": "application/papermill.record/",
       "name": "phasing_orbit_hours_5 ="
      }
     },
     "output_type": "display_data"
    },
    {
     "data": {
      "application/papermill.record/text/plain": "1.8076934416098167"
     },
     "metadata": {
      "scrapbook": {
       "mime_prefix": "application/papermill.record/",
       "name": "phasing_orbit_delta_v_5 ="
      }
     },
     "output_type": "display_data"
    }
   ],
   "source": [
    "loc = locals()\n",
    "for n in (1, 2, 5):\n",
    "    glue(f\"phasing_orbit_hours_{n} =\", loc[f\"period_{n}\"] / 3600)\n",
    "    glue(f\"phasing_orbit_delta_v_{n} =\", loc[f\"delta_v_{n}\"])"
   ]
  },
  {
   "cell_type": "markdown",
   "id": "ce025356",
   "metadata": {},
   "source": [
    ":::{table} Comparison of results for various phasing orbits.\n",
    ":name: tab:phasing-orbit-comparison\n",
    ":align: center\n",
    "\n",
    "| Number of<br>Complete Rotations | Period (hours) | $\\Delta v$ (km/s) |\n",
    "|:-----------------------------|:---------------|:------------------|\n",
    "| 0 | {glue:text}`phasing_orbit_hours_0:.2f` | {glue:text}`phasing_orbit_delta_v_0:.3f` |\n",
    "| 1 | {glue:text}`phasing_orbit_hours_1:.2f` | {glue:text}`phasing_orbit_delta_v_1:.3f` |\n",
    "| 2 | {glue:text}`phasing_orbit_hours_2:.2f` | {glue:text}`phasing_orbit_delta_v_2:.3f` |\n",
    "| 5 | {glue:text}`phasing_orbit_hours_5:.2f` | {glue:text}`phasing_orbit_delta_v_5:.3f` |\n",
    ":::\n",
    "\n",
    "A comparison of the results is shown in {numref}`tab:phasing-orbit-comparison`. We can see that the impossible phasing orbit, taking only 9.2 hours and cutting through the earth, has the highest $\\Delta v$ requirement. The smallest $\\Delta v$ requirement is for the case of a single complete rotation of the earth. This is because having a longer period requires raising apogee higher than is necessary, incurring additional $\\Delta v$ to do so."
   ]
  },
  {
   "cell_type": "code",
   "execution_count": null,
   "id": "52969f4f-d547-47a0-8904-e0cbdd9a615c",
   "metadata": {},
   "outputs": [],
   "source": []
  }
 ],
 "metadata": {
  "kernelspec": {
   "display_name": "Python 3 (ipykernel)",
   "language": "python",
   "name": "python3"
  },
  "language_info": {
   "codemirror_mode": {
    "name": "ipython",
    "version": 3
   },
   "file_extension": ".py",
   "mimetype": "text/x-python",
   "name": "python",
   "nbconvert_exporter": "python",
   "pygments_lexer": "ipython3",
   "version": "3.9.13"
  },
  "source_map": [
   12,
   92,
   102,
   109,
   113,
   119,
   122,
   126,
   134,
   138,
   160,
   166,
   170,
   186,
   210,
   216
  ]
 },
 "nbformat": 4,
 "nbformat_minor": 5
}
